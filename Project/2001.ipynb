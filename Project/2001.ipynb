{
 "cells": [
  {
   "cell_type": "code",
   "execution_count": 1,
   "metadata": {},
   "outputs": [],
   "source": [
    "import numpy as np\n",
    "import numpy.linalg as lyn\n",
    "import random\n",
    "import urllib.request as urlreq\n",
    "import re\n",
    "import matplotlib.pyplot as plt\n",
    "%matplotlib inline"
   ]
  },
  {
   "cell_type": "code",
   "execution_count": 9,
   "metadata": {},
   "outputs": [
    {
     "name": "stdout",
     "output_type": "stream",
     "text": [
      "https://www.senate.gov/legislative/LIS/roll_call_lists/roll_call_vote_cfm.cfm?congress=107&session=1&vote=00378\n"
     ]
    }
   ],
   "source": [
    "#Get the Bills Voted On\n",
    "url = 'https://www.senate.gov/legislative/LIS/roll_call_lists/vote_menu_107_1.htm'\n",
    "req = urlreq.Request(url)\n",
    "resp = urlreq.urlopen(req)\n",
    "respData = resp.read()\n",
    "leader='https://www.senate.gov/l'\n",
    "listoflinks=[]\n",
    "data = re.findall(r'<tr(.*?)/tr>',str(respData))\n",
    "c=0\n",
    "for d in data:\n",
    "    if(\"A bill\" in d):\n",
    "        l=re.findall(r'/l(.*?)>',str(d))\n",
    "        listoflinks.append(leader+str(l)[2:-3])\n",
    "        c+=1\n",
    "print(listoflinks[1])\n",
    "#output = open('tester.txt','w')\n",
    "#output.write(str(respData))\n",
    "#output.close()"
   ]
  },
  {
   "cell_type": "code",
   "execution_count": 6,
   "metadata": {},
   "outputs": [],
   "source": [
    "def mySort(a):\n",
    "    if(a=='Yea'):\n",
    "        return 1\n",
    "    if(a=='Nay'):\n",
    "        return -1\n",
    "    return 0"
   ]
  },
  {
   "cell_type": "code",
   "execution_count": 11,
   "metadata": {},
   "outputs": [
    {
     "name": "stdout",
     "output_type": "stream",
     "text": [
      "h\n",
      "h\n",
      "h\n",
      "h\n",
      "h\n",
      "h\n",
      "h\n",
      "h\n",
      "h\n",
      "h\n",
      "h\n",
      "h\n",
      "h\n",
      "h\n",
      "h\n",
      "h\n",
      "h\n",
      "h\n",
      "h\n",
      "h\n",
      "h\n",
      "h\n",
      "h\n",
      "h\n",
      "h\n",
      "h\n",
      "h\n",
      "h\n",
      "h\n",
      "h\n",
      "h\n",
      "h\n",
      "h\n",
      "h\n",
      "h\n",
      "h\n",
      "h\n",
      "h\n",
      "h\n",
      "h\n",
      "h\n",
      "h\n",
      "h\n",
      "h\n",
      "h\n",
      "h\n",
      "h\n",
      "h\n",
      "h\n",
      "h\n",
      "h\n",
      "h\n",
      "h\n",
      "h\n",
      "h\n",
      "h\n",
      "h\n",
      "h\n",
      "h\n",
      "h\n",
      "h\n",
      "h\n",
      "h\n",
      "h\n"
     ]
    }
   ],
   "source": [
    "headers={}\n",
    "headers['User-Agent'] = 'Mozilla/5.0 (Windows NT 6.1) AppleWebKit/537.36 (KHTML, like Gecko) Chrome/41.0.2228.0 Safari/537.36'\n",
    "A=np.zeros((100,len(listoflinks)))\n",
    "c=0\n",
    "n=0\n",
    "bads=[]\n",
    "for links in listoflinks:\n",
    "    print(\"h\")\n",
    "    url2 = links\n",
    "    req2 = urlreq.Request(url2, headers=headers)\n",
    "    resp2 = urlreq.urlopen(req2)\n",
    "    respData2 = resp2.read()\n",
    "    data2 = re.findall(r'<span(.*?)/span>',str(respData2))\n",
    "    c=0\n",
    "    reldat=\"\"\n",
    "    for d in data2:\n",
    "        if(\"Akaka\" in str(d)):\n",
    "            if(c==0):\n",
    "                reldat=str(d)\n",
    "            c+=1\n",
    "    votes = re.findall(r'<b>(.*?)</b>',reldat)\n",
    "    v=list(map(mySort,votes))\n",
    "    myVotes=np.asarray(v)\n",
    "    if(myVotes.shape[0]==100):\n",
    "        A[:,n]=myVotes\n",
    "    else:\n",
    "        bads.append(n)\n",
    "    n+=1\n",
    "\n",
    "A=np.delete(A,bads,1)"
   ]
  },
  {
   "cell_type": "code",
   "execution_count": 12,
   "metadata": {},
   "outputs": [],
   "source": [
    "np.savetxt(\"2001VoteMatrix\",A)"
   ]
  },
  {
   "cell_type": "code",
   "execution_count": 13,
   "metadata": {},
   "outputs": [
    {
     "name": "stdout",
     "output_type": "stream",
     "text": [
      "[[ 0.  0.  0. ...  1.  1.  1.]\n",
      " [ 1. -1.  1. ...  1.  1.  1.]\n",
      " [ 1.  1.  1. ...  1.  1.  1.]\n",
      " ...\n",
      " [ 1.  1.  1. ...  1.  1.  1.]\n",
      " [ 1.  1. -1. ...  1.  1.  1.]\n",
      " [ 1.  1.  1. ...  1.  1.  1.]]\n"
     ]
    }
   ],
   "source": [
    "print(A)"
   ]
  },
  {
   "cell_type": "code",
   "execution_count": 15,
   "metadata": {},
   "outputs": [
    {
     "data": {
      "image/png": "[encoded data removed]",
      "text/plain": [
       "<Figure size 432x288 with 1 Axes>"
      ]
     },
     "metadata": {
      "needs_background": "light"
     },
     "output_type": "display_data"
    }
   ],
   "source": [
    "U,s,V=np.linalg.svd(A, full_matrices=False)\n",
    "plt.scatter(U[:,1],-U[:,0])\n",
    "\n",
    "plt.xlabel('partisan Coordinate')\n",
    "\n",
    "plt.ylabel('bipartisan Coordinate')\n",
    "\n",
    "plt.xlim([-0.15,0.15])\n",
    "\n",
    "plt.ylim([0,0.15])\n",
    "\n",
    "plt.yticks([0, 0.05, 0.1, 0.15]);"
   ]
  },
  {
   "cell_type": "code",
   "execution_count": 16,
   "metadata": {},
   "outputs": [
    {
     "name": "stdout",
     "output_type": "stream",
     "text": [
      "[0.20584426 0.13660076]\n"
     ]
    },
    {
     "data": {
      "image/png": "[encoded data removed]",
      "text/plain": [
       "<Figure size 432x288 with 1 Axes>"
      ]
     },
     "metadata": {
      "needs_background": "light"
     },
     "output_type": "display_data"
    }
   ],
   "source": [
    "plt.plot(s/s.sum(),'bo');\n",
    "\n",
    "print(s[:2]/s.sum())"
   ]
  },
  {
   "cell_type": "code",
   "execution_count": null,
   "metadata": {},
   "outputs": [],
   "source": []
  }
 ],
 "metadata": {
  "kernelspec": {
   "display_name": "Python 3",
   "language": "python",
   "name": "python3"
  },
  "language_info": {
   "codemirror_mode": {
    "name": "ipython",
    "version": 3
   },
   "file_extension": ".py",
   "mimetype": "text/x-python",
   "name": "python",
   "nbconvert_exporter": "python",
   "pygments_lexer": "ipython3",
   "version": "3.7.0"
  }
 },
 "nbformat": 4,
 "nbformat_minor": 2
}
