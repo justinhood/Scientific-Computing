{
 "cells": [
  {
   "cell_type": "code",
   "execution_count": 1,
   "metadata": {},
   "outputs": [],
   "source": [
    "import numpy as np\n",
    "import numpy.linalg as lyn\n",
    "import random\n",
    "import urllib.request as urlreq\n",
    "import re\n",
    "import matplotlib.pyplot as plt\n",
    "%matplotlib inline"
   ]
  },
  {
   "cell_type": "code",
   "execution_count": null,
   "metadata": {},
   "outputs": [],
   "source": []
  },
  {
   "cell_type": "code",
   "execution_count": 2,
   "metadata": {},
   "outputs": [],
   "source": [
    "#Get the Bills Voted On\n",
    "url = 'https://www.senate.gov/legislative/LIS/roll_call_lists/vote_menu_110_1.htm'\n",
    "req = urlreq.Request(url)\n",
    "resp = urlreq.urlopen(req)\n",
    "respData = resp.read()\n",
    "leader='https://www.senate.gov/l'\n",
    "listoflinks=[]\n",
    "data = re.findall(r'<tr(.*?)/tr>',str(respData))\n",
    "c=0\n",
    "for d in data:\n",
    "    if(\"A bill\" in d):\n",
    "        l=re.findall(r'/l(.*?)>',str(d))\n",
    "        listoflinks.append(leader+str(l)[2:-3])\n",
    "#output = open('tester.txt','w')\n",
    "#output.write(str(respData))\n",
    "#output.close()"
   ]
  },
  {
   "cell_type": "code",
   "execution_count": 3,
   "metadata": {},
   "outputs": [],
   "source": [
    "def mySort(a):\n",
    "    if(a=='Yea'):\n",
    "        return 1\n",
    "    if(a=='Nay'):\n",
    "        return -1\n",
    "    return 0"
   ]
  },
  {
   "cell_type": "code",
   "execution_count": 4,
   "metadata": {},
   "outputs": [],
   "source": [
    "headers={}\n",
    "headers['User-Agent'] = 'Mozilla/5.0 (Windows NT 6.1) AppleWebKit/537.36 (KHTML, like Gecko) Chrome/41.0.2228.0 Safari/537.36'\n",
    "A=np.zeros((100,len(listoflinks)))\n",
    "c=0\n",
    "n=0\n",
    "bads=[]\n",
    "for links in listoflinks:\n",
    "    url2 = links\n",
    "    req2 = urlreq.Request(url2, headers=headers)\n",
    "    resp2 = urlreq.urlopen(req2)\n",
    "    respData2 = resp2.read()\n",
    "    data2 = re.findall(r'<span(.*?)/span>',str(respData2))\n",
    "    c=0\n",
    "    reldat=\"\"\n",
    "    for d in data2:\n",
    "        if(\"Akaka\" in str(d)):\n",
    "            if(c==0):\n",
    "                reldat=str(d)\n",
    "            c+=1\n",
    "    votes = re.findall(r'<b>(.*?)</b>',reldat)\n",
    "    v=list(map(mySort,votes))\n",
    "    myVotes=np.asarray(v)\n",
    "    if(myVotes.shape[0]==100):\n",
    "        A[:,n]=myVotes\n",
    "    else:\n",
    "        bads.append(n)\n",
    "    n+=1\n",
    "A=np.delete(A,bads,1)"
   ]
  },
  {
   "cell_type": "code",
   "execution_count": 5,
   "metadata": {},
   "outputs": [],
   "source": [
    "np.savetxt(\"MyVoteMatrix\",A)"
   ]
  },
  {
   "cell_type": "code",
   "execution_count": 6,
   "metadata": {},
   "outputs": [],
   "source": [
    "U,s,V=np.linalg.svd(A, full_matrices=False)"
   ]
  },
  {
   "cell_type": "code",
   "execution_count": 7,
   "metadata": {},
   "outputs": [],
   "source": [
    "def MyA2(U,s,V):\n",
    "    A2=0\n",
    "    for i in range(0,2):\n",
    "        A2+=s[i]*np.outer(U[:,i],V.T[i,:])\n",
    "    print(A2)\n",
    "    return(A2)"
   ]
  },
  {
   "cell_type": "code",
   "execution_count": 8,
   "metadata": {},
   "outputs": [
    {
     "name": "stdout",
     "output_type": "stream",
     "text": [
      "[[ 1.20399184  0.34174648 -0.31872508 ...  0.70296366  0.76205445\n",
      "   0.13706226]\n",
      " [ 0.11297214 -1.21962111  0.02915685 ... -0.57083817 -0.49254205\n",
      "   0.09227412]\n",
      " [-0.5470233  -1.31068178  0.19933029 ... -0.90720337 -0.866895\n",
      "   0.01103214]\n",
      " ...\n",
      " [ 1.15060208  0.14827365 -0.29617726 ...  0.58107167  0.6479065\n",
      "   0.1422978 ]\n",
      " [ 1.18307289  0.50490307 -0.32116637 ...  0.77677693  0.8250128\n",
      "   0.12395265]\n",
      " [ 1.09447867  0.31378456 -0.28988171 ...  0.64061194  0.69414642\n",
      "   0.12439717]]\n"
     ]
    },
    {
     "data": {
      "text/plain": [
       "(100, 69)"
      ]
     },
     "execution_count": 8,
     "metadata": {},
     "output_type": "execute_result"
    }
   ],
   "source": [
    "A2=MyA2(U,s,V)\n",
    "A2.shape"
   ]
  },
  {
   "cell_type": "code",
   "execution_count": 15,
   "metadata": {},
   "outputs": [
    {
     "name": "stdout",
     "output_type": "stream",
     "text": [
      "[52.57182606 38.21809793 25.39876651 14.39732404 13.2530467  10.05963344\n",
      "  9.82030476  9.17665839  8.8748785   8.20037375  7.71318563  7.59772503\n",
      "  7.42179393  7.00981533  6.7845114   6.47097886  6.26102685  5.97221556\n",
      "  5.87481344  5.56291737  5.49642143  5.39226264  5.12542785  5.05564366\n",
      "  5.00928379  4.75877526  4.47533519  4.259271    4.21725424  4.09801908\n",
      "  4.03006566  3.96164479  3.815885    3.61618537  3.53183663  3.3081849\n",
      "  3.18084105  3.0276654   2.91817884  2.87041708  2.76361899  2.71814215\n",
      "  2.55722417  2.52262804  2.39525839  2.22585972  2.14483174  2.09069239\n",
      "  2.02086458  1.89149809  1.80166435  1.71900226  1.69025566  1.55570119\n",
      "  1.5068851   1.42876194  1.34433335  1.20033962  1.1478363   1.04244916\n",
      "  0.98705739  0.87560135  0.74115446  0.66821522  0.56244992  0.49697769\n",
      "  0.42184458  0.3581214   0.30548874]\n"
     ]
    }
   ],
   "source": [
    "#print(np.matmul(U,np.matmul(np.diag(s),V)))\n",
    "print(s)"
   ]
  },
  {
   "cell_type": "code",
   "execution_count": 18,
   "metadata": {},
   "outputs": [
    {
     "data": {
      "image/png": "[encoded data removed]",
      "text/plain": [
       "<Figure size 432x288 with 1 Axes>"
      ]
     },
     "metadata": {
      "needs_background": "light"
     },
     "output_type": "display_data"
    }
   ],
   "source": [
    "plt.scatter(A2[:,0],A2[:,1]);"
   ]
  },
  {
   "cell_type": "code",
   "execution_count": null,
   "metadata": {},
   "outputs": [],
   "source": []
  },
  {
   "cell_type": "code",
   "execution_count": null,
   "metadata": {},
   "outputs": [],
   "source": []
  }
 ],
 "metadata": {
  "kernelspec": {
   "display_name": "Python 3",
   "language": "python",
   "name": "python3"
  },
  "language_info": {
   "codemirror_mode": {
    "name": "ipython",
    "version": 3
   },
   "file_extension": ".py",
   "mimetype": "text/x-python",
   "name": "python",
   "nbconvert_exporter": "python",
   "pygments_lexer": "ipython3",
   "version": "3.7.0"
  }
 },
 "nbformat": 4,
 "nbformat_minor": 2
}
