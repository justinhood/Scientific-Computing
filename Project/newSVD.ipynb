{
 "cells": [
  {
   "cell_type": "code",
   "execution_count": 2,
   "metadata": {},
   "outputs": [],
   "source": [
    "import numpy as np"
   ]
  },
  {
   "cell_type": "code",
   "execution_count": 91,
   "metadata": {},
   "outputs": [],
   "source": [
    "def newSVD(A):\n",
    "    if(np.array_equal(A,A.T)):\n",
    "        print(\"Symmetric\")\n",
    "        D,V = np.linalg.eig(np.dot(A.T,A))\n",
    "        D=np.sqrt(D)\n",
    "        s=D[np.flip(np.argsort(D))]\n",
    "        #Reorder the eigenvector columns to match order of singular values\n",
    "        V=V[:,np.flip(np.argsort(D))]\n",
    "        U = A.dot(V)/s\n",
    "        #return V,s,V #Doesnt Work\n",
    "        return U,s,V #Works\n",
    "    else:\n",
    "        D,V = np.linalg.eig(np.dot(A.T,A))\n",
    "        D=np.sqrt(D)\n",
    "        s=D[np.flip(np.argsort(D))]\n",
    "        #Reorder the eigenvector columns to match order of singular values\n",
    "        V=V[:,np.flip(np.argsort(D))]\n",
    "        U = A.dot(V)/s\n",
    "        return U,s,V"
   ]
  },
  {
   "cell_type": "code",
   "execution_count": 90,
   "metadata": {},
   "outputs": [
    {
     "name": "stdout",
     "output_type": "stream",
     "text": [
      "[[1 2 3]\n",
      " [2 1 4]\n",
      " [3 4 1]]\n",
      "Symmetric\n",
      "[[ 0.50578521  0.25523155 -0.82403773]\n",
      " [ 0.58437383  0.60130182  0.54492509]\n",
      " [ 0.63457746 -0.75716113  0.15497893]]\n",
      "[7.07467358 3.1878826  0.88679099]\n",
      "[[ 0.50578521 -0.25523155  0.82403773]\n",
      " [ 0.58437383 -0.60130182 -0.54492509]\n",
      " [ 0.63457746  0.75716113 -0.15497893]]\n"
     ]
    },
    {
     "data": {
      "text/plain": [
       "array([[1., 2., 3.],\n",
       "       [2., 1., 4.],\n",
       "       [3., 4., 1.]])"
      ]
     },
     "execution_count": 90,
     "metadata": {},
     "output_type": "execute_result"
    }
   ],
   "source": [
    "A=np.array([[1,2,3],[2,1,4],[3,4,1]])\n",
    "print(A)\n",
    "U,s,V = newSVD(A)\n",
    "print(U)\n",
    "print(s)\n",
    "print(V)\n",
    "np.dot(U,np.dot(np.diag(s),V.T))"
   ]
  },
  {
   "cell_type": "code",
   "execution_count": null,
   "metadata": {},
   "outputs": [],
   "source": []
  },
  {
   "cell_type": "code",
   "execution_count": 50,
   "metadata": {},
   "outputs": [
    {
     "name": "stdout",
     "output_type": "stream",
     "text": [
      "[[1. 2. 3.]\n",
      " [2. 1. 4.]\n",
      " [3. 4. 1.]\n",
      " [1. 1. 1.]]\n",
      "[[ 0.49051953  0.25988846 -0.83177435]\n",
      " [ 0.56694707  0.60603111  0.52369865]\n",
      " [ 0.61790503 -0.75122634  0.12967391]\n",
      " [ 0.23697042 -0.02903905  0.13067451]]\n",
      "[7.28198365 3.18932577 0.89493871]\n",
      "[[ 0.51017681 -0.25421279  0.82164194]\n",
      " [ 0.58453532 -0.59828833 -0.54805979]\n",
      " [ 0.63090259  0.75988613 -0.15663648]]\n"
     ]
    },
    {
     "data": {
      "text/plain": [
       "array([[1., 2., 3.],\n",
       "       [2., 1., 4.],\n",
       "       [3., 4., 1.],\n",
       "       [1., 1., 1.]])"
      ]
     },
     "execution_count": 50,
     "metadata": {},
     "output_type": "execute_result"
    }
   ],
   "source": [
    "A=np.array([[1,2,3],[2,1,4],[3,4,1],[1,1,1]],dtype=float)\n",
    "print(A)\n",
    "U,s,V = newSVD(A)\n",
    "print(U)\n",
    "print(s)\n",
    "print(V)\n",
    "np.dot(U,np.dot(np.diag(s),V.T))"
   ]
  },
  {
   "cell_type": "code",
   "execution_count": null,
   "metadata": {},
   "outputs": [],
   "source": []
  },
  {
   "cell_type": "code",
   "execution_count": null,
   "metadata": {},
   "outputs": [],
   "source": []
  },
  {
   "cell_type": "code",
   "execution_count": null,
   "metadata": {},
   "outputs": [],
   "source": []
  }
 ],
 "metadata": {
  "kernelspec": {
   "display_name": "Python 3",
   "language": "python",
   "name": "python3"
  },
  "language_info": {
   "codemirror_mode": {
    "name": "ipython",
    "version": 3
   },
   "file_extension": ".py",
   "mimetype": "text/x-python",
   "name": "python",
   "nbconvert_exporter": "python",
   "pygments_lexer": "ipython3",
   "version": "3.7.0"
  }
 },
 "nbformat": 4,
 "nbformat_minor": 2
}
