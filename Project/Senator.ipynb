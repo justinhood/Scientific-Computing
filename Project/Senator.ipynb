{
 "cells": [
  {
   "cell_type": "code",
   "execution_count": 1,
   "metadata": {},
   "outputs": [],
   "source": [
    "import numpy as np"
   ]
  },
  {
   "cell_type": "code",
   "execution_count": 2,
   "metadata": {},
   "outputs": [],
   "source": [
    "class Senator:\n",
    "    def __init__(self, name, n, party):\n",
    "        self.name=name\n",
    "        self.votes=np.zeros(n)\n",
    "        self.party=party\n",
    "    \n",
    "    def printName(self):\n",
    "        print(self.name)\n",
    "    def getName(self):\n",
    "        return self.name\n",
    "    def getVotes(self):\n",
    "        return self.votes\n",
    "    def getParty(self):\n",
    "        return self.party\n",
    "    def printVotes(self):\n",
    "        print(self.votes)\n",
    "    def setVotes(self, val, pos):\n",
    "        self.votes[pos]=val"
   ]
  },
  {
   "cell_type": "code",
   "execution_count": null,
   "metadata": {},
   "outputs": [],
   "source": []
  }
 ],
 "metadata": {
  "kernelspec": {
   "display_name": "Python 3",
   "language": "python",
   "name": "python3"
  },
  "language_info": {
   "codemirror_mode": {
    "name": "ipython",
    "version": 3
   },
   "file_extension": ".py",
   "mimetype": "text/x-python",
   "name": "python",
   "nbconvert_exporter": "python",
   "pygments_lexer": "ipython3",
   "version": "3.7.0"
  }
 },
 "nbformat": 4,
 "nbformat_minor": 2
}
