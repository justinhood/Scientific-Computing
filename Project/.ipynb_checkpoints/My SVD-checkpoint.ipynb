{
 "cells": [
  {
   "cell_type": "code",
   "execution_count": 1,
   "metadata": {},
   "outputs": [
    {
     "data": {
      "application/javascript": [
       "IPython.notebook.set_autosave_interval(180000)"
      ]
     },
     "metadata": {},
     "output_type": "display_data"
    },
    {
     "name": "stdout",
     "output_type": "stream",
     "text": [
      "Autosaving every 180 seconds\n"
     ]
    }
   ],
   "source": [
    "import numpy as np\n",
    "import numpy.linalg as lyn\n",
    "import random\n",
    "import urllib.request as urlreq\n",
    "import re\n",
    "import matplotlib.pyplot as plt\n",
    "%matplotlib inline\n",
    "%autosave 180\n",
    "import Senator as sen\n",
    "from itertools import combinations"
   ]
  },
  {
   "cell_type": "markdown",
   "metadata": {},
   "source": [
    "# Consider a simpler version of the SVD on a covariance (symmetric) matrix:"
   ]
  },
  {
   "cell_type": "code",
   "execution_count": 5,
   "metadata": {},
   "outputs": [],
   "source": [
    "def simpleSVD(A):\n",
    "    #Make AA^T matrix\n",
    "    A2 = np.matmul(A,A.T)\n",
    "    #Get the eigens\n",
    "    l , e = lyn.eig(A2)\n",
    "    #Same for A^TA -> For covariance this is the same as AA^T\n",
    "    A3 = np.matmul(A.T,A)\n",
    "    l2,e2 = lyn.eig(A3)\n",
    "    #Get the singular Values and order them\n",
    "    l=np.sqrt(l)\n",
    "    s=l[np.flip(np.argsort(l))]\n",
    "    #Reorder the eigenvector columns to match order of singular values\n",
    "    e=e[:,np.flip(np.argsort(l))]\n",
    "    #Same for other AA matrix\n",
    "    l2=np.sqrt(l2)\n",
    "    s2=l2[np.flip(np.argsort(l2))]\n",
    "    e2=e2[:,np.flip(np.argsort(l2))]\n",
    "    #Return the ordered UsV matrices\n",
    "    return e, s, e2.T"
   ]
  },
  {
   "cell_type": "code",
   "execution_count": 11,
   "metadata": {},
   "outputs": [
    {
     "name": "stdout",
     "output_type": "stream",
     "text": [
      "[[1 2 3]\n",
      " [2 1 4]\n",
      " [3 4 1]]\n",
      "U= [[ 0.50578521 -0.25523155  0.82403773]\n",
      " [ 0.58437383 -0.60130182 -0.54492509]\n",
      " [ 0.63457746  0.75716113 -0.15497893]]\n",
      "s= [7.07467358 3.1878826  0.88679099]\n",
      "V= [[ 0.50578521  0.58437383  0.63457746]\n",
      " [-0.25523155 -0.60130182  0.75716113]\n",
      " [ 0.82403773 -0.54492509 -0.15497893]]\n"
     ]
    }
   ],
   "source": [
    "#Sample covariance matrix (symmetric)\n",
    "A=np.array([[1,2,3],[2,1,4],[3,4,1]])\n",
    "print(A)\n",
    "U,s,V = simpleSVD(A)\n",
    "print(\"U=\",U)\n",
    "print(\"s=\", s)\n",
    "print(\"V=\", V)"
   ]
  },
  {
   "cell_type": "code",
   "execution_count": 12,
   "metadata": {},
   "outputs": [
    {
     "name": "stdout",
     "output_type": "stream",
     "text": [
      "UTrue= [[-0.50578521 -0.25523155 -0.82403773]\n",
      " [-0.58437383 -0.60130182  0.54492509]\n",
      " [-0.63457746  0.75716113  0.15497893]]\n",
      "sTrue= [7.07467358 3.1878826  0.88679099]\n",
      "VTrue= [[-0.50578521 -0.58437383 -0.63457746]\n",
      " [ 0.25523155  0.60130182 -0.75716113]\n",
      " [ 0.82403773 -0.54492509 -0.15497893]]\n"
     ]
    }
   ],
   "source": [
    "#Use Numpy\n",
    "Ut,st,Vt=np.linalg.svd(A, full_matrices=False)\n",
    "print(\"UTrue=\",Ut)\n",
    "print(\"sTrue=\", st)\n",
    "print(\"VTrue=\", Vt)"
   ]
  },
  {
   "cell_type": "code",
   "execution_count": 13,
   "metadata": {},
   "outputs": [
    {
     "data": {
      "text/plain": [
       "array([[2.61966726, 2.18208912, 1.54137294],\n",
       "       [2.18208912, 3.83189977, 1.24700891],\n",
       "       [1.54137294, 1.24700891, 4.69778014]])"
      ]
     },
     "execution_count": 13,
     "metadata": {},
     "output_type": "execute_result"
    }
   ],
   "source": [
    "#Multiply my computed values\n",
    "np.dot(U, np.dot(np.diag(s), V))"
   ]
  },
  {
   "cell_type": "code",
   "execution_count": 14,
   "metadata": {},
   "outputs": [
    {
     "data": {
      "text/plain": [
       "array([[1., 2., 3.],\n",
       "       [2., 1., 4.],\n",
       "       [3., 4., 1.]])"
      ]
     },
     "execution_count": 14,
     "metadata": {},
     "output_type": "execute_result"
    }
   ],
   "source": [
    "#Multiply Numpys values\n",
    "np.dot(Ut, np.dot(np.diag(st), Vt))"
   ]
  },
  {
   "cell_type": "markdown",
   "metadata": {},
   "source": [
    "Looking at my output vs the svd call output, I have the same matrices, but the signs of some columns(rows) are wrong in terms of recombining to get the original matrix. Below, I attempt to fix it with a permutation comparison, but its not going well.."
   ]
  },
  {
   "cell_type": "markdown",
   "metadata": {},
   "source": [
    "# Trying to fix the sign error (Probably bad)"
   ]
  },
  {
   "cell_type": "code",
   "execution_count": null,
   "metadata": {},
   "outputs": [],
   "source": [
    "def mySvd(A):\n",
    "    m,n = A.shape\n",
    "    A2 = np.matmul(A,A.T)\n",
    "    l,e = lyn.eig(A2)\n",
    "    l=np.sqrt(l)\n",
    "    s=l[np.flip(np.argsort(l))]\n",
    "    e=e[:,np.flip(np.argsort(l))]\n",
    "    A3 = np.matmul(A.T,A)\n",
    "    l2,e2 = lyn.eig(A3)\n",
    "    l2=np.sqrt(l2)\n",
    "    s2=l2[np.flip(np.argsort(l2))]\n",
    "    e2=e2[:,np.flip(np.argsort(l2))]\n",
    "    badCols=[]\n",
    "    badS=[]\n",
    "    for i in range(0, A2.shape[0]):\n",
    "        if(s[i]==0):\n",
    "            badS.append(i)\n",
    "        for j in range(0,A2.shape[1]):\n",
    "            if(e[i,j]==1):\n",
    "                badCols.append(i)\n",
    "    e=np.delete(e, badCols, 1)\n",
    "    e=np.delete(e, badS,1)\n",
    "    s=np.delete(s,badS,0)\n",
    "    udim = e.shape[1]\n",
    "    vdim = e2.shape[1]\n",
    "    uperms, vperms = getPerms(udim,vdim)\n",
    "    errmin=10\n",
    "    uOpt=1\n",
    "    vOpt=1\n",
    "    print(e)\n",
    "    print(s)\n",
    "    print(e2.T)\n",
    "    for us in uperms:\n",
    "        for vs in vperms:\n",
    "            testA=np.dot(np.matmul(e,us), np.dot(np.diag(s), np.matmul(vs,e2.T)))\n",
    "            err = np.linalg.norm(A-testA)\n",
    "            print(err)\n",
    "            print(us)\n",
    "            print(vs)\n",
    "            print('*'*20)\n",
    "            if(err < errmin):\n",
    "                errmin=err\n",
    "                uOpt=us\n",
    "                vOpt=vs\n",
    "    e=np.matmul(e,uOpt)\n",
    "    e2=np.matmul(vOpt,e2.T)\n",
    "    return e,s,e2.T"
   ]
  },
  {
   "cell_type": "code",
   "execution_count": null,
   "metadata": {},
   "outputs": [],
   "source": [
    "A=np.array([[1,2,3],[2,1,4],[3,4,1]])\n",
    "print(A)\n",
    "U,s,V = mySvd(A)\n",
    "print(U)\n",
    "print(s)\n",
    "print(V)"
   ]
  },
  {
   "cell_type": "code",
   "execution_count": null,
   "metadata": {},
   "outputs": [],
   "source": [
    "np.dot(U, np.dot(np.diag(s), V))"
   ]
  },
  {
   "cell_type": "code",
   "execution_count": null,
   "metadata": {},
   "outputs": [],
   "source": [
    "Ut,st,Vt=np.linalg.svd(A, full_matrices=False)\n",
    "print(Ut)\n",
    "print(st)\n",
    "print(Vt)"
   ]
  },
  {
   "cell_type": "code",
   "execution_count": null,
   "metadata": {},
   "outputs": [],
   "source": [
    "for us in u:\n",
    "    for vs in v:\n",
    "        print(us,vs)"
   ]
  },
  {
   "cell_type": "code",
   "execution_count": null,
   "metadata": {},
   "outputs": [],
   "source": [
    "def getPerms(udim, vdim):\n",
    "    uList=[]\n",
    "    vList=[]\n",
    "    Pu=[]\n",
    "    Pv=[]\n",
    "    P=np.eye(udim)\n",
    "    for i in range(0,udim+1):\n",
    "        x=combinations(np.arange(0,udim),i)\n",
    "        Pu.append(x)\n",
    "    for combs in Pu:\n",
    "        for l in combs:\n",
    "            for i in l:\n",
    "                P[i,i]=-P[i,i]\n",
    "            uList.append(P)\n",
    "            P=np.eye(udim)\n",
    "    P=np.eye(vdim)\n",
    "    for i in range(0,vdim+1):\n",
    "        x=combinations(np.arange(0,vdim),i)\n",
    "        Pv.append(x)\n",
    "    for combs in Pv:\n",
    "        for l in combs:\n",
    "            for i in l:\n",
    "                P[i,i]=-P[i,i]\n",
    "            vList.append(P)\n",
    "            P=np.eye(vdim)\n",
    "    return uList, vList"
   ]
  },
  {
   "cell_type": "code",
   "execution_count": null,
   "metadata": {},
   "outputs": [],
   "source": [
    "P=np.eye(3)\n",
    "P1=[]\n",
    "mylist=[]\n",
    "for i in range(0,4):\n",
    "    x=combinations(np.arange(0,3),i)\n",
    "    P1.append(x)\n",
    "for combs in P1:\n",
    "    for l in combs:\n",
    "        for i in l:\n",
    "            P[i,i]=-P[i,i]\n",
    "        print(P)\n",
    "        mylist.append(P)\n",
    "        P=np.eye(3)\n",
    "print(mylist)"
   ]
  },
  {
   "cell_type": "code",
   "execution_count": null,
   "metadata": {},
   "outputs": [],
   "source": [
    "x=np.arange(0,3)\n",
    "print(x)"
   ]
  },
  {
   "cell_type": "code",
   "execution_count": null,
   "metadata": {},
   "outputs": [],
   "source": [
    "A=np.array([[-1.55431223e-15, -4.44089210e-16, -8.88178420e-16],\n",
    " [ 0.00000000e+00, -6.66133815e-16,  4.44089210e-16],\n",
    " [-8.88178420e-16,  4.44089210e-16,  1.22124533e-15]])\n",
    "np.linalg.norm(A)"
   ]
  },
  {
   "cell_type": "code",
   "execution_count": null,
   "metadata": {},
   "outputs": [],
   "source": [
    "print(i)\n",
    "            P[i,i]=-P[i,i]\n",
    "        print(P)\n",
    "        P=np.eye(3)"
   ]
  },
  {
   "cell_type": "code",
   "execution_count": 107,
   "metadata": {},
   "outputs": [],
   "source": [
    "def newSVD(A):\n",
    "    if(np.array_equal(A,A.T)):\n",
    "        print(\"Symmetric\")\n",
    "        D,V = np.linalg.eig(np.dot(A.T,A))\n",
    "        D=np.sqrt(D)\n",
    "        s=D[np.flip(np.argsort(D))]\n",
    "        #Reorder the eigenvector columns to match order of singular values\n",
    "        V=V[:,np.flip(np.argsort(D))]\n",
    "        U = A.dot(V)/D\n",
    "        return U,s,V\n",
    "    else:\n",
    "        D,V = np.linalg.eig(np.dot(A.T,A))\n",
    "        D=np.sqrt(D)\n",
    "        s=D[np.flip(np.argsort(D))]\n",
    "        #Reorder the eigenvector columns to match order of singular values\n",
    "        V=V[:,np.flip(np.argsort(D))]\n",
    "        U = A.dot(V)/D\n",
    "        return U,D,V"
   ]
  },
  {
   "cell_type": "code",
   "execution_count": 108,
   "metadata": {},
   "outputs": [
    {
     "name": "stdout",
     "output_type": "stream",
     "text": [
      "[[1 2 3]\n",
      " [2 1 4]\n",
      " [3 4 1]]\n",
      "Symmetric\n",
      "[[ 0.50578521  0.91751971 -0.22922715]\n",
      " [ 0.58437383  2.16159122  0.15158483]\n",
      " [ 0.63457746 -2.72188242  0.04311135]]\n",
      "[7.07467358 3.1878826  0.88679099]\n",
      "[[ 0.50578521 -0.25523155  0.82403773]\n",
      " [ 0.58437383 -0.60130182 -0.54492509]\n",
      " [ 0.63457746  0.75716113 -0.15497893]]\n"
     ]
    },
    {
     "data": {
      "text/plain": [
       "array([[ 0.89578781,  0.44304025,  4.5168448 ],\n",
       "       [ 0.44304025, -1.80081129,  7.82019246],\n",
       "       [ 4.5168448 ,  7.82019246, -3.72695351]])"
      ]
     },
     "execution_count": 108,
     "metadata": {},
     "output_type": "execute_result"
    }
   ],
   "source": [
    "A=np.array([[1,2,3],[2,1,4],[3,4,1]])\n",
    "print(A)\n",
    "U,s,V = newSVD(A)\n",
    "print(U)\n",
    "print(s)\n",
    "print(V)\n",
    "np.dot(U,np.dot(np.diag(s),V.T))"
   ]
  },
  {
   "cell_type": "code",
   "execution_count": 109,
   "metadata": {},
   "outputs": [
    {
     "name": "stdout",
     "output_type": "stream",
     "text": [
      "[[1 2 3]\n",
      " [2 1 4]\n",
      " [3 4 1]]\n",
      "[[-0.50578521 -0.25523155 -0.82403773]\n",
      " [-0.58437383 -0.60130182  0.54492509]\n",
      " [-0.63457746  0.75716113  0.15497893]]\n",
      "[7.07467358 3.1878826  0.88679099]\n",
      "[[-0.50578521 -0.58437383 -0.63457746]\n",
      " [ 0.25523155  0.60130182 -0.75716113]\n",
      " [ 0.82403773 -0.54492509 -0.15497893]]\n"
     ]
    },
    {
     "data": {
      "text/plain": [
       "array([[1., 2., 3.],\n",
       "       [2., 1., 4.],\n",
       "       [3., 4., 1.]])"
      ]
     },
     "execution_count": 109,
     "metadata": {},
     "output_type": "execute_result"
    }
   ],
   "source": [
    "A=np.array([[1,2,3],[2,1,4],[3,4,1]])\n",
    "print(A)\n",
    "Ut,st,Vt=np.linalg.svd(A, full_matrices=False)\n",
    "print(Ut)\n",
    "print(st)\n",
    "print(Vt)\n",
    "np.dot(Ut,np.dot(np.diag(st),Vt))"
   ]
  },
  {
   "cell_type": "code",
   "execution_count": 110,
   "metadata": {},
   "outputs": [
    {
     "data": {
      "text/plain": [
       "array([[ 1.15020617,  2.24412282, -2.18630315],\n",
       "       [ 2.24412282,  5.03694734, -5.50623164],\n",
       "       [-2.18630315, -5.50623164,  7.81319102]])"
      ]
     },
     "execution_count": 110,
     "metadata": {},
     "output_type": "execute_result"
    }
   ],
   "source": []
  },
  {
   "cell_type": "code",
   "execution_count": 111,
   "metadata": {},
   "outputs": [
    {
     "name": "stdout",
     "output_type": "stream",
     "text": [
      "[[1. 2. 3.]\n",
      " [2. 1. 4.]\n",
      " [3. 4. 1.]\n",
      " [1. 1. 1.]]\n",
      "[[ 0.49051953  0.926174   -0.23339951]\n",
      " [ 0.56694707  2.15973522  0.14695212]\n",
      " [ 0.61790503 -2.67717277  0.03638706]\n",
      " [ 0.23697042 -0.10348751  0.03666784]]\n",
      "[7.28198365 0.89493871 3.18932577]\n",
      "[[ 0.51017681 -0.25421279  0.82164194]\n",
      " [ 0.58453532 -0.59828833 -0.54805979]\n",
      " [ 0.63090259  0.75988613 -0.15663648]]\n"
     ]
    },
    {
     "data": {
      "text/plain": [
       "array([[1., 2., 3.],\n",
       "       [2., 1., 4.],\n",
       "       [3., 4., 1.],\n",
       "       [1., 1., 1.]])"
      ]
     },
     "execution_count": 111,
     "metadata": {},
     "output_type": "execute_result"
    }
   ],
   "source": [
    "A=np.array([[1,2,3],[2,1,4],[3,4,1],[1,1,1]],dtype=float)\n",
    "print(A)\n",
    "U,s,V = newSVD(A)\n",
    "print(U)\n",
    "print(s)\n",
    "print(V)\n",
    "np.dot(U,np.dot(np.diag(s),V.T))"
   ]
  },
  {
   "cell_type": "code",
   "execution_count": 106,
   "metadata": {},
   "outputs": [
    {
     "name": "stdout",
     "output_type": "stream",
     "text": [
      "[[1. 2. 3.]\n",
      " [2. 1. 4.]\n",
      " [3. 4. 1.]\n",
      " [1. 1. 1.]]\n",
      "[[-0.49051953 -0.25988846 -0.83177435]\n",
      " [-0.56694707 -0.60603111  0.52369865]\n",
      " [-0.61790503  0.75122634  0.12967391]\n",
      " [-0.23697042  0.02903905  0.13067451]]\n",
      "[7.28198365 3.18932577 0.89493871]\n",
      "[[-0.51017681 -0.58453532 -0.63090259]\n",
      " [ 0.25421279  0.59828833 -0.75988613]\n",
      " [ 0.82164194 -0.54805979 -0.15663648]]\n"
     ]
    },
    {
     "data": {
      "text/plain": [
       "array([[1., 2., 3.],\n",
       "       [2., 1., 4.],\n",
       "       [3., 4., 1.],\n",
       "       [1., 1., 1.]])"
      ]
     },
     "execution_count": 106,
     "metadata": {},
     "output_type": "execute_result"
    }
   ],
   "source": [
    "print(A)\n",
    "Ut,st,Vt=np.linalg.svd(A, full_matrices=False)\n",
    "print(Ut)\n",
    "print(st)\n",
    "print(Vt)\n",
    "np.dot(Ut,np.dot(np.diag(st),Vt))"
   ]
  },
  {
   "cell_type": "code",
   "execution_count": null,
   "metadata": {},
   "outputs": [],
   "source": []
  }
 ],
 "metadata": {
  "kernelspec": {
   "display_name": "Python 3",
   "language": "python",
   "name": "python3"
  },
  "language_info": {
   "codemirror_mode": {
    "name": "ipython",
    "version": 3
   },
   "file_extension": ".py",
   "mimetype": "text/x-python",
   "name": "python",
   "nbconvert_exporter": "python",
   "pygments_lexer": "ipython3",
   "version": "3.7.0"
  }
 },
 "nbformat": 4,
 "nbformat_minor": 2
}
