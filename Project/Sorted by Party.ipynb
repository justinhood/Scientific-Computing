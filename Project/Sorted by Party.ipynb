{
 "cells": [
  {
   "cell_type": "code",
   "execution_count": 1,
   "metadata": {},
   "outputs": [
    {
     "data": {
      "application/javascript": [
       "IPython.notebook.set_autosave_interval(180000)"
      ]
     },
     "metadata": {},
     "output_type": "display_data"
    },
    {
     "name": "stdout",
     "output_type": "stream",
     "text": [
      "Autosaving every 180 seconds\n"
     ]
    }
   ],
   "source": [
    "import numpy as np\n",
    "import numpy.linalg as lyn\n",
    "import random\n",
    "import urllib.request as urlreq\n",
    "import re\n",
    "import matplotlib.pyplot as plt\n",
    "%matplotlib inline\n",
    "%autosave 180\n",
    "import Senator as sen"
   ]
  },
  {
   "cell_type": "code",
   "execution_count": 2,
   "metadata": {},
   "outputs": [],
   "source": [
    "def mySort(a):\n",
    "    if(a=='Yea'):\n",
    "        return 1\n",
    "    if(a=='Nay'):\n",
    "        return -1\n",
    "    return 0"
   ]
  },
  {
   "cell_type": "markdown",
   "metadata": {},
   "source": [
    "# 107th Data Scrape (2001)\n",
    "## First, we get the list of actual bills from the senate website\n",
    "N=Number of Bills for Voting"
   ]
  },
  {
   "cell_type": "code",
   "execution_count": 3,
   "metadata": {},
   "outputs": [
    {
     "name": "stdout",
     "output_type": "stream",
     "text": [
      "64\n"
     ]
    }
   ],
   "source": [
    "#Get the Bills Voted On 107th\n",
    "#Tell senate that Im a person, not Python\n",
    "headers={}\n",
    "headers['User-Agent'] = 'Mozilla/5.0 (Windows NT 6.1) AppleWebKit/537.36 (KHTML, like Gecko) Chrome/41.0.2228.0 Safari/537.36'\n",
    "#Session #1\n",
    "url = 'https://www.senate.gov/legislative/LIS/roll_call_lists/vote_menu_107_1.htm'\n",
    "req = urlreq.Request(url, headers=headers)\n",
    "resp = urlreq.urlopen(req)\n",
    "respData = resp.read()\n",
    "leader='https://www.senate.gov/l'\n",
    "listoflinks=[]\n",
    "data = re.findall(r'<tr(.*?)/tr>',str(respData))\n",
    "for d in data:\n",
    "    if(\"A bill\" in d):\n",
    "        l=re.findall(r'/l(.*?)>',str(d))\n",
    "        listoflinks.append(leader+str(l)[2:-3])\n",
    "#How many bills are we working with?\n",
    "N=len(listoflinks)\n",
    "print(N)"
   ]
  },
  {
   "cell_type": "code",
   "execution_count": 4,
   "metadata": {},
   "outputs": [],
   "source": [
    "#Trick the Site\n",
    "#Make my vector of Senator class objects\n",
    "senators107th = []\n",
    "nDem=0\n",
    "nRep=0\n",
    "nInd=0\n",
    "#A=np.zeros((100,len(listoflinks)))\n",
    "baseVote=listoflinks[0] #Get my base senators\n",
    "req2 = urlreq.Request(baseVote, headers=headers) #Parse the first vote\n",
    "resp2 = urlreq.urlopen(req2)\n",
    "respData2 = resp2.read()\n",
    "data2 = re.findall(r'<span(.*?)/span>',str(respData2))\n",
    "data2 = data2[11][21:-9]\n",
    "A=data2.split('/b')\n",
    "A=A[0:-1]\n",
    "voteNum=0\n",
    "for a in A:\n",
    "    if(a[0]==\">\"):\n",
    "        a=a[7:-1]\n",
    "    else:\n",
    "        a=a[0:-1]\n",
    "    d=a.split(' ')\n",
    "    senators107th.append(sen.Senator(d[0],N,d[1][1]))\n",
    "    if(d[1][1]==\"D\"):\n",
    "        nDem+=1\n",
    "    elif(d[1][1]==\"R\"):\n",
    "        nRep+=1\n",
    "    else:\n",
    "        nInd+=1\n",
    "    for s in senators107th:\n",
    "        if(s.getName() == d[0]):\n",
    "            s.setVotes(mySort(d[2][3:]),voteNum)\n",
    "#Now that we've got the first ones(And the senator Names Loaded,\n",
    "#Do the rest of the bills\n",
    "listoflinks = listoflinks[1:]\n",
    "voteNum+=1\n",
    "for links in listoflinks:\n",
    "    url2 = links\n",
    "    req2 = urlreq.Request(url2, headers=headers) #Parse the first vote\n",
    "    resp2 = urlreq.urlopen(req2)\n",
    "    respData2 = resp2.read()\n",
    "    data2 = re.findall(r'<span(.*?)/span>',str(respData2))\n",
    "    data2 = data2[11][21:-9]\n",
    "    A=data2.split('/b')\n",
    "    A=A[0:-1]\n",
    "    for a in A:\n",
    "        if(a[0]==\">\"):\n",
    "            a=a[7:-1]\n",
    "        else:\n",
    "            a=a[0:-1]\n",
    "        d=a.split(' ')\n",
    "        inList = False\n",
    "        for s in senators107th:\n",
    "            if(s.getName() == d[0]):\n",
    "                s.setVotes(mySort(d[2][3:]),voteNum)\n",
    "                inList = True\n",
    "        if(not inList):\n",
    "            senators107th.append(sen.Senator(d[0],N,d[1][1]))\n",
    "            senators107th[-1].setVotes(mySort(d[2][3:]),voteNum)\n",
    "            if(d[1][1]==\"D\"):\n",
    "                nDem+=1\n",
    "            elif(d[1][1]==\"R\"):\n",
    "                nRep+=1\n",
    "            else:\n",
    "                nInd+=1\n",
    "    voteNum+=1\n",
    "Votes107th=[]\n",
    "for s in senators107th:\n",
    "    Votes107th.append(s.getVotes())\n",
    "Votes107th=np.asarray(Votes107th)"
   ]
  },
  {
   "cell_type": "code",
   "execution_count": 5,
   "metadata": {},
   "outputs": [],
   "source": [
    "U,s,V=np.linalg.svd(Votes107th, full_matrices=False)\n",
    "D=[]\n",
    "R=[]\n",
    "I=[]\n",
    "for i in range(0,U.shape[0]):\n",
    "    if(senators107th[i].getParty()==\"D\"):\n",
    "        f = np.asarray([U[i,1],-U[i,0]])\n",
    "        D.append(f)\n",
    "    if(senators107th[i].getParty()==\"R\"):\n",
    "        f = np.asarray([U[i,1],-U[i,0]])\n",
    "        R.append(f)\n",
    "    if(senators107th[i].getParty()==\"I\"):\n",
    "        f = np.asarray([U[i,1],-U[i,0]])\n",
    "        I.append(f)\n",
    "D=np.asarray(D)\n",
    "R=np.asarray(R)\n",
    "I=np.asarray(I)"
   ]
  },
  {
   "cell_type": "code",
   "execution_count": 6,
   "metadata": {},
   "outputs": [
    {
     "data": {
      "image/png": "[encoded data removed]",
      "text/plain": [
       "<Figure size 432x288 with 1 Axes>"
      ]
     },
     "metadata": {
      "needs_background": "light"
     },
     "output_type": "display_data"
    }
   ],
   "source": [
    "plt.xlabel('Singular Value Index')\n",
    "plt.ylabel('Proportional Magnitude')\n",
    "plt.title('\"Scree\" Chart of Singular Values')\n",
    "plt.plot(s/s.sum(), c='b', marker=\"s\");\n",
    "plt.savefig('votescree.png')"
   ]
  },
  {
   "cell_type": "code",
   "execution_count": 7,
   "metadata": {},
   "outputs": [
    {
     "name": "stdout",
     "output_type": "stream",
     "text": [
      "There are 50 Democrats\n",
      "There are 49 Republicans\n",
      "There is/are 1 Independents\n"
     ]
    },
    {
     "data": {
      "image/png": "[encoded data removed]",
      "text/plain": [
       "<Figure size 720x576 with 1 Axes>"
      ]
     },
     "metadata": {
      "needs_background": "light"
     },
     "output_type": "display_data"
    }
   ],
   "source": [
    "print(\"There are\", D.shape[0], \"Democrats\")\n",
    "print(\"There are\", R.shape[0], \"Republicans\")\n",
    "print(\"There is/are\", I.shape[0], \"Independents\")\n",
    "fig = plt.figure(figsize=(10,8))\n",
    "ax1 = fig.add_subplot(111)\n",
    "plt.xlabel('partisan Coordinate')\n",
    "plt.ylabel('bipartisan Coordinate')\n",
    "plt.title('107th First Session')\n",
    "ax1.scatter(D[:,0], D[:,1], s=50, c='b', marker=\"s\", label='Democrats')\n",
    "ax1.scatter(R[:,0], R[:,1], s=50, c='r', marker=\"^\", label='Republican')\n",
    "ax1.scatter(I[:,0], I[:,1], s=50, c='k', marker=\"*\", label='Independent')\n",
    "plt.legend(loc='lower left');\n",
    "plt.savefig('107th1.png')\n",
    "plt.show()\n"
   ]
  },
  {
   "cell_type": "markdown",
   "metadata": {},
   "source": [
    "# Lets now consider the second Session"
   ]
  },
  {
   "cell_type": "code",
   "execution_count": 8,
   "metadata": {},
   "outputs": [
    {
     "name": "stdout",
     "output_type": "stream",
     "text": [
      "44\n"
     ]
    }
   ],
   "source": [
    "#Session 2\n",
    "url = 'https://www.senate.gov/legislative/LIS/roll_call_lists/vote_menu_107_2.htm'\n",
    "req = urlreq.Request(url, headers=headers)\n",
    "resp = urlreq.urlopen(req)\n",
    "respData = resp.read()\n",
    "leader='https://www.senate.gov/l'\n",
    "listoflinks=[]\n",
    "data = re.findall(r'<tr(.*?)/tr>',str(respData))\n",
    "for d in data:\n",
    "    if(\"A bill\" in d):\n",
    "        l=re.findall(r'/l(.*?)>',str(d))\n",
    "        listoflinks.append(leader+str(l)[2:-3])\n",
    "N=len(listoflinks)\n",
    "print(N)"
   ]
  },
  {
   "cell_type": "code",
   "execution_count": 9,
   "metadata": {},
   "outputs": [],
   "source": [
    "#Trick the Site\n",
    "#Make my vector of Senator class objects\n",
    "senators107th = []\n",
    "nDem=0\n",
    "nRep=0\n",
    "nInd=0\n",
    "#A=np.zeros((100,len(listoflinks)))\n",
    "baseVote=listoflinks[0] #Get my base senators\n",
    "req2 = urlreq.Request(baseVote, headers=headers) #Parse the first vote\n",
    "resp2 = urlreq.urlopen(req2)\n",
    "respData2 = resp2.read()\n",
    "data2 = re.findall(r'<span(.*?)/span>',str(respData2))\n",
    "data2 = data2[11][21:-9]\n",
    "A=data2.split('/b')\n",
    "A=A[0:-1]\n",
    "voteNum=0\n",
    "for a in A:\n",
    "    if(a[0]==\">\"):\n",
    "        a=a[7:-1]\n",
    "    else:\n",
    "        a=a[0:-1]\n",
    "    d=a.split(' ')\n",
    "    senators107th.append(sen.Senator(d[0],N,d[1][1]))\n",
    "    if(d[1][1]==\"D\"):\n",
    "        nDem+=1\n",
    "    elif(d[1][1]==\"R\"):\n",
    "        nRep+=1\n",
    "    else:\n",
    "        nInd+=1\n",
    "    for s in senators107th:\n",
    "        if(s.getName() == d[0]):\n",
    "            s.setVotes(mySort(d[2][3:]),voteNum)\n",
    "#Now that we've got the first ones(And the senator Names Loaded,\n",
    "#Do the rest of the bills\n",
    "listoflinks = listoflinks[1:]\n",
    "voteNum+=1\n",
    "for links in listoflinks:\n",
    "    url2 = links\n",
    "    req2 = urlreq.Request(url2, headers=headers) #Parse the first vote\n",
    "    resp2 = urlreq.urlopen(req2)\n",
    "    respData2 = resp2.read()\n",
    "    data2 = re.findall(r'<span(.*?)/span>',str(respData2))\n",
    "    data2 = data2[11][21:-9]\n",
    "    A=data2.split('/b')\n",
    "    A=A[0:-1]\n",
    "    for a in A:\n",
    "        if(a[0]==\">\"):\n",
    "            a=a[7:-1]\n",
    "        else:\n",
    "            a=a[0:-1]\n",
    "        d=a.split(' ')\n",
    "        inList = False\n",
    "        for s in senators107th:\n",
    "            if(s.getName() == d[0]):\n",
    "                s.setVotes(mySort(d[2][3:]),voteNum)\n",
    "                inList = True\n",
    "        if(not inList):\n",
    "            senators107th.append(sen.Senator(d[0],N,d[1][1]))\n",
    "            senators107th[-1].setVotes(mySort(d[2][3:]),voteNum)\n",
    "            if(d[1][1]==\"D\"):\n",
    "                nDem+=1\n",
    "            elif(d[1][1]==\"R\"):\n",
    "                nRep+=1\n",
    "            else:\n",
    "                nInd+=1\n",
    "    voteNum+=1\n",
    "Votes107th=[]\n",
    "for s in senators107th:\n",
    "    Votes107th.append(s.getVotes())\n",
    "Votes107th=np.asarray(Votes107th)"
   ]
  },
  {
   "cell_type": "code",
   "execution_count": 10,
   "metadata": {},
   "outputs": [],
   "source": [
    "U,s,V=np.linalg.svd(Votes107th, full_matrices=False)\n",
    "D=[]\n",
    "R=[]\n",
    "I=[]\n",
    "for i in range(0,U.shape[0]):\n",
    "    if(senators107th[i].getParty()==\"D\"):\n",
    "        f = np.asarray([-U[i,1],-U[i,0]])\n",
    "        D.append(f)\n",
    "    if(senators107th[i].getParty()==\"R\"):\n",
    "        f = np.asarray([-U[i,1],-U[i,0]])\n",
    "        R.append(f)\n",
    "    if(senators107th[i].getParty()==\"I\"):\n",
    "        f = np.asarray([-U[i,1],-U[i,0]])\n",
    "        I.append(f)\n",
    "D=np.asarray(D)\n",
    "R=np.asarray(R)\n",
    "I=np.asarray(I)"
   ]
  },
  {
   "cell_type": "code",
   "execution_count": 11,
   "metadata": {},
   "outputs": [
    {
     "name": "stdout",
     "output_type": "stream",
     "text": [
      "There are 50 Democrats\n",
      "There are 49 Republicans\n",
      "There is/are 2 Independents\n"
     ]
    },
    {
     "data": {
      "image/png": "[encoded data removed]",
      "text/plain": [
       "<Figure size 720x576 with 1 Axes>"
      ]
     },
     "metadata": {
      "needs_background": "light"
     },
     "output_type": "display_data"
    }
   ],
   "source": [
    "print(\"There are\", D.shape[0], \"Democrats\")\n",
    "print(\"There are\", R.shape[0], \"Republicans\")\n",
    "print(\"There is/are\", I.shape[0], \"Independents\")\n",
    "fig = plt.figure(figsize=(10,8))\n",
    "ax1 = fig.add_subplot(111)\n",
    "plt.xlabel('partisan Coordinate')\n",
    "plt.ylabel('bipartisan Coordinate')\n",
    "plt.title('107th Second Session')\n",
    "ax1.scatter(D[:,0], D[:,1], s=50, c='b', marker=\"s\", label='Democrats')\n",
    "ax1.scatter(R[:,0], R[:,1], s=50, c='r', marker=\"^\", label='Republican')\n",
    "ax1.scatter(I[:,0], I[:,1], s=50, c='k', marker=\"*\", label='Independent')\n",
    "plt.legend(loc='lower left');\n",
    "plt.savefig('107th2.png')\n",
    "plt.show()"
   ]
  },
  {
   "cell_type": "code",
   "execution_count": null,
   "metadata": {},
   "outputs": [],
   "source": []
  },
  {
   "cell_type": "code",
   "execution_count": null,
   "metadata": {},
   "outputs": [],
   "source": []
  },
  {
   "cell_type": "markdown",
   "metadata": {},
   "source": [
    "# 101st Data Scrape (1989)\n",
    "## First, we get the list of actual bills from the senate website\n",
    "N=Number of Bills for Voting"
   ]
  },
  {
   "cell_type": "code",
   "execution_count": 12,
   "metadata": {},
   "outputs": [
    {
     "name": "stdout",
     "output_type": "stream",
     "text": [
      "51\n"
     ]
    }
   ],
   "source": [
    "#Get the Bills Voted On 107th\n",
    "#Tell senate that Im a person, not Python\n",
    "headers={}\n",
    "headers['User-Agent'] = 'Mozilla/5.0 (Windows NT 6.1) AppleWebKit/537.36 (KHTML, like Gecko) Chrome/41.0.2228.0 Safari/537.36'\n",
    "#Session #1\n",
    "url = 'https://www.senate.gov/legislative/LIS/roll_call_lists/vote_menu_101_1.htm'\n",
    "req = urlreq.Request(url, headers=headers)\n",
    "resp = urlreq.urlopen(req)\n",
    "respData = resp.read()\n",
    "leader='https://www.senate.gov/l'\n",
    "listoflinks=[]\n",
    "data = re.findall(r'<tr(.*?)/tr>',str(respData))\n",
    "for d in data:\n",
    "    if(\"A bill\" in d):\n",
    "        l=re.findall(r'/l(.*?)>',str(d))\n",
    "        listoflinks.append(leader+str(l)[2:-3])\n",
    "#How many bills are we working with?\n",
    "N=len(listoflinks)\n",
    "print(N)"
   ]
  },
  {
   "cell_type": "code",
   "execution_count": 13,
   "metadata": {},
   "outputs": [],
   "source": [
    "#Trick the Site\n",
    "#Make my vector of Senator class objects\n",
    "senators101th = []\n",
    "nDem=0\n",
    "nRep=0\n",
    "nInd=0\n",
    "#A=np.zeros((100,len(listoflinks)))\n",
    "baseVote=listoflinks[0] #Get my base senators\n",
    "req2 = urlreq.Request(baseVote, headers=headers) #Parse the first vote\n",
    "resp2 = urlreq.urlopen(req2)\n",
    "respData2 = resp2.read()\n",
    "data2 = re.findall(r'<span(.*?)/span>',str(respData2))\n",
    "data2 = data2[11][21:-9]\n",
    "A=data2.split('/b')\n",
    "A=A[0:-1]\n",
    "voteNum=0\n",
    "for a in A:\n",
    "    if(a[0]==\">\"):\n",
    "        a=a[7:-1]\n",
    "    else:\n",
    "        a=a[0:-1]\n",
    "    d=a.split(' ')\n",
    "    senators101th.append(sen.Senator(d[0],N,d[1][1]))\n",
    "    if(d[1][1]==\"D\"):\n",
    "        nDem+=1\n",
    "    elif(d[1][1]==\"R\"):\n",
    "        nRep+=1\n",
    "    else:\n",
    "        nInd+=1\n",
    "    for s in senators101th:\n",
    "        if(s.getName() == d[0]):\n",
    "            s.setVotes(mySort(d[2][3:]),voteNum)\n",
    "#Now that we've got the first ones(And the senator Names Loaded,\n",
    "#Do the rest of the bills\n",
    "listoflinks = listoflinks[1:]\n",
    "voteNum+=1\n",
    "for links in listoflinks:\n",
    "    url2 = links\n",
    "    req2 = urlreq.Request(url2, headers=headers) #Parse the first vote\n",
    "    resp2 = urlreq.urlopen(req2)\n",
    "    respData2 = resp2.read()\n",
    "    data2 = re.findall(r'<span(.*?)/span>',str(respData2))\n",
    "    data2 = data2[11][21:-9]\n",
    "    A=data2.split('/b')\n",
    "    A=A[0:-1]\n",
    "    for a in A:\n",
    "        if(a[0]==\">\"):\n",
    "            a=a[7:-1]\n",
    "        else:\n",
    "            a=a[0:-1]\n",
    "        d=a.split(' ')\n",
    "        inList = False\n",
    "        for s in senators101th:\n",
    "            if(s.getName() == d[0]):\n",
    "                s.setVotes(mySort(d[2][3:]),voteNum)\n",
    "                inList = True\n",
    "        if(not inList):\n",
    "            senators101th.append(sen.Senator(d[0],N,d[1][1]))\n",
    "            senators101th[-1].setVotes(mySort(d[2][3:]),voteNum)\n",
    "            if(d[1][1]==\"D\"):\n",
    "                nDem+=1\n",
    "            elif(d[1][1]==\"R\"):\n",
    "                nRep+=1\n",
    "            else:\n",
    "                nInd+=1\n",
    "    voteNum+=1\n",
    "Votes101th=[]\n",
    "for s in senators101th:\n",
    "    Votes101th.append(s.getVotes())\n",
    "Votes101th=np.asarray(Votes101th)"
   ]
  },
  {
   "cell_type": "code",
   "execution_count": 14,
   "metadata": {},
   "outputs": [],
   "source": [
    "U,s,V=np.linalg.svd(Votes101th, full_matrices=False)\n",
    "D=[]\n",
    "R=[]\n",
    "I=[]\n",
    "for i in range(0,U.shape[0]):\n",
    "    if(senators101th[i].getParty()==\"D\"):\n",
    "        f = np.asarray([-U[i,1],-U[i,0]])\n",
    "        D.append(f)\n",
    "    if(senators101th[i].getParty()==\"R\"):\n",
    "        f = np.asarray([-U[i,1],-U[i,0]])\n",
    "        R.append(f)\n",
    "    if(senators101th[i].getParty()==\"I\"):\n",
    "        f = np.asarray([-U[i,1],-U[i,0]])\n",
    "        I.append(f)\n",
    "D=np.asarray(D)\n",
    "R=np.asarray(R)\n",
    "I=np.asarray(I)"
   ]
  },
  {
   "cell_type": "code",
   "execution_count": null,
   "metadata": {},
   "outputs": [],
   "source": []
  },
  {
   "cell_type": "code",
   "execution_count": null,
   "metadata": {},
   "outputs": [],
   "source": []
  },
  {
   "cell_type": "code",
   "execution_count": 15,
   "metadata": {},
   "outputs": [
    {
     "name": "stdout",
     "output_type": "stream",
     "text": [
      "There are 55 Democrats\n",
      "There are 45 Republicans\n",
      "There is/are 0 Independents\n"
     ]
    },
    {
     "data": {
      "image/png": "[encoded data removed]",
      "text/plain": [
       "<Figure size 720x576 with 1 Axes>"
      ]
     },
     "metadata": {
      "needs_background": "light"
     },
     "output_type": "display_data"
    }
   ],
   "source": [
    "print(\"There are\", D.shape[0], \"Democrats\")\n",
    "print(\"There are\", R.shape[0], \"Republicans\")\n",
    "print(\"There is/are\", I.shape[0], \"Independents\")\n",
    "fig = plt.figure(figsize=(10,8))\n",
    "ax1 = fig.add_subplot(111)\n",
    "plt.xlabel('partisan Coordinate')\n",
    "plt.ylabel('bipartisan Coordinate')\n",
    "plt.title('101st First Session')\n",
    "ax1.scatter(D[:,0], D[:,1], s=50, c='b', marker=\"s\", label='Democrats')\n",
    "ax1.scatter(R[:,0], R[:,1], s=50, c='r', marker=\"^\", label='Republican')\n",
    "if(I.shape[0]!=0):\n",
    "    ax1.scatter(I[:,0], I[:,1], s=50, c='k', marker=\"*\", label='Independent')\n",
    "plt.legend(loc='lower left');\n",
    "plt.savefig('101st1.png')\n",
    "plt.show()\n"
   ]
  },
  {
   "cell_type": "markdown",
   "metadata": {},
   "source": [
    "# Lets now consider the second Session"
   ]
  },
  {
   "cell_type": "code",
   "execution_count": 16,
   "metadata": {},
   "outputs": [
    {
     "name": "stdout",
     "output_type": "stream",
     "text": [
      "62\n"
     ]
    }
   ],
   "source": [
    "#Session 2\n",
    "url = 'https://www.senate.gov/legislative/LIS/roll_call_lists/vote_menu_101_2.htm'\n",
    "req = urlreq.Request(url, headers=headers)\n",
    "resp = urlreq.urlopen(req)\n",
    "respData = resp.read()\n",
    "leader='https://www.senate.gov/l'\n",
    "listoflinks=[]\n",
    "data = re.findall(r'<tr(.*?)/tr>',str(respData))\n",
    "for d in data:\n",
    "    if(\"A bill\" in d):\n",
    "        l=re.findall(r'/l(.*?)>',str(d))\n",
    "        listoflinks.append(leader+str(l)[2:-3])\n",
    "N=len(listoflinks)\n",
    "print(N)"
   ]
  },
  {
   "cell_type": "code",
   "execution_count": 17,
   "metadata": {},
   "outputs": [],
   "source": [
    "#Trick the Site\n",
    "#Make my vector of Senator class objects\n",
    "senators101th = []\n",
    "nDem=0\n",
    "nRep=0\n",
    "nInd=0\n",
    "#A=np.zeros((100,len(listoflinks)))\n",
    "baseVote=listoflinks[0] #Get my base senators\n",
    "req2 = urlreq.Request(baseVote, headers=headers) #Parse the first vote\n",
    "resp2 = urlreq.urlopen(req2)\n",
    "respData2 = resp2.read()\n",
    "data2 = re.findall(r'<span(.*?)/span>',str(respData2))\n",
    "data2 = data2[11][21:-9]\n",
    "A=data2.split('/b')\n",
    "A=A[0:-1]\n",
    "voteNum=0\n",
    "for a in A:\n",
    "    if(a[0]==\">\"):\n",
    "        a=a[7:-1]\n",
    "    else:\n",
    "        a=a[0:-1]\n",
    "    d=a.split(' ')\n",
    "    senators101th.append(sen.Senator(d[0],N,d[1][1]))\n",
    "    if(d[1][1]==\"D\"):\n",
    "        nDem+=1\n",
    "    elif(d[1][1]==\"R\"):\n",
    "        nRep+=1\n",
    "    else:\n",
    "        nInd+=1\n",
    "    for s in senators101th:\n",
    "        if(s.getName() == d[0]):\n",
    "            s.setVotes(mySort(d[2][3:]),voteNum)\n",
    "#Now that we've got the first ones(And the senator Names Loaded,\n",
    "#Do the rest of the bills\n",
    "listoflinks = listoflinks[1:]\n",
    "voteNum+=1\n",
    "for links in listoflinks:\n",
    "    url2 = links\n",
    "    req2 = urlreq.Request(url2, headers=headers) #Parse the first vote\n",
    "    resp2 = urlreq.urlopen(req2)\n",
    "    respData2 = resp2.read()\n",
    "    data2 = re.findall(r'<span(.*?)/span>',str(respData2))\n",
    "    data2 = data2[11][21:-9]\n",
    "    A=data2.split('/b')\n",
    "    A=A[0:-1]\n",
    "    for a in A:\n",
    "        if(a[0]==\">\"):\n",
    "            a=a[7:-1]\n",
    "        else:\n",
    "            a=a[0:-1]\n",
    "        d=a.split(' ')\n",
    "        inList = False\n",
    "        for s in senators101th:\n",
    "            if(s.getName() == d[0]):\n",
    "                s.setVotes(mySort(d[2][3:]),voteNum)\n",
    "                inList = True\n",
    "        if(not inList):\n",
    "            senators101th.append(sen.Senator(d[0],N,d[1][1]))\n",
    "            senators101th[-1].setVotes(mySort(d[2][3:]),voteNum)\n",
    "            if(d[1][1]==\"D\"):\n",
    "                nDem+=1\n",
    "            elif(d[1][1]==\"R\"):\n",
    "                nRep+=1\n",
    "            else:\n",
    "                nInd+=1\n",
    "    voteNum+=1\n",
    "Votes101th=[]\n",
    "for s in senators101th:\n",
    "    Votes101th.append(s.getVotes())\n",
    "Votes101th=np.asarray(Votes101th)"
   ]
  },
  {
   "cell_type": "code",
   "execution_count": 18,
   "metadata": {},
   "outputs": [],
   "source": [
    "U,s,V=np.linalg.svd(Votes101th, full_matrices=False)\n",
    "D=[]\n",
    "R=[]\n",
    "I=[]\n",
    "for i in range(0,U.shape[0]):\n",
    "    if(senators101th[i].getParty()==\"D\"):\n",
    "        f = np.asarray([U[i,1],-U[i,0]])\n",
    "        D.append(f)\n",
    "    if(senators101th[i].getParty()==\"R\"):\n",
    "        f = np.asarray([U[i,1],-U[i,0]])\n",
    "        R.append(f)\n",
    "    if(senators101th[i].getParty()==\"I\"):\n",
    "        f = np.asarray([U[i,1],-U[i,0]])\n",
    "        I.append(f)\n",
    "D=np.asarray(D)\n",
    "R=np.asarray(R)\n",
    "I=np.asarray(I)"
   ]
  },
  {
   "cell_type": "code",
   "execution_count": 19,
   "metadata": {},
   "outputs": [
    {
     "name": "stdout",
     "output_type": "stream",
     "text": [
      "There are 56 Democrats\n",
      "There are 45 Republicans\n",
      "There is/are 0 Independents\n"
     ]
    },
    {
     "data": {
      "image/png": "[encoded data removed]",
      "text/plain": [
       "<Figure size 720x576 with 1 Axes>"
      ]
     },
     "metadata": {
      "needs_background": "light"
     },
     "output_type": "display_data"
    }
   ],
   "source": [
    "print(\"There are\", D.shape[0], \"Democrats\")\n",
    "print(\"There are\", R.shape[0], \"Republicans\")\n",
    "print(\"There is/are\", I.shape[0], \"Independents\")\n",
    "fig = plt.figure(figsize=(10,8))\n",
    "ax1 = fig.add_subplot(111)\n",
    "plt.xlabel('partisan Coordinate')\n",
    "plt.ylabel('bipartisan Coordinate')\n",
    "plt.title('101st Second Session')\n",
    "ax1.scatter(D[:,0], D[:,1], s=50, c='b', marker=\"s\", label='Democrats')\n",
    "ax1.scatter(R[:,0], R[:,1], s=50, c='r', marker=\"^\", label='Republican')\n",
    "if(I.shape[0]!=0):\n",
    "    ax1.scatter(I[:,0], I[:,1], s=50, c='k', marker=\"*\", label='Independent')\n",
    "plt.legend(loc='lower left');\n",
    "plt.savefig('101st2.png')\n",
    "plt.show()\n"
   ]
  },
  {
   "cell_type": "code",
   "execution_count": null,
   "metadata": {},
   "outputs": [],
   "source": []
  },
  {
   "cell_type": "markdown",
   "metadata": {},
   "source": [
    "# 104th Data Scrape (1995)\n",
    "## First, we get the list of actual bills from the senate website\n",
    "N=Number of Bills for Voting"
   ]
  },
  {
   "cell_type": "code",
   "execution_count": 20,
   "metadata": {},
   "outputs": [
    {
     "name": "stdout",
     "output_type": "stream",
     "text": [
      "81\n"
     ]
    }
   ],
   "source": [
    "#Get the Bills Voted On 107th\n",
    "#Tell senate that Im a person, not Python\n",
    "headers={}\n",
    "headers['User-Agent'] = 'Mozilla/5.0 (Windows NT 6.1) AppleWebKit/537.36 (KHTML, like Gecko) Chrome/41.0.2228.0 Safari/537.36'\n",
    "#Session #1\n",
    "url = 'https://www.senate.gov/legislative/LIS/roll_call_lists/vote_menu_104_1.htm'\n",
    "req = urlreq.Request(url, headers=headers)\n",
    "resp = urlreq.urlopen(req)\n",
    "respData = resp.read()\n",
    "leader='https://www.senate.gov/l'\n",
    "listoflinks=[]\n",
    "data = re.findall(r'<tr(.*?)/tr>',str(respData))\n",
    "for d in data:\n",
    "    if(\"A bill\" in d):\n",
    "        l=re.findall(r'/l(.*?)>',str(d))\n",
    "        listoflinks.append(leader+str(l)[2:-3])\n",
    "#How many bills are we working with?\n",
    "N=len(listoflinks)\n",
    "print(N)"
   ]
  },
  {
   "cell_type": "code",
   "execution_count": 21,
   "metadata": {},
   "outputs": [],
   "source": [
    "#Trick the Site\n",
    "#Make my vector of Senator class objects\n",
    "senators104th = []\n",
    "nDem=0\n",
    "nRep=0\n",
    "nInd=0\n",
    "#A=np.zeros((100,len(listoflinks)))\n",
    "baseVote=listoflinks[0] #Get my base senators\n",
    "req2 = urlreq.Request(baseVote, headers=headers) #Parse the first vote\n",
    "resp2 = urlreq.urlopen(req2)\n",
    "respData2 = resp2.read()\n",
    "data2 = re.findall(r'<span(.*?)/span>',str(respData2))\n",
    "data2 = data2[11][21:-9]\n",
    "A=data2.split('/b')\n",
    "A=A[0:-1]\n",
    "voteNum=0\n",
    "for a in A:\n",
    "    if(a[0]==\">\"):\n",
    "        a=a[7:-1]\n",
    "    else:\n",
    "        a=a[0:-1]\n",
    "    d=a.split(' ')\n",
    "    senators104th.append(sen.Senator(d[0],N,d[1][1]))\n",
    "    if(d[1][1]==\"D\"):\n",
    "        nDem+=1\n",
    "    elif(d[1][1]==\"R\"):\n",
    "        nRep+=1\n",
    "    else:\n",
    "        nInd+=1\n",
    "    for s in senators104th:\n",
    "        if(s.getName() == d[0]):\n",
    "            s.setVotes(mySort(d[2][3:]),voteNum)\n",
    "#Now that we've got the first ones(And the senator Names Loaded,\n",
    "#Do the rest of the bills\n",
    "listoflinks = listoflinks[1:]\n",
    "voteNum+=1\n",
    "for links in listoflinks:\n",
    "    url2 = links\n",
    "    req2 = urlreq.Request(url2, headers=headers) #Parse the first vote\n",
    "    resp2 = urlreq.urlopen(req2)\n",
    "    respData2 = resp2.read()\n",
    "    data2 = re.findall(r'<span(.*?)/span>',str(respData2))\n",
    "    data2 = data2[11][21:-9]\n",
    "    A=data2.split('/b')\n",
    "    A=A[0:-1]\n",
    "    for a in A:\n",
    "        if(a[0]==\">\"):\n",
    "            a=a[7:-1]\n",
    "        else:\n",
    "            a=a[0:-1]\n",
    "        d=a.split(' ')\n",
    "        inList = False\n",
    "        for s in senators104th:\n",
    "            if(s.getName() == d[0]):\n",
    "                s.setVotes(mySort(d[2][3:]),voteNum)\n",
    "                inList = True\n",
    "        if(not inList):\n",
    "            senators104th.append(sen.Senator(d[0],N,d[1][1]))\n",
    "            senators104th[-1].setVotes(mySort(d[2][3:]),voteNum)\n",
    "            if(d[1][1]==\"D\"):\n",
    "                nDem+=1\n",
    "            elif(d[1][1]==\"R\"):\n",
    "                nRep+=1\n",
    "            else:\n",
    "                nInd+=1\n",
    "    voteNum+=1\n",
    "Votes104th=[]\n",
    "for s in senators104th:\n",
    "    Votes104th.append(s.getVotes())\n",
    "Votes104th=np.asarray(Votes104th)"
   ]
  },
  {
   "cell_type": "code",
   "execution_count": 22,
   "metadata": {},
   "outputs": [],
   "source": [
    "U,s,V=np.linalg.svd(Votes104th, full_matrices=False)\n",
    "D=[]\n",
    "R=[]\n",
    "I=[]\n",
    "for i in range(0,U.shape[0]):\n",
    "    if(senators104th[i].getParty()==\"D\"):\n",
    "        f = np.asarray([-U[i,1],-U[i,0]])\n",
    "        D.append(f)\n",
    "    if(senators104th[i].getParty()==\"R\"):\n",
    "        f = np.asarray([-U[i,1],-U[i,0]])\n",
    "        R.append(f)\n",
    "    if(senators104th[i].getParty()==\"I\"):\n",
    "        f = np.asarray([-U[i,1],-U[i,0]])\n",
    "        I.append(f)\n",
    "D=np.asarray(D)\n",
    "R=np.asarray(R)\n",
    "I=np.asarray(I)"
   ]
  },
  {
   "cell_type": "code",
   "execution_count": 23,
   "metadata": {},
   "outputs": [
    {
     "data": {
      "text/plain": [
       "100"
      ]
     },
     "execution_count": 23,
     "metadata": {},
     "output_type": "execute_result"
    }
   ],
   "source": [
    "len(senators104th)"
   ]
  },
  {
   "cell_type": "code",
   "execution_count": 24,
   "metadata": {},
   "outputs": [
    {
     "data": {
      "text/plain": [
       "(100, 81)"
      ]
     },
     "execution_count": 24,
     "metadata": {},
     "output_type": "execute_result"
    }
   ],
   "source": [
    "U.shape"
   ]
  },
  {
   "cell_type": "code",
   "execution_count": 25,
   "metadata": {},
   "outputs": [
    {
     "name": "stdout",
     "output_type": "stream",
     "text": [
      "There are 46 Democrats\n",
      "There are 54 Republicans\n",
      "There is/are 0 Independents\n"
     ]
    },
    {
     "data": {
      "image/png": "[encoded data removed]",
      "text/plain": [
       "<Figure size 720x576 with 1 Axes>"
      ]
     },
     "metadata": {
      "needs_background": "light"
     },
     "output_type": "display_data"
    }
   ],
   "source": [
    "print(\"There are\", D.shape[0], \"Democrats\")\n",
    "print(\"There are\", R.shape[0], \"Republicans\")\n",
    "print(\"There is/are\", I.shape[0], \"Independents\")\n",
    "fig = plt.figure(figsize=(10,8))\n",
    "ax1 = fig.add_subplot(111)\n",
    "plt.xlabel('partisan Coordinate')\n",
    "plt.ylabel('bipartisan Coordinate')\n",
    "plt.title('104th First Session')\n",
    "ax1.scatter(D[:,0], D[:,1], s=50, c='b', marker=\"s\", label='Democrats')\n",
    "ax1.scatter(R[:,0], R[:,1], s=50, c='r', marker=\"^\", label='Republican')\n",
    "if(I.shape[0]!=0):\n",
    "    ax1.scatter(I[:,0], I[:,1], s=50, c='k', marker=\"*\", label='Independent')\n",
    "plt.legend(loc='lower right');\n",
    "plt.savefig('104th1.png')\n",
    "plt.show()\n"
   ]
  },
  {
   "cell_type": "markdown",
   "metadata": {},
   "source": [
    "# Second Session 104th"
   ]
  },
  {
   "cell_type": "code",
   "execution_count": null,
   "metadata": {},
   "outputs": [],
   "source": []
  },
  {
   "cell_type": "code",
   "execution_count": 26,
   "metadata": {},
   "outputs": [
    {
     "name": "stdout",
     "output_type": "stream",
     "text": [
      "68\n"
     ]
    }
   ],
   "source": [
    "#Get the Bills Voted On 107th\n",
    "#Tell senate that Im a person, not Python\n",
    "headers={}\n",
    "headers['User-Agent'] = 'Mozilla/5.0 (Windows NT 6.1) AppleWebKit/537.36 (KHTML, like Gecko) Chrome/41.0.2228.0 Safari/537.36'\n",
    "#Session #1\n",
    "url = 'https://www.senate.gov/legislative/LIS/roll_call_lists/vote_menu_104_2.htm'\n",
    "req = urlreq.Request(url, headers=headers)\n",
    "resp = urlreq.urlopen(req)\n",
    "respData = resp.read()\n",
    "leader='https://www.senate.gov/l'\n",
    "listoflinks=[]\n",
    "data = re.findall(r'<tr(.*?)/tr>',str(respData))\n",
    "for d in data:\n",
    "    if(\"A bill\" in d):\n",
    "        l=re.findall(r'/l(.*?)>',str(d))\n",
    "        listoflinks.append(leader+str(l)[2:-3])\n",
    "#How many bills are we working with?\n",
    "N=len(listoflinks)\n",
    "print(N)"
   ]
  },
  {
   "cell_type": "code",
   "execution_count": 27,
   "metadata": {},
   "outputs": [],
   "source": [
    "#Trick the Site\n",
    "#Make my vector of Senator class objects\n",
    "senators104th = []\n",
    "nDem=0\n",
    "nRep=0\n",
    "nInd=0\n",
    "#A=np.zeros((100,len(listoflinks)))\n",
    "baseVote=listoflinks[0] #Get my base senators\n",
    "req2 = urlreq.Request(baseVote, headers=headers) #Parse the first vote\n",
    "resp2 = urlreq.urlopen(req2)\n",
    "respData2 = resp2.read()\n",
    "data2 = re.findall(r'<span(.*?)/span>',str(respData2))\n",
    "data2 = data2[11][21:-9]\n",
    "A=data2.split('/b')\n",
    "A=A[0:-1]\n",
    "voteNum=0\n",
    "for a in A:\n",
    "    if(a[0]==\">\"):\n",
    "        a=a[7:-1]\n",
    "    else:\n",
    "        a=a[0:-1]\n",
    "    d=a.split(' ')\n",
    "    senators104th.append(sen.Senator(d[0],N,d[1][1]))\n",
    "    if(d[1][1]==\"D\"):\n",
    "        nDem+=1\n",
    "    elif(d[1][1]==\"R\"):\n",
    "        nRep+=1\n",
    "    else:\n",
    "        nInd+=1\n",
    "    for s in senators104th:\n",
    "        if(s.getName() == d[0]):\n",
    "            s.setVotes(mySort(d[2][3:]),voteNum)\n",
    "#Now that we've got the first ones(And the senator Names Loaded,\n",
    "#Do the rest of the bills\n",
    "listoflinks = listoflinks[1:]\n",
    "voteNum+=1\n",
    "for links in listoflinks:\n",
    "    url2 = links\n",
    "    req2 = urlreq.Request(url2, headers=headers) #Parse the first vote\n",
    "    resp2 = urlreq.urlopen(req2)\n",
    "    respData2 = resp2.read()\n",
    "    data2 = re.findall(r'<span(.*?)/span>',str(respData2))\n",
    "    data2 = data2[11][21:-9]\n",
    "    A=data2.split('/b')\n",
    "    A=A[0:-1]\n",
    "    for a in A:\n",
    "        if(a[0]==\">\"):\n",
    "            a=a[7:-1]\n",
    "        else:\n",
    "            a=a[0:-1]\n",
    "        d=a.split(' ')\n",
    "        inList = False\n",
    "        for s in senators104th:\n",
    "            if(s.getName() == d[0]):\n",
    "                s.setVotes(mySort(d[2][3:]),voteNum)\n",
    "                inList = True\n",
    "        if(not inList):\n",
    "            senators104th.append(sen.Senator(d[0],N,d[1][1]))\n",
    "            senators104th[-1].setVotes(mySort(d[2][3:]),voteNum)\n",
    "            if(d[1][1]==\"D\"):\n",
    "                nDem+=1\n",
    "            elif(d[1][1]==\"R\"):\n",
    "                nRep+=1\n",
    "            else:\n",
    "                nInd+=1\n",
    "    voteNum+=1\n",
    "Votes104th=[]\n",
    "for s in senators104th:\n",
    "    Votes104th.append(s.getVotes())\n",
    "Votes104th=np.asarray(Votes104th)"
   ]
  },
  {
   "cell_type": "code",
   "execution_count": 28,
   "metadata": {},
   "outputs": [],
   "source": [
    "U,s,V=np.linalg.svd(Votes104th, full_matrices=False)\n",
    "D=[]\n",
    "R=[]\n",
    "I=[]\n",
    "for i in range(0,U.shape[0]):\n",
    "    if(senators104th[i].getParty()==\"D\"):\n",
    "        f = np.asarray([-U[i,1],-U[i,0]])\n",
    "        D.append(f)\n",
    "    if(senators104th[i].getParty()==\"R\"):\n",
    "        f = np.asarray([-U[i,1],-U[i,0]])\n",
    "        R.append(f)\n",
    "    if(senators104th[i].getParty()==\"I\"):\n",
    "        f = np.asarray([-U[i,1],-U[i,0]])\n",
    "        I.append(f)\n",
    "D=np.asarray(D)\n",
    "R=np.asarray(R)\n",
    "I=np.asarray(I)"
   ]
  },
  {
   "cell_type": "code",
   "execution_count": 29,
   "metadata": {},
   "outputs": [
    {
     "data": {
      "text/plain": [
       "101"
      ]
     },
     "execution_count": 29,
     "metadata": {},
     "output_type": "execute_result"
    }
   ],
   "source": [
    "len(senators104th)"
   ]
  },
  {
   "cell_type": "code",
   "execution_count": 30,
   "metadata": {},
   "outputs": [
    {
     "data": {
      "text/plain": [
       "(101, 68)"
      ]
     },
     "execution_count": 30,
     "metadata": {},
     "output_type": "execute_result"
    }
   ],
   "source": [
    "U.shape"
   ]
  },
  {
   "cell_type": "code",
   "execution_count": 31,
   "metadata": {},
   "outputs": [
    {
     "name": "stdout",
     "output_type": "stream",
     "text": [
      "There are 47 Democrats\n",
      "There are 54 Republicans\n",
      "There is/are 0 Independents\n"
     ]
    },
    {
     "data": {
      "image/png": "[encoded data removed]",
      "text/plain": [
       "<Figure size 720x576 with 1 Axes>"
      ]
     },
     "metadata": {
      "needs_background": "light"
     },
     "output_type": "display_data"
    }
   ],
   "source": [
    "print(\"There are\", D.shape[0], \"Democrats\")\n",
    "print(\"There are\", R.shape[0], \"Republicans\")\n",
    "print(\"There is/are\", I.shape[0], \"Independents\")\n",
    "fig = plt.figure(figsize=(10,8))\n",
    "ax1 = fig.add_subplot(111)\n",
    "plt.xlabel('partisan Coordinate')\n",
    "plt.ylabel('bipartisan Coordinate')\n",
    "plt.title('104th Second Session')\n",
    "ax1.scatter(D[:,0], D[:,1], s=50, c='b', marker=\"s\", label='Democrats')\n",
    "ax1.scatter(R[:,0], R[:,1], s=50, c='r', marker=\"^\", label='Republican')\n",
    "if(I.shape[0]!=0):\n",
    "    ax1.scatter(I[:,0], I[:,1], s=50, c='k', marker=\"*\", label='Independent')\n",
    "plt.legend(loc='lower right');\n",
    "plt.savefig('104th2.png')\n",
    "plt.show()\n"
   ]
  },
  {
   "cell_type": "code",
   "execution_count": null,
   "metadata": {},
   "outputs": [],
   "source": []
  },
  {
   "cell_type": "markdown",
   "metadata": {},
   "source": [
    "# 110th Data Scrape (2007)\n",
    "## First, we get the list of actual bills from the senate website\n",
    "N=Number of Bills for Voting"
   ]
  },
  {
   "cell_type": "code",
   "execution_count": 32,
   "metadata": {},
   "outputs": [
    {
     "name": "stdout",
     "output_type": "stream",
     "text": [
      "74\n"
     ]
    }
   ],
   "source": [
    "#Get the Bills Voted On 110th\n",
    "#Tell senate that Im a person, not Python\n",
    "headers={}\n",
    "headers['User-Agent'] = 'Mozilla/5.0 (Windows NT 6.1) AppleWebKit/537.36 (KHTML, like Gecko) Chrome/41.0.2228.0 Safari/537.36'\n",
    "#Session #1\n",
    "url = 'https://www.senate.gov/legislative/LIS/roll_call_lists/vote_menu_110_1.htm'\n",
    "req = urlreq.Request(url, headers=headers)\n",
    "resp = urlreq.urlopen(req)\n",
    "respData = resp.read()\n",
    "leader='https://www.senate.gov/l'\n",
    "listoflinks=[]\n",
    "data = re.findall(r'<tr(.*?)/tr>',str(respData))\n",
    "for d in data:\n",
    "    if(\"A bill\" in d):\n",
    "        l=re.findall(r'/l(.*?)>',str(d))\n",
    "        listoflinks.append(leader+str(l)[2:-3])\n",
    "#How many bills are we working with?\n",
    "N=len(listoflinks)\n",
    "print(N)"
   ]
  },
  {
   "cell_type": "code",
   "execution_count": 33,
   "metadata": {},
   "outputs": [],
   "source": [
    "#Trick the Site\n",
    "#Make my vector of Senator class objects\n",
    "senators110th = []\n",
    "nDem=0\n",
    "nRep=0\n",
    "nInd=0\n",
    "#A=np.zeros((100,len(listoflinks)))\n",
    "baseVote=listoflinks[0] #Get my base senators\n",
    "req2 = urlreq.Request(baseVote, headers=headers) #Parse the first vote\n",
    "resp2 = urlreq.urlopen(req2)\n",
    "respData2 = resp2.read()\n",
    "data2 = re.findall(r'<span(.*?)/span>',str(respData2))\n",
    "data2 = data2[11][21:-9]\n",
    "A=data2.split('/b')\n",
    "A=A[0:-1]\n",
    "voteNum=0\n",
    "for a in A:\n",
    "    if(a[0]==\">\"):\n",
    "        a=a[15:-1]\n",
    "    else:\n",
    "        a=a[0:-1]\n",
    "    d=a.split(' ')\n",
    "    senators110th.append(sen.Senator(d[0],N,d[1][1]))\n",
    "    if(d[1][1]==\"D\"):\n",
    "        nDem+=1\n",
    "    elif(d[1][1]==\"R\"):\n",
    "        nRep+=1\n",
    "    else:\n",
    "        nInd+=1\n",
    "    for s in senators110th:\n",
    "        if(s.getName() == d[0]):\n",
    "            s.setVotes(mySort(d[2][3:]),voteNum)\n",
    "#Now that we've got the first ones(And the senator Names Loaded,\n",
    "#Do the rest of the bills\n",
    "listoflinks = listoflinks[1:]\n",
    "voteNum+=1\n",
    "for links in listoflinks:\n",
    "    url2 = links\n",
    "    req2 = urlreq.Request(url2, headers=headers) #Parse the first vote\n",
    "    resp2 = urlreq.urlopen(req2)\n",
    "    respData2 = resp2.read()\n",
    "    data2 = re.findall(r'<span(.*?)/span>',str(respData2))\n",
    "    data2 = data2[11][21:-9]\n",
    "    A=data2.split('/b')\n",
    "    A=A[0:-1]\n",
    "    for a in A:\n",
    "        if(a[0]==\">\"):\n",
    "            a=a[15:-1]\n",
    "        else:\n",
    "            a=a[0:-1]\n",
    "        d=a.split(' ')\n",
    "        inList = False\n",
    "        for s in senators110th:\n",
    "            if(s.getName() == d[0]):\n",
    "                s.setVotes(mySort(d[2][3:]),voteNum)\n",
    "                inList = True\n",
    "        if(not inList):\n",
    "            senators110th.append(sen.Senator(d[0],N,d[1][1]))\n",
    "            senators110th[-1].setVotes(mySort(d[2][3:]),voteNum)\n",
    "            if(d[1][1]==\"D\"):\n",
    "                nDem+=1\n",
    "            elif(d[1][1]==\"R\"):\n",
    "                nRep+=1\n",
    "            else:\n",
    "                nInd+=1\n",
    "    voteNum+=1\n",
    "Votes110th=[]\n",
    "for s in senators110th:\n",
    "    Votes110th.append(s.getVotes())\n",
    "Votes110th=np.asarray(Votes110th)"
   ]
  },
  {
   "cell_type": "code",
   "execution_count": 34,
   "metadata": {},
   "outputs": [],
   "source": [
    "U,s,V=np.linalg.svd(Votes110th, full_matrices=False)\n",
    "D=[]\n",
    "R=[]\n",
    "I=[]\n",
    "for i in range(0,U.shape[0]):\n",
    "    if(senators110th[i].getParty()==\"D\"):\n",
    "        f = np.asarray([-U[i,1],-U[i,0]])\n",
    "        D.append(f)\n",
    "    if(senators110th[i].getParty()==\"R\"):\n",
    "        f = np.asarray([-U[i,1],-U[i,0]])\n",
    "        R.append(f)\n",
    "    if(senators110th[i].getParty()==\"I\"):\n",
    "        f = np.asarray([-U[i,1],-U[i,0]])\n",
    "        I.append(f)\n",
    "D=np.asarray(D)\n",
    "R=np.asarray(R)\n",
    "I=np.asarray(I)"
   ]
  },
  {
   "cell_type": "code",
   "execution_count": 35,
   "metadata": {},
   "outputs": [
    {
     "data": {
      "text/plain": [
       "101"
      ]
     },
     "execution_count": 35,
     "metadata": {},
     "output_type": "execute_result"
    }
   ],
   "source": [
    "len(senators104th)"
   ]
  },
  {
   "cell_type": "code",
   "execution_count": 36,
   "metadata": {},
   "outputs": [
    {
     "data": {
      "text/plain": [
       "(101, 74)"
      ]
     },
     "execution_count": 36,
     "metadata": {},
     "output_type": "execute_result"
    }
   ],
   "source": [
    "U.shape"
   ]
  },
  {
   "cell_type": "code",
   "execution_count": 37,
   "metadata": {},
   "outputs": [
    {
     "name": "stdout",
     "output_type": "stream",
     "text": [
      "There are 49 Democrats\n",
      "There are 50 Republicans\n",
      "There is/are 2 Independents\n"
     ]
    },
    {
     "data": {
      "image/png": "[encoded data removed]",
      "text/plain": [
       "<Figure size 720x576 with 1 Axes>"
      ]
     },
     "metadata": {
      "needs_background": "light"
     },
     "output_type": "display_data"
    }
   ],
   "source": [
    "print(\"There are\", D.shape[0], \"Democrats\")\n",
    "print(\"There are\", R.shape[0], \"Republicans\")\n",
    "print(\"There is/are\", I.shape[0], \"Independents\")\n",
    "fig = plt.figure(figsize=(10,8))\n",
    "ax1 = fig.add_subplot(111)\n",
    "plt.xlabel('partisan Coordinate')\n",
    "plt.ylabel('bipartisan Coordinate')\n",
    "plt.title('110th First Session')\n",
    "ax1.scatter(D[:,0], D[:,1], s=50, c='b', marker=\"s\", label='Democrats')\n",
    "ax1.scatter(R[:,0], R[:,1], s=50, c='r', marker=\"^\", label='Republican')\n",
    "if(I.shape[0]!=0):\n",
    "    ax1.scatter(I[:,0], I[:,1], s=50, c='k', marker=\"*\", label='Independent')\n",
    "plt.legend(loc='lower right');\n",
    "plt.savefig('110th1.png')\n",
    "plt.show()\n"
   ]
  },
  {
   "cell_type": "code",
   "execution_count": null,
   "metadata": {},
   "outputs": [],
   "source": []
  },
  {
   "cell_type": "markdown",
   "metadata": {},
   "source": [
    "# Second Session 110th"
   ]
  },
  {
   "cell_type": "code",
   "execution_count": null,
   "metadata": {},
   "outputs": [],
   "source": []
  },
  {
   "cell_type": "code",
   "execution_count": 38,
   "metadata": {},
   "outputs": [
    {
     "name": "stdout",
     "output_type": "stream",
     "text": [
      "73\n"
     ]
    }
   ],
   "source": [
    "#Get the Bills Voted On 107th\n",
    "#Tell senate that Im a person, not Python\n",
    "headers={}\n",
    "headers['User-Agent'] = 'Mozilla/5.0 (Windows NT 6.1) AppleWebKit/537.36 (KHTML, like Gecko) Chrome/41.0.2228.0 Safari/537.36'\n",
    "#Session #1\n",
    "url = 'https://www.senate.gov/legislative/LIS/roll_call_lists/vote_menu_110_2.htm'\n",
    "req = urlreq.Request(url, headers=headers)\n",
    "resp = urlreq.urlopen(req)\n",
    "respData = resp.read()\n",
    "leader='https://www.senate.gov/l'\n",
    "listoflinks=[]\n",
    "data = re.findall(r'<tr(.*?)/tr>',str(respData))\n",
    "for d in data:\n",
    "    if(\"A bill\" in d):\n",
    "        l=re.findall(r'/l(.*?)>',str(d))\n",
    "        listoflinks.append(leader+str(l)[2:-3])\n",
    "#How many bills are we working with?\n",
    "N=len(listoflinks)\n",
    "print(N)"
   ]
  },
  {
   "cell_type": "code",
   "execution_count": 39,
   "metadata": {},
   "outputs": [],
   "source": [
    "#Trick the Site\n",
    "#Make my vector of Senator class objects\n",
    "senators110th = []\n",
    "nDem=0\n",
    "nRep=0\n",
    "nInd=0\n",
    "#A=np.zeros((100,len(listoflinks)))\n",
    "baseVote=listoflinks[0] #Get my base senators\n",
    "req2 = urlreq.Request(baseVote, headers=headers) #Parse the first vote\n",
    "resp2 = urlreq.urlopen(req2)\n",
    "respData2 = resp2.read()\n",
    "data2 = re.findall(r'<span(.*?)/span>',str(respData2))\n",
    "data2 = data2[11][21:-9]\n",
    "A=data2.split('/b')\n",
    "A=A[0:-1]\n",
    "voteNum=0\n",
    "for a in A:\n",
    "    if(a[0]==\">\"):\n",
    "        a=a[15:-1]\n",
    "    else:\n",
    "        a=a[0:-1]\n",
    "    d=a.split(' ')\n",
    "    senators110th.append(sen.Senator(d[0],N,d[1][1]))\n",
    "    if(d[1][1]==\"D\"):\n",
    "        nDem+=1\n",
    "    elif(d[1][1]==\"R\"):\n",
    "        nRep+=1\n",
    "    else:\n",
    "        nInd+=1\n",
    "    for s in senators110th:\n",
    "        if(s.getName() == d[0]):\n",
    "            s.setVotes(mySort(d[2][3:]),voteNum)\n",
    "#Now that we've got the first ones(And the senator Names Loaded,\n",
    "#Do the rest of the bills\n",
    "listoflinks = listoflinks[1:]\n",
    "voteNum+=1\n",
    "for links in listoflinks:\n",
    "    url2 = links\n",
    "    req2 = urlreq.Request(url2, headers=headers) #Parse the first vote\n",
    "    resp2 = urlreq.urlopen(req2)\n",
    "    respData2 = resp2.read()\n",
    "    data2 = re.findall(r'<span(.*?)/span>',str(respData2))\n",
    "    data2 = data2[11][21:-9]\n",
    "    A=data2.split('/b')\n",
    "    A=A[0:-1]\n",
    "    for a in A:\n",
    "        if(a[0]==\">\"):\n",
    "            a=a[15:-1]\n",
    "        else:\n",
    "            a=a[0:-1]\n",
    "        d=a.split(' ')\n",
    "        inList = False\n",
    "        for s in senators110th:\n",
    "            if(s.getName() == d[0]):\n",
    "                s.setVotes(mySort(d[2][3:]),voteNum)\n",
    "                inList = True\n",
    "        if(not inList):\n",
    "            senators110th.append(sen.Senator(d[0],N,d[1][1]))\n",
    "            senators110th[-1].setVotes(mySort(d[2][3:]),voteNum)\n",
    "            if(d[1][1]==\"D\"):\n",
    "                nDem+=1\n",
    "            elif(d[1][1]==\"R\"):\n",
    "                nRep+=1\n",
    "            else:\n",
    "                nInd+=1\n",
    "    voteNum+=1\n",
    "Votes110th=[]\n",
    "for s in senators110th:\n",
    "    Votes110th.append(s.getVotes())\n",
    "Votes110th=np.asarray(Votes110th)"
   ]
  },
  {
   "cell_type": "code",
   "execution_count": 40,
   "metadata": {},
   "outputs": [],
   "source": [
    "U,s,V=np.linalg.svd(Votes110th, full_matrices=False)\n",
    "D=[]\n",
    "R=[]\n",
    "I=[]\n",
    "for i in range(0,U.shape[0]):\n",
    "    if(senators110th[i].getParty()==\"D\"):\n",
    "        f = np.asarray([-U[i,1],-U[i,0]])\n",
    "        D.append(f)\n",
    "    if(senators110th[i].getParty()==\"R\"):\n",
    "        f = np.asarray([-U[i,1],-U[i,0]])\n",
    "        R.append(f)\n",
    "    if(senators110th[i].getParty()==\"I\"):\n",
    "        f = np.asarray([-U[i,1],-U[i,0]])\n",
    "        I.append(f)\n",
    "D=np.asarray(D)\n",
    "R=np.asarray(R)\n",
    "I=np.asarray(I)"
   ]
  },
  {
   "cell_type": "code",
   "execution_count": 41,
   "metadata": {},
   "outputs": [
    {
     "data": {
      "text/plain": [
       "100"
      ]
     },
     "execution_count": 41,
     "metadata": {},
     "output_type": "execute_result"
    }
   ],
   "source": [
    "len(senators110th)"
   ]
  },
  {
   "cell_type": "code",
   "execution_count": 42,
   "metadata": {},
   "outputs": [
    {
     "data": {
      "text/plain": [
       "(100, 73)"
      ]
     },
     "execution_count": 42,
     "metadata": {},
     "output_type": "execute_result"
    }
   ],
   "source": [
    "U.shape"
   ]
  },
  {
   "cell_type": "code",
   "execution_count": 43,
   "metadata": {},
   "outputs": [
    {
     "name": "stdout",
     "output_type": "stream",
     "text": [
      "There are 49 Democrats\n",
      "There are 49 Republicans\n",
      "There is/are 2 Independents\n"
     ]
    },
    {
     "data": {
      "image/png": "[encoded data removed]",
      "text/plain": [
       "<Figure size 720x576 with 1 Axes>"
      ]
     },
     "metadata": {
      "needs_background": "light"
     },
     "output_type": "display_data"
    }
   ],
   "source": [
    "print(\"There are\", D.shape[0], \"Democrats\")\n",
    "print(\"There are\", R.shape[0], \"Republicans\")\n",
    "print(\"There is/are\", I.shape[0], \"Independents\")\n",
    "fig = plt.figure(figsize=(10,8))\n",
    "ax1 = fig.add_subplot(111)\n",
    "plt.xlabel('partisan Coordinate')\n",
    "plt.ylabel('bipartisan Coordinate')\n",
    "plt.title('110th Second Session')\n",
    "ax1.scatter(D[:,0], D[:,1], s=50, c='b', marker=\"s\", label='Democrats')\n",
    "ax1.scatter(R[:,0], R[:,1], s=50, c='r', marker=\"^\", label='Republican')\n",
    "if(I.shape[0]!=0):\n",
    "    ax1.scatter(I[:,0], I[:,1], s=50, c='k', marker=\"*\", label='Independent')\n",
    "plt.legend(loc='lower right');\n",
    "plt.savefig('110th2.png')\n",
    "plt.show()\n"
   ]
  },
  {
   "cell_type": "code",
   "execution_count": null,
   "metadata": {},
   "outputs": [],
   "source": []
  },
  {
   "cell_type": "code",
   "execution_count": null,
   "metadata": {},
   "outputs": [],
   "source": []
  },
  {
   "cell_type": "code",
   "execution_count": null,
   "metadata": {},
   "outputs": [],
   "source": []
  },
  {
   "cell_type": "markdown",
   "metadata": {},
   "source": [
    "# 113th Data Scrape (2013)\n",
    "## First, we get the list of actual bills from the senate website\n",
    "N=Number of Bills for Voting"
   ]
  },
  {
   "cell_type": "code",
   "execution_count": 44,
   "metadata": {},
   "outputs": [
    {
     "name": "stdout",
     "output_type": "stream",
     "text": [
      "29\n"
     ]
    }
   ],
   "source": [
    "#Get the Bills Voted On 110th\n",
    "#Tell senate that Im a person, not Python\n",
    "headers={}\n",
    "headers['User-Agent'] = 'Mozilla/5.0 (Windows NT 6.1) AppleWebKit/537.36 (KHTML, like Gecko) Chrome/41.0.2228.0 Safari/537.36'\n",
    "#Session #1\n",
    "url = 'https://www.senate.gov/legislative/LIS/roll_call_lists/vote_menu_113_1.htm'\n",
    "req = urlreq.Request(url, headers=headers)\n",
    "resp = urlreq.urlopen(req)\n",
    "respData = resp.read()\n",
    "leader='https://www.senate.gov/l'\n",
    "listoflinks=[]\n",
    "data = re.findall(r'<tr(.*?)/tr>',str(respData))\n",
    "for d in data:\n",
    "    if(\"A bill\" in d):\n",
    "        l=re.findall(r'/l(.*?)>',str(d))\n",
    "        listoflinks.append(leader+str(l)[2:-3])\n",
    "#How many bills are we working with?\n",
    "N=len(listoflinks)\n",
    "print(N)"
   ]
  },
  {
   "cell_type": "code",
   "execution_count": 45,
   "metadata": {},
   "outputs": [],
   "source": [
    "#Trick the Site\n",
    "#Make my vector of Senator class objects\n",
    "senators113th = []\n",
    "nDem=0\n",
    "nRep=0\n",
    "nInd=0\n",
    "#A=np.zeros((100,len(listoflinks)))\n",
    "baseVote=listoflinks[0] #Get my base senators\n",
    "req2 = urlreq.Request(baseVote, headers=headers) #Parse the first vote\n",
    "resp2 = urlreq.urlopen(req2)\n",
    "respData2 = resp2.read()\n",
    "data2 = re.findall(r'<span(.*?)/span>',str(respData2))\n",
    "data2 = data2[11][21:-9]\n",
    "A=data2.split('/b')\n",
    "A=A[0:-1]\n",
    "voteNum=0\n",
    "for a in A:\n",
    "    if(a[0]==\">\"):\n",
    "        a=a[15:-1]\n",
    "    else:\n",
    "        a=a[0:-1]\n",
    "    d=a.split(' ')\n",
    "    senators113th.append(sen.Senator(d[0],N,d[1][1]))\n",
    "    if(d[1][1]==\"D\"):\n",
    "        nDem+=1\n",
    "    elif(d[1][1]==\"R\"):\n",
    "        nRep+=1\n",
    "    else:\n",
    "        nInd+=1\n",
    "    for s in senators113th:\n",
    "        if(s.getName() == d[0]):\n",
    "            s.setVotes(mySort(d[2][3:]),voteNum)\n",
    "#Now that we've got the first ones(And the senator Names Loaded,\n",
    "#Do the rest of the bills\n",
    "listoflinks = listoflinks[1:]\n",
    "voteNum+=1\n",
    "for links in listoflinks:\n",
    "    url2 = links\n",
    "    req2 = urlreq.Request(url2, headers=headers) #Parse the first vote\n",
    "    resp2 = urlreq.urlopen(req2)\n",
    "    respData2 = resp2.read()\n",
    "    data2 = re.findall(r'<span(.*?)/span>',str(respData2))\n",
    "    data2 = data2[11][21:-9]\n",
    "    A=data2.split('/b')\n",
    "    A=A[0:-1]\n",
    "    for a in A:\n",
    "        if(a[0]==\">\"):\n",
    "            a=a[15:-1]\n",
    "        else:\n",
    "            a=a[0:-1]\n",
    "        d=a.split(' ')\n",
    "        inList = False\n",
    "        for s in senators113th:\n",
    "            if(s.getName() == d[0]):\n",
    "                s.setVotes(mySort(d[2][3:]),voteNum)\n",
    "                inList = True\n",
    "        if(not inList):\n",
    "            senators113th.append(sen.Senator(d[0],N,d[1][1]))\n",
    "            senators113th[-1].setVotes(mySort(d[2][3:]),voteNum)\n",
    "            if(d[1][1]==\"D\"):\n",
    "                nDem+=1\n",
    "            elif(d[1][1]==\"R\"):\n",
    "                nRep+=1\n",
    "            else:\n",
    "                nInd+=1\n",
    "    voteNum+=1\n",
    "Votes113th=[]\n",
    "for s in senators113th:\n",
    "    Votes113th.append(s.getVotes())\n",
    "Votes113th=np.asarray(Votes113th)"
   ]
  },
  {
   "cell_type": "code",
   "execution_count": 46,
   "metadata": {},
   "outputs": [],
   "source": [
    "U,s,V=np.linalg.svd(Votes113th, full_matrices=False)\n",
    "D=[]\n",
    "R=[]\n",
    "I=[]\n",
    "for i in range(0,U.shape[0]):\n",
    "    if(senators113th[i].getParty()==\"D\"):\n",
    "        f = np.asarray([-U[i,1],-U[i,0]])\n",
    "        D.append(f)\n",
    "    if(senators113th[i].getParty()==\"R\"):\n",
    "        f = np.asarray([-U[i,1],-U[i,0]])\n",
    "        R.append(f)\n",
    "    if(senators113th[i].getParty()==\"I\"):\n",
    "        f = np.asarray([-U[i,1],-U[i,0]])\n",
    "        I.append(f)\n",
    "D=np.asarray(D)\n",
    "R=np.asarray(R)\n",
    "I=np.asarray(I)"
   ]
  },
  {
   "cell_type": "code",
   "execution_count": 47,
   "metadata": {},
   "outputs": [
    {
     "data": {
      "text/plain": [
       "104"
      ]
     },
     "execution_count": 47,
     "metadata": {},
     "output_type": "execute_result"
    }
   ],
   "source": [
    "len(senators113th)"
   ]
  },
  {
   "cell_type": "code",
   "execution_count": 48,
   "metadata": {},
   "outputs": [
    {
     "data": {
      "text/plain": [
       "(104, 29)"
      ]
     },
     "execution_count": 48,
     "metadata": {},
     "output_type": "execute_result"
    }
   ],
   "source": [
    "U.shape"
   ]
  },
  {
   "cell_type": "code",
   "execution_count": 49,
   "metadata": {},
   "outputs": [
    {
     "name": "stdout",
     "output_type": "stream",
     "text": [
      "There are 56 Democrats\n",
      "There are 46 Republicans\n",
      "There is/are 2 Independents\n"
     ]
    },
    {
     "data": {
      "image/png": "[encoded data removed]",
      "text/plain": [
       "<Figure size 720x576 with 1 Axes>"
      ]
     },
     "metadata": {
      "needs_background": "light"
     },
     "output_type": "display_data"
    }
   ],
   "source": [
    "print(\"There are\", D.shape[0], \"Democrats\")\n",
    "print(\"There are\", R.shape[0], \"Republicans\")\n",
    "print(\"There is/are\", I.shape[0], \"Independents\")\n",
    "fig = plt.figure(figsize=(10,8))\n",
    "ax1 = fig.add_subplot(111)\n",
    "plt.xlabel('partisan Coordinate')\n",
    "plt.ylabel('bipartisan Coordinate')\n",
    "plt.title('113th First Session')\n",
    "ax1.scatter(D[:,0], D[:,1], s=50, c='b', marker=\"s\", label='Democrats')\n",
    "ax1.scatter(R[:,0], R[:,1], s=50, c='r', marker=\"^\", label='Republican')\n",
    "if(I.shape[0]!=0):\n",
    "    ax1.scatter(I[:,0], I[:,1], s=50, c='k', marker=\"*\", label='Independent')\n",
    "plt.legend(loc='lower right');\n",
    "plt.savefig('113th1.png')\n",
    "plt.show()\n"
   ]
  },
  {
   "cell_type": "code",
   "execution_count": null,
   "metadata": {},
   "outputs": [],
   "source": []
  },
  {
   "cell_type": "markdown",
   "metadata": {},
   "source": [
    "# Second Session 113th"
   ]
  },
  {
   "cell_type": "code",
   "execution_count": null,
   "metadata": {},
   "outputs": [],
   "source": []
  },
  {
   "cell_type": "code",
   "execution_count": 50,
   "metadata": {},
   "outputs": [
    {
     "name": "stdout",
     "output_type": "stream",
     "text": [
      "45\n"
     ]
    }
   ],
   "source": [
    "#Get the Bills Voted On 107th\n",
    "#Tell senate that Im a person, not Python\n",
    "headers={}\n",
    "headers['User-Agent'] = 'Mozilla/5.0 (Windows NT 6.1) AppleWebKit/537.36 (KHTML, like Gecko) Chrome/41.0.2228.0 Safari/537.36'\n",
    "#Session #1\n",
    "url = 'https://www.senate.gov/legislative/LIS/roll_call_lists/vote_menu_113_2.htm'\n",
    "req = urlreq.Request(url, headers=headers)\n",
    "resp = urlreq.urlopen(req)\n",
    "respData = resp.read()\n",
    "leader='https://www.senate.gov/l'\n",
    "listoflinks=[]\n",
    "data = re.findall(r'<tr(.*?)/tr>',str(respData))\n",
    "for d in data:\n",
    "    if(\"A bill\" in d):\n",
    "        l=re.findall(r'/l(.*?)>',str(d))\n",
    "        listoflinks.append(leader+str(l)[2:-3])\n",
    "#How many bills are we working with?\n",
    "N=len(listoflinks)\n",
    "print(N)"
   ]
  },
  {
   "cell_type": "code",
   "execution_count": 51,
   "metadata": {},
   "outputs": [],
   "source": [
    "#Trick the Site\n",
    "#Make my vector of Senator class objects\n",
    "senators113th = []\n",
    "nDem=0\n",
    "nRep=0\n",
    "nInd=0\n",
    "#A=np.zeros((100,len(listoflinks)))\n",
    "baseVote=listoflinks[0] #Get my base senators\n",
    "req2 = urlreq.Request(baseVote, headers=headers) #Parse the first vote\n",
    "resp2 = urlreq.urlopen(req2)\n",
    "respData2 = resp2.read()\n",
    "data2 = re.findall(r'<span(.*?)/span>',str(respData2))\n",
    "data2 = data2[11][21:-9]\n",
    "A=data2.split('/b')\n",
    "A=A[0:-1]\n",
    "voteNum=0\n",
    "for a in A:\n",
    "    if(a[0]==\">\"):\n",
    "        a=a[15:-1]\n",
    "    else:\n",
    "        a=a[0:-1]\n",
    "    d=a.split(' ')\n",
    "    senators113th.append(sen.Senator(d[0],N,d[1][1]))\n",
    "    if(d[1][1]==\"D\"):\n",
    "        nDem+=1\n",
    "    elif(d[1][1]==\"R\"):\n",
    "        nRep+=1\n",
    "    else:\n",
    "        nInd+=1\n",
    "    for s in senators113th:\n",
    "        if(s.getName() == d[0]):\n",
    "            s.setVotes(mySort(d[2][3:]),voteNum)\n",
    "#Now that we've got the first ones(And the senator Names Loaded,\n",
    "#Do the rest of the bills\n",
    "listoflinks = listoflinks[1:]\n",
    "voteNum+=1\n",
    "for links in listoflinks:\n",
    "    url2 = links\n",
    "    req2 = urlreq.Request(url2, headers=headers) #Parse the first vote\n",
    "    resp2 = urlreq.urlopen(req2)\n",
    "    respData2 = resp2.read()\n",
    "    data2 = re.findall(r'<span(.*?)/span>',str(respData2))\n",
    "    data2 = data2[11][21:-9]\n",
    "    A=data2.split('/b')\n",
    "    A=A[0:-1]\n",
    "    for a in A:\n",
    "        if(a[0]==\">\"):\n",
    "            a=a[15:-1]\n",
    "        else:\n",
    "            a=a[0:-1]\n",
    "        d=a.split(' ')\n",
    "        inList = False\n",
    "        for s in senators113th:\n",
    "            if(s.getName() == d[0]):\n",
    "                s.setVotes(mySort(d[2][3:]),voteNum)\n",
    "                inList = True\n",
    "        if(not inList):\n",
    "            senators113th.append(sen.Senator(d[0],N,d[1][1]))\n",
    "            senators113th[-1].setVotes(mySort(d[2][3:]),voteNum)\n",
    "            if(d[1][1]==\"D\"):\n",
    "                nDem+=1\n",
    "            elif(d[1][1]==\"R\"):\n",
    "                nRep+=1\n",
    "            else:\n",
    "                nInd+=1\n",
    "    voteNum+=1\n",
    "Votes113th=[]\n",
    "for s in senators113th:\n",
    "    Votes113th.append(s.getVotes())\n",
    "Votes113th=np.asarray(Votes113th)"
   ]
  },
  {
   "cell_type": "code",
   "execution_count": 52,
   "metadata": {},
   "outputs": [],
   "source": [
    "U,s,V=np.linalg.svd(Votes113th, full_matrices=False)\n",
    "D=[]\n",
    "R=[]\n",
    "I=[]\n",
    "for i in range(0,U.shape[0]):\n",
    "    if(senators113th[i].getParty()==\"D\"):\n",
    "        f = np.asarray([-U[i,1],-U[i,0]])\n",
    "        D.append(f)\n",
    "    if(senators113th[i].getParty()==\"R\"):\n",
    "        f = np.asarray([-U[i,1],-U[i,0]])\n",
    "        R.append(f)\n",
    "    if(senators113th[i].getParty()==\"I\"):\n",
    "        f = np.asarray([-U[i,1],-U[i,0]])\n",
    "        I.append(f)\n",
    "D=np.asarray(D)\n",
    "R=np.asarray(R)\n",
    "I=np.asarray(I)"
   ]
  },
  {
   "cell_type": "code",
   "execution_count": 53,
   "metadata": {},
   "outputs": [
    {
     "data": {
      "text/plain": [
       "101"
      ]
     },
     "execution_count": 53,
     "metadata": {},
     "output_type": "execute_result"
    }
   ],
   "source": [
    "len(senators113th)"
   ]
  },
  {
   "cell_type": "code",
   "execution_count": 54,
   "metadata": {},
   "outputs": [
    {
     "data": {
      "text/plain": [
       "(101, 45)"
      ]
     },
     "execution_count": 54,
     "metadata": {},
     "output_type": "execute_result"
    }
   ],
   "source": [
    "U.shape"
   ]
  },
  {
   "cell_type": "code",
   "execution_count": 55,
   "metadata": {},
   "outputs": [
    {
     "name": "stdout",
     "output_type": "stream",
     "text": [
      "There are 54 Democrats\n",
      "There are 45 Republicans\n",
      "There is/are 2 Independents\n"
     ]
    },
    {
     "data": {
      "image/png": "[encoded data removed]",
      "text/plain": [
       "<Figure size 720x576 with 1 Axes>"
      ]
     },
     "metadata": {
      "needs_background": "light"
     },
     "output_type": "display_data"
    }
   ],
   "source": [
    "print(\"There are\", D.shape[0], \"Democrats\")\n",
    "print(\"There are\", R.shape[0], \"Republicans\")\n",
    "print(\"There is/are\", I.shape[0], \"Independents\")\n",
    "fig = plt.figure(figsize=(10,8))\n",
    "ax1 = fig.add_subplot(111)\n",
    "plt.xlabel('partisan Coordinate')\n",
    "plt.ylabel('bipartisan Coordinate')\n",
    "plt.title('113th Second Session')\n",
    "ax1.scatter(D[:,0], D[:,1], s=50, c='b', marker=\"s\", label='Democrats')\n",
    "ax1.scatter(R[:,0], R[:,1], s=50, c='r', marker=\"^\", label='Republican')\n",
    "if(I.shape[0]!=0):\n",
    "    ax1.scatter(I[:,0], I[:,1], s=50, c='k', marker=\"*\", label='Independent')\n",
    "plt.legend(loc='lower right');\n",
    "plt.savefig('113th2.png')\n",
    "plt.show()\n"
   ]
  },
  {
   "cell_type": "code",
   "execution_count": null,
   "metadata": {},
   "outputs": [],
   "source": []
  },
  {
   "cell_type": "code",
   "execution_count": null,
   "metadata": {},
   "outputs": [],
   "source": []
  },
  {
   "cell_type": "code",
   "execution_count": null,
   "metadata": {},
   "outputs": [],
   "source": []
  },
  {
   "cell_type": "code",
   "execution_count": null,
   "metadata": {},
   "outputs": [],
   "source": []
  }
 ],
 "metadata": {
  "kernelspec": {
   "display_name": "Python 3",
   "language": "python",
   "name": "python3"
  },
  "language_info": {
   "codemirror_mode": {
    "name": "ipython",
    "version": 3
   },
   "file_extension": ".py",
   "mimetype": "text/x-python",
   "name": "python",
   "nbconvert_exporter": "python",
   "pygments_lexer": "ipython3",
   "version": "3.7.0"
  }
 },
 "nbformat": 4,
 "nbformat_minor": 2
}
