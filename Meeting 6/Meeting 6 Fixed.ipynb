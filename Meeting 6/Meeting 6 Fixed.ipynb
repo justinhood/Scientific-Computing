{
 "cells": [
  {
   "cell_type": "code",
   "execution_count": 1,
   "metadata": {},
   "outputs": [],
   "source": [
    "import numpy as np"
   ]
  },
  {
   "cell_type": "code",
   "execution_count": 13,
   "metadata": {},
   "outputs": [],
   "source": [
    "A=np.array([[1,2,3,4],[2,1,4,3],[3,4,2,1],[4,2,3,1]],dtype=float)\n",
    "np.random.seed(1) #Mirrored Error in Pivot\n",
    "#np.random.seed(5) # No Error in Pivot\n",
    "B=np.random.rand(4,4)\n",
    "C=np.array([[1,4,4,3],[5,2,4,2],[1,1,2,1],[3,2,1,2]],dtype=float)\n",
    "sys=np.array([[1,2,2],[3,2,1],[1,3,2]], dtype=float)\n",
    "b=np.array([[11],[10],[10]], dtype=float)\n",
    "Tester=B"
   ]
  },
  {
   "cell_type": "markdown",
   "metadata": {},
   "source": [
    "# Partial Pivoting"
   ]
  },
  {
   "cell_type": "code",
   "execution_count": 14,
   "metadata": {},
   "outputs": [],
   "source": [
    "def myLUPartial(A):\n",
    "    m,n=A.shape #Limits\n",
    "    P = np.arange(m) #Permutation vector\n",
    "    flop=np.zeros((m,m)) #Permutation Matrix\n",
    "    U=A.copy() #Copy A to not change it\n",
    "    L=np.eye(m) #Base L matrix\n",
    "    if(m!=n): #Check Square\n",
    "        print(\"NonSquare input\")\n",
    "        return 1\n",
    "    for c in range(0,n-1): #Loop\n",
    "        #************************************************\n",
    "        # Get a copy of L for pivot flopping\n",
    "        #************************************************\n",
    "        W=L.copy()\n",
    "        V=U.copy() #Get a copy of U for pivot flopping\n",
    "        O=P.copy() #Same for Permutation\n",
    "        M=np.argmax(np.abs(U[c:,c])) #Find index of largest in SubColumn\n",
    "        if(M+c!=c): #If index is not current index, Swap for largest  *******************M+c?*************************\n",
    "            #************************************************\n",
    "            L[M+c,:]=W[c,:] #Flop L\n",
    "            L[c,:]=W[M+c,:]\n",
    "            #************************************************\n",
    "            U[M+c,:]=V[c,:] #Flop U\n",
    "            U[c,:]=V[M+c,:]\n",
    "            P[M+c]=O[c] #Flop P\n",
    "            P[c]=O[M+c]\n",
    "        for r in range(int(c+1),m): #Do Elimination \n",
    "            d=U[r,c]/U[c,c]\n",
    "            L[r,c]=d\n",
    "            U[r,:]=U[r,:]-d*U[c,:]\n",
    "    for i in range(0,n): #Make Flop Matrix from Perm Vector\n",
    "        flop[P[i],i]=1\n",
    "    #************************************************\n",
    "    # Unflop L\n",
    "    #************************************************\n",
    "    L = np.tril(L,k=-1)+np.eye(m)\n",
    "    return L,U, flop"
   ]
  },
  {
   "cell_type": "code",
   "execution_count": 15,
   "metadata": {},
   "outputs": [
    {
     "name": "stdout",
     "output_type": "stream",
     "text": [
      "A=\n",
      " [[4.17022005e-01 7.20324493e-01 1.14374817e-04 3.02332573e-01]\n",
      " [1.46755891e-01 9.23385948e-02 1.86260211e-01 3.45560727e-01]\n",
      " [3.96767474e-01 5.38816734e-01 4.19194514e-01 6.85219500e-01]\n",
      " [2.04452250e-01 8.78117436e-01 2.73875932e-02 6.70467510e-01]] \n",
      "\n",
      "L=\n",
      " [[ 1.          0.          0.          0.        ]\n",
      " [ 0.49026729  1.          0.          0.        ]\n",
      " [ 0.95143055 -0.27910764  1.          0.        ]\n",
      " [ 0.35191402 -0.30697936  0.45606686  1.        ]] \n",
      "\n",
      "U=\n",
      " [[4.17022005e-01 7.20324493e-01 1.14374817e-04 3.02332573e-01]\n",
      " [0.00000000e+00 5.24965896e-01 2.73315190e-02 5.22243738e-01]\n",
      " [0.00000000e+00 0.00000000e+00 4.26714131e-01 5.43333273e-01]\n",
      " [0.00000000e+00 0.00000000e+00 0.00000000e+00 1.51687404e-01]] \n",
      "\n",
      "Recombining:\n",
      "[[4.17022005e-01 7.20324493e-01 1.14374817e-04 3.02332573e-01]\n",
      " [2.04452250e-01 8.78117436e-01 2.73875932e-02 6.70467510e-01]\n",
      " [3.96767474e-01 5.38816734e-01 4.19194514e-01 6.85219500e-01]\n",
      " [1.46755891e-01 9.23385948e-02 1.86260211e-01 3.45560727e-01]]\n",
      "flop\n",
      "[[1. 0. 0. 0.]\n",
      " [0. 0. 0. 1.]\n",
      " [0. 0. 1. 0.]\n",
      " [0. 1. 0. 0.]]\n",
      "Swapping\n",
      "[[4.17022005e-01 7.20324493e-01 1.14374817e-04 3.02332573e-01]\n",
      " [1.46755891e-01 9.23385948e-02 1.86260211e-01 3.45560727e-01]\n",
      " [3.96767474e-01 5.38816734e-01 4.19194514e-01 6.85219500e-01]\n",
      " [2.04452250e-01 8.78117436e-01 2.73875932e-02 6.70467510e-01]]\n",
      "-----------------------------------------------------------------\n",
      "Error=\n",
      " [[0.00000000e+00 0.00000000e+00 0.00000000e+00 0.00000000e+00]\n",
      " [0.00000000e+00 0.00000000e+00 2.77555756e-17 0.00000000e+00]\n",
      " [0.00000000e+00 0.00000000e+00 0.00000000e+00 0.00000000e+00]\n",
      " [0.00000000e+00 0.00000000e+00 0.00000000e+00 1.11022302e-16]]\n"
     ]
    }
   ],
   "source": [
    "L,U, flop=myLUPartial(Tester)\n",
    "print(\"A=\\n\",Tester,\"\\n\")\n",
    "print(\"L=\\n\",L,\"\\n\")\n",
    "print(\"U=\\n\",U,\"\\n\")\n",
    "print(\"Recombining:\")\n",
    "print(np.matmul(L,U))\n",
    "print(\"flop\")\n",
    "print(flop)\n",
    "print(\"Swapping\")\n",
    "print(np.matmul(flop,np.matmul(L,U)))\n",
    "print(\"-\"*65)\n",
    "print(\"Error=\\n\",Tester-np.matmul(flop,np.matmul(L,U)))"
   ]
  },
  {
   "cell_type": "code",
   "execution_count": null,
   "metadata": {},
   "outputs": [],
   "source": []
  }
 ],
 "metadata": {
  "kernelspec": {
   "display_name": "Python 3",
   "language": "python",
   "name": "python3"
  },
  "language_info": {
   "codemirror_mode": {
    "name": "ipython",
    "version": 3
   },
   "file_extension": ".py",
   "mimetype": "text/x-python",
   "name": "python",
   "nbconvert_exporter": "python",
   "pygments_lexer": "ipython3",
   "version": "3.7.0"
  }
 },
 "nbformat": 4,
 "nbformat_minor": 2
}
