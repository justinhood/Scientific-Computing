{
 "cells": [
  {
   "cell_type": "markdown",
   "metadata": {},
   "source": [
    "# Naive Gaussian Elimination"
   ]
  },
  {
   "cell_type": "code",
   "execution_count": 1,
   "metadata": {},
   "outputs": [],
   "source": [
    "from scipy import mat\n",
    "import numpy as np"
   ]
  },
  {
   "cell_type": "markdown",
   "metadata": {},
   "source": [
    "###### Define the matrix and right-hand side and solve the linear system $Ax=b$ using NumPy."
   ]
  },
  {
   "cell_type": "code",
   "execution_count": 2,
   "metadata": {},
   "outputs": [
    {
     "name": "stdout",
     "output_type": "stream",
     "text": [
      "A = \n",
      "[[5. 2. 0. 0.]\n",
      " [1. 5. 2. 0.]\n",
      " [0. 1. 5. 2.]\n",
      " [0. 0. 1. 5.]]\n",
      "\n",
      "b = \n",
      "[[1.]\n",
      " [2.]\n",
      " [3.]\n",
      " [4.]]\n",
      "\n",
      "x = \n",
      "[[0.08559499]\n",
      " [0.28601253]\n",
      " [0.24217119]\n",
      " [0.75156576]]\n",
      "\n"
     ]
    }
   ],
   "source": [
    "A = mat('5,2,0,0;1,5,2,0;0,1,5,2;0,0,1,5',float)\n",
    "b = mat('1;2;3;4',float)\n",
    "print('A = \\n' + str(A) + '\\n')\n",
    "print('b = \\n' + str(b) + '\\n')\n",
    "x = np.linalg.solve(A,b)\n",
    "print('x = \\n' + str(x) + '\\n')"
   ]
  },
  {
   "cell_type": "markdown",
   "metadata": {},
   "source": [
    "###### Check the residual $$r = b - Ax$$ and see if we obtain the 0 vector and check the 2-norm of the residual to see if we obtain 0."
   ]
  },
  {
   "cell_type": "code",
   "execution_count": 3,
   "metadata": {},
   "outputs": [
    {
     "name": "stdout",
     "output_type": "stream",
     "text": [
      "[[ 0.0000000e+00]\n",
      " [ 0.0000000e+00]\n",
      " [ 0.0000000e+00]\n",
      " [-8.8817842e-16]]\n"
     ]
    }
   ],
   "source": [
    "r = b-np.dot(A,x)\n",
    "print(r)"
   ]
  },
  {
   "cell_type": "code",
   "execution_count": 4,
   "metadata": {},
   "outputs": [
    {
     "name": "stdout",
     "output_type": "stream",
     "text": [
      "||b-Ax||_2 = 8.881784197001252e-16\n"
     ]
    }
   ],
   "source": [
    "print(f'||b-Ax||_2 = {np.linalg.norm(r)}')"
   ]
  },
  {
   "cell_type": "markdown",
   "metadata": {},
   "source": [
    "###### Perform Naive Gaussian Elimination of a Matrix A"
   ]
  },
  {
   "cell_type": "code",
   "execution_count": 5,
   "metadata": {},
   "outputs": [
    {
     "name": "stdout",
     "output_type": "stream",
     "text": [
      "A = \n",
      "[[ 1.  2.  3.]\n",
      " [ 2. -4.  6.]\n",
      " [ 3. -9. -3.]]\n",
      "\n"
     ]
    }
   ],
   "source": [
    "A = mat('1,2,3;2,-4,6;3,-9,-3',float)\n",
    "print('A = \\n' + str(A) + '\\n')"
   ]
  },
  {
   "cell_type": "markdown",
   "metadata": {},
   "source": [
    "###### We are going to create a matrix factorization for A called the LU factorization where\n",
    "$$ A = LU$$\n",
    "and $L$ is an upper-triangular (upper echelon) matrix while $U$ is a lower-triangular (lower echelon) matrix.\n",
    "So that if we solve $$Ax = b$$ then\n",
    "\\begin{align*}\n",
    " Ax &= b\\\\\n",
    " LUx &= b\\\\\n",
    " Ux &= L^{-1}b\\qquad\\mbox{computed by forward substitution}\\\\\n",
    " x &= U^{-1}L^{-1}b\\qquad\\mbox{computed by backward substitution}\n",
    "\\end{align*}"
   ]
  },
  {
   "cell_type": "code",
   "execution_count": 6,
   "metadata": {},
   "outputs": [],
   "source": [
    "# Initialize dimension and matrices L and U\n",
    "U = A.copy()\n",
    "L = np.eye(A.shape[0])"
   ]
  },
  {
   "cell_type": "markdown",
   "metadata": {},
   "source": [
    "###### The entry below the first pivot (first diagonal entry) is going to be elminated (result in a 0, so simply set it to 0 and proceed to act on the remaining entries in the second row."
   ]
  },
  {
   "cell_type": "code",
   "execution_count": 7,
   "metadata": {},
   "outputs": [],
   "source": [
    "# First column below fist pivot zeroed\n",
    "m = (U[1,0]/U[0,0])\n",
    "L[1,0] = m\n",
    "U[1,0] = 0  # set entry to 0\n",
    "U[1,1:] = U[1,1:] - m*U[0,1:]"
   ]
  },
  {
   "cell_type": "code",
   "execution_count": 8,
   "metadata": {},
   "outputs": [
    {
     "name": "stdout",
     "output_type": "stream",
     "text": [
      "U = \n",
      "[[ 1.  2.  3.]\n",
      " [ 0. -8.  0.]\n",
      " [ 3. -9. -3.]]\n",
      "\n",
      "L = \n",
      "[[1. 0. 0.]\n",
      " [2. 1. 0.]\n",
      " [0. 0. 1.]]\n",
      "\n"
     ]
    }
   ],
   "source": [
    "print('U = \\n' + str(U) + '\\n')\n",
    "print('L = \\n' + str(L) + '\\n')"
   ]
  },
  {
   "cell_type": "markdown",
   "metadata": {},
   "source": [
    "###### Now zero the next entry in the first column and act on the remaining entries in the last row."
   ]
  },
  {
   "cell_type": "code",
   "execution_count": null,
   "metadata": {},
   "outputs": [],
   "source": [
    "m = (U[2,0]/U[0,0])\n",
    "L[2,0] = m\n",
    "U[2,0] = 0  # set entry to 0\n",
    "U[2,1:] = U[2,1:] - m*U[0,1:]"
   ]
  },
  {
   "cell_type": "code",
   "execution_count": null,
   "metadata": {},
   "outputs": [],
   "source": [
    "print('U = \\n' + str(U) + '\\n')\n",
    "print('L = \\n' + str(L) + '\\n')"
   ]
  },
  {
   "cell_type": "markdown",
   "metadata": {},
   "source": [
    "###### Similarly zero the next element below the next pivot (diagonal entry of second row) and act on the remaining elements of the second row."
   ]
  },
  {
   "cell_type": "code",
   "execution_count": null,
   "metadata": {},
   "outputs": [],
   "source": [
    "# Second column below second pivot zeroed\n",
    "m = (U[2,1]/U[1,1])\n",
    "L[2,1] = m\n",
    "U[2,1] = 0  # set entry to 0\n",
    "U[2,2:] = U[2,2:] - m*U[1,2:]"
   ]
  },
  {
   "cell_type": "code",
   "execution_count": null,
   "metadata": {},
   "outputs": [],
   "source": [
    "print('U = \\n' + str(U) + '\\n')\n",
    "print('L = \\n' + str(L) + '\\n')"
   ]
  },
  {
   "cell_type": "markdown",
   "metadata": {},
   "source": [
    "###### The matrix $L$ retains the impact of the pivots on the rows during the elimination process. It's an historical record of the Gaussian elimination. While the matrix $U$ is the upper-echelon form we need to solve the linear system $Ax=b$ using back substitution."
   ]
  },
  {
   "cell_type": "code",
   "execution_count": null,
   "metadata": {},
   "outputs": [],
   "source": [
    "print('LU = \\n' + str(L.dot(U)) + '\\n')\n",
    "print('A = \\n' + str(A) + '\\n')"
   ]
  },
  {
   "cell_type": "markdown",
   "metadata": {},
   "source": [
    "###### Notice that we could store $L$ in the lower triangular part of $U$."
   ]
  },
  {
   "cell_type": "code",
   "execution_count": null,
   "metadata": {},
   "outputs": [],
   "source": [
    "A = mat('1,2,3;2,-4,6;3,-9,-3',float)\n",
    "U = A.copy()\n",
    "m = (U[1,0]/U[0,0])\n",
    "U[1,0] = m  # set entry to 0 and store pivot (L matrix entry)\n",
    "U[1,1:] = U[1,1:] - m*U[0,1:]\n",
    "m = (U[2,0]/U[0,0])\n",
    "U[2,0] = m  # set entry to 0 and store pivot (L matrix entry)\n",
    "U[2,1:] = U[2,1:] - m*U[0,1:]\n",
    "m = (U[2,1]/U[1,1])\n",
    "U[2,1] = m  # set entry to 0\n",
    "U[2,2:] = U[2,2:] - m*U[1,2:]"
   ]
  },
  {
   "cell_type": "code",
   "execution_count": null,
   "metadata": {},
   "outputs": [],
   "source": [
    "print('Stored L inside U lower echelon:\\n')\n",
    "print('U = \\n' + str(U) + '\\n')\n",
    "print('L = \\n' + str(L) + '\\n')"
   ]
  },
  {
   "cell_type": "markdown",
   "metadata": {},
   "source": [
    "###### Solve Ax = b with naive Gaussian elimination"
   ]
  },
  {
   "cell_type": "code",
   "execution_count": null,
   "metadata": {},
   "outputs": [],
   "source": [
    "b = mat('1;1;1',float)"
   ]
  },
  {
   "cell_type": "markdown",
   "metadata": {},
   "source": [
    "###### Perform Forward Substitution. Here is a \"fake version\" where we simply use the inverse matrix of $L$ to mimic forward substitution."
   ]
  },
  {
   "cell_type": "code",
   "execution_count": null,
   "metadata": {},
   "outputs": [],
   "source": [
    "y = np.linalg.inv(L).dot(b)"
   ]
  },
  {
   "cell_type": "markdown",
   "metadata": {},
   "source": [
    "###### <font color='red'>Exercise: Write the Forward Substitution Algorithm"
   ]
  },
  {
   "cell_type": "markdown",
   "metadata": {},
   "source": [
    "###### Perform Backward Substitution"
   ]
  },
  {
   "cell_type": "code",
   "execution_count": null,
   "metadata": {},
   "outputs": [],
   "source": [
    "x = 0*y\n",
    "n = len(y)-1\n",
    "for i in range(n,-1,-1):\n",
    "    s = y[i]\n",
    "    for j in range(i+1,n+1):\n",
    "        s += -U[i,j]*x[j]\n",
    "    x[i] = s/U[i,i]"
   ]
  },
  {
   "cell_type": "markdown",
   "metadata": {},
   "source": [
    "###### Check against NumPy"
   ]
  },
  {
   "cell_type": "code",
   "execution_count": null,
   "metadata": {},
   "outputs": [],
   "source": [
    "print(x)\n",
    "print(np.linalg.solve(A,b))"
   ]
  },
  {
   "cell_type": "markdown",
   "metadata": {},
   "source": [
    "###### Check the residual $$r = b - Ax$$ and see if we obtain the 0 vector and check the 2-norm of the residual to see if we obtain 0."
   ]
  },
  {
   "cell_type": "code",
   "execution_count": null,
   "metadata": {},
   "outputs": [],
   "source": [
    "r = b-np.dot(A,x)\n",
    "print(r)"
   ]
  },
  {
   "cell_type": "code",
   "execution_count": null,
   "metadata": {},
   "outputs": [],
   "source": [
    "print(f'||b-Ax||_2 = {np.linalg.norm(r)}')"
   ]
  },
  {
   "cell_type": "markdown",
   "metadata": {},
   "source": [
    "###### <font color='red'> Exercise: Write a general (can take any size $n$) algorithm for computing the (naive) $LU$ factorization of a square matrix."
   ]
  },
  {
   "cell_type": "markdown",
   "metadata": {},
   "source": [
    "###### In this example proceeding naively will lead to division by 0"
   ]
  },
  {
   "cell_type": "code",
   "execution_count": null,
   "metadata": {},
   "outputs": [],
   "source": [
    "A = mat('1 -1 2 -1; 2 -2 3 -3; 1 1 1 0; 1 -1 4 3',float)\n",
    "print('A = \\n' + str(A) + '\\n')"
   ]
  },
  {
   "cell_type": "code",
   "execution_count": null,
   "metadata": {},
   "outputs": [],
   "source": [
    "A.shape"
   ]
  },
  {
   "cell_type": "code",
   "execution_count": null,
   "metadata": {},
   "outputs": [],
   "source": [
    "# Initialize dimension and matrices L and U\n",
    "n = A.shape[0]-1\n",
    "U = A.copy()\n",
    "print(U)"
   ]
  },
  {
   "cell_type": "code",
   "execution_count": null,
   "metadata": {},
   "outputs": [],
   "source": [
    "# First column below fist pivot zeroed\n",
    "m = (U[1,0]/U[0,0])\n",
    "U[1,0] = 0  # set entry to 0\n",
    "U[1,1:] = U[1,1:] - m*U[0,1:]\n",
    "m = (U[2,0]/U[0,0])\n",
    "U[2,0] = 0  # set entry to 0\n",
    "U[2,1:] = U[2,1:] - m*U[0,1:]\n",
    "m = (U[3,0]/U[0,0])\n",
    "U[3,0] = 0  # set entry to 0\n",
    "U[3,1:] = U[3,1:] - m*U[0,1:]"
   ]
  },
  {
   "cell_type": "code",
   "execution_count": null,
   "metadata": {},
   "outputs": [],
   "source": [
    "# Notice that the next diagonal entry (pivot) is 0.\n",
    "print(U)"
   ]
  },
  {
   "cell_type": "markdown",
   "metadata": {},
   "source": [
    "###### As expected, we obtain a division by zero problem by proceeding with naive Gaussian elimination."
   ]
  },
  {
   "cell_type": "code",
   "execution_count": null,
   "metadata": {},
   "outputs": [],
   "source": [
    "m = (U[2,1]/U[1,1])\n",
    "U[2,1] = 0  # set entry to 0\n",
    "U[2,2:] = U[2,2:] - m*U[1,2:]\n",
    "m = (U[3,1]/U[1,1])\n",
    "U[3,1] = 0  # set entry to 0\n",
    "U[3,2:] = U[3,2:] - m*U[1,2:]"
   ]
  },
  {
   "cell_type": "code",
   "execution_count": null,
   "metadata": {},
   "outputs": [],
   "source": [
    "print(U)"
   ]
  },
  {
   "cell_type": "markdown",
   "metadata": {
    "collapsed": true
   },
   "source": [
    "-[back to top](#Naive-Gaussian-Elimination)"
   ]
  }
 ],
 "metadata": {
  "kernelspec": {
   "display_name": "Python 3",
   "language": "python",
   "name": "python3"
  },
  "language_info": {
   "codemirror_mode": {
    "name": "ipython",
    "version": 3
   },
   "file_extension": ".py",
   "mimetype": "text/x-python",
   "name": "python",
   "nbconvert_exporter": "python",
   "pygments_lexer": "ipython3",
   "version": "3.7.0"
  }
 },
 "nbformat": 4,
 "nbformat_minor": 1
}
