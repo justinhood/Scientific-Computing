{
 "cells": [
  {
   "cell_type": "code",
   "execution_count": 2,
   "metadata": {},
   "outputs": [],
   "source": [
    "import numpy as np"
   ]
  },
  {
   "cell_type": "code",
   "execution_count": 26,
   "metadata": {},
   "outputs": [],
   "source": [
    "A=np.array([[1,2,3,4],[2,1,4,3],[3,4,2,1],[4,2,3,1]],dtype=float)\n",
    "np.random.seed(1) #Mirrored Error in Pivot\n",
    "#np.random.seed(5) # No Error in Pivot\n",
    "B=np.random.rand(4,4)\n",
    "C=np.array([[1,4,4,3],[5,2,4,2],[1,1,2,1],[3,2,1,2]],dtype=float)\n",
    "sys=np.array([[1,2,2],[3,2,1],[1,3,2]], dtype=float)\n",
    "b=np.array([[11],[10],[10]], dtype=float)\n",
    "Tester=B"
   ]
  },
  {
   "cell_type": "markdown",
   "metadata": {},
   "source": [
    "# Naive LU Decomp"
   ]
  },
  {
   "cell_type": "code",
   "execution_count": 9,
   "metadata": {},
   "outputs": [],
   "source": [
    "def myLU(A):\n",
    "    m,n=A.shape #Get row/col\n",
    "    U=A.copy() #Make Changable Copy\n",
    "    L=np.eye(m) #Blank canvas for L\n",
    "    if(m!=n): #Test Square\n",
    "        print(\"NonSquare input\")\n",
    "        return 1\n",
    "    for c in range(0,n-1): #Each Column but the last \n",
    "        for r in range(int(c+1),m): #Sub Rows based on column\n",
    "            d=U[r,c]/U[c,c] #Get Scalar from subrow to cancel values\n",
    "            L[r,c]=d # Add to L matrix in relevant coordinate\n",
    "            U[r,:]=U[r,:]-d*U[c,:] # Update row by cancelling lower triangular values\n",
    "    return L,U #Return LU decomposition"
   ]
  },
  {
   "cell_type": "code",
   "execution_count": 10,
   "metadata": {},
   "outputs": [
    {
     "name": "stdout",
     "output_type": "stream",
     "text": [
      "('A=\\n', array([[0.41430843, 0.22374938, 0.88523461, 0.28867596],\n",
      "       [0.47475926, 0.59121319, 0.05749447, 0.39227736],\n",
      "       [0.50647519, 0.62277719, 0.38883509, 0.33514507],\n",
      "       [0.67629329, 0.04211735, 0.80667214, 0.62001642]]), '\\n')\n",
      "('L=\\n', array([[ 1.        ,  0.        ,  0.        ,  0.        ],\n",
      "       [ 1.14590779,  1.        ,  0.        ,  0.        ],\n",
      "       [ 1.22245927,  1.04311505,  1.        ,  0.        ],\n",
      "       [ 1.63234257, -0.96505927, -5.12349225,  1.        ]]), '\\n')\n",
      "('U=\\n', array([[ 0.41430843,  0.22374938,  0.88523461,  0.28867596],\n",
      "       [ 0.        ,  0.33481704, -0.95690276,  0.06148133],\n",
      "       [ 0.        ,  0.        ,  0.30483151, -0.08188164],\n",
      "       [ 0.        ,  0.        ,  0.        , -0.21138844]]), '\\n')\n",
      "Recombining:\n",
      "[[0.41430843 0.22374938 0.88523461 0.28867596]\n",
      " [0.47475926 0.59121319 0.05749447 0.39227736]\n",
      " [0.50647519 0.62277719 0.38883509 0.33514507]\n",
      " [0.67629329 0.04211735 0.80667214 0.62001642]]\n",
      "-----------------------------------------------------------------\n",
      "('Error=\\n', array([[0.00000000e+00, 0.00000000e+00, 0.00000000e+00, 0.00000000e+00],\n",
      "       [0.00000000e+00, 0.00000000e+00, 0.00000000e+00, 0.00000000e+00],\n",
      "       [0.00000000e+00, 0.00000000e+00, 0.00000000e+00, 0.00000000e+00],\n",
      "       [0.00000000e+00, 0.00000000e+00, 1.11022302e-16, 0.00000000e+00]]))\n"
     ]
    }
   ],
   "source": [
    "L,U=myLU(Tester)\n",
    "print(\"A=\\n\",Tester,\"\\n\")\n",
    "print(\"L=\\n\",L,\"\\n\")\n",
    "print(\"U=\\n\",U,\"\\n\")\n",
    "print(\"Recombining:\")\n",
    "print(np.matmul(L,U))\n",
    "print(\"-\"*65)\n",
    "print(\"Error=\\n\",Tester-np.matmul(L,U))"
   ]
  },
  {
   "cell_type": "markdown",
   "metadata": {},
   "source": [
    "# Partial Pivoting"
   ]
  },
  {
   "cell_type": "code",
   "execution_count": 24,
   "metadata": {},
   "outputs": [],
   "source": [
    "def myLUPartial(A):\n",
    "    m,n=A.shape #Limits\n",
    "    P = np.arange(m) #Permutation vector\n",
    "    flop=np.zeros((m,m)) #Permutation Matrix\n",
    "    U=A.copy() #Copy A to not change it\n",
    "    L=np.eye(m) #Base L matrix\n",
    "    if(m!=n): #Check Square\n",
    "        print(\"NonSquare input\")\n",
    "        return 1\n",
    "    for c in range(0,n-1): #Loop\n",
    "        V=U.copy() #Get a copy of U for pivot flopping\n",
    "        O=P.copy() #Same for Permutation\n",
    "        M=np.argmax(np.abs(U[c:,c])) #Find index of largest in SubColumn\n",
    "        if(M+c!=c): #If index is not current index, Swap for largest  *******************M+c?*************************\n",
    "            U[M+c,:]=V[c,:] #Flop U\n",
    "            U[c,:]=V[M+c,:]\n",
    "            P[M+c]=O[c] #Flop P\n",
    "            P[c]=O[M+c]\n",
    "        for r in range(int(c+1),m): #Do Elimination \n",
    "            d=U[r,c]/U[c,c]\n",
    "            L[r,c]=d\n",
    "            U[r,:]=U[r,:]-d*U[c,:]\n",
    "    for i in range(0,n): #Make Flop Matrix from Perm Vector\n",
    "        flop[P[i],i]=1\n",
    "    return L,U, flop"
   ]
  },
  {
   "cell_type": "code",
   "execution_count": 27,
   "metadata": {},
   "outputs": [
    {
     "name": "stdout",
     "output_type": "stream",
     "text": [
      "('A=\\n', array([[4.17022005e-01, 7.20324493e-01, 1.14374817e-04, 3.02332573e-01],\n",
      "       [1.46755891e-01, 9.23385948e-02, 1.86260211e-01, 3.45560727e-01],\n",
      "       [3.96767474e-01, 5.38816734e-01, 4.19194514e-01, 6.85219500e-01],\n",
      "       [2.04452250e-01, 8.78117436e-01, 2.73875932e-02, 6.70467510e-01]]), '\\n')\n",
      "('L=\\n', array([[ 1.        ,  0.        ,  0.        ,  0.        ],\n",
      "       [ 0.35191402,  1.        ,  0.        ,  0.        ],\n",
      "       [ 0.95143055, -0.27910764,  1.        ,  0.        ],\n",
      "       [ 0.49026729, -0.30697936,  0.45606686,  1.        ]]), '\\n')\n",
      "('U=\\n', array([[4.17022005e-01, 7.20324493e-01, 1.14374817e-04, 3.02332573e-01],\n",
      "       [0.00000000e+00, 5.24965896e-01, 2.73315190e-02, 5.22243738e-01],\n",
      "       [0.00000000e+00, 0.00000000e+00, 4.26714131e-01, 5.43333273e-01],\n",
      "       [0.00000000e+00, 0.00000000e+00, 0.00000000e+00, 1.51687404e-01]]), '\\n')\n",
      "Recombining:\n",
      "[[4.17022005e-01 7.20324493e-01 1.14374817e-04 3.02332573e-01]\n",
      " [1.46755891e-01 7.78458186e-01 2.73717691e-02 6.28638809e-01]\n",
      " [3.96767474e-01 5.38816734e-01 4.19194514e-01 6.85219500e-01]\n",
      " [2.04452250e-01 1.91997845e-01 1.86276036e-01 3.87389428e-01]]\n",
      "flop\n",
      "[[1. 0. 0. 0.]\n",
      " [0. 0. 0. 1.]\n",
      " [0. 0. 1. 0.]\n",
      " [0. 1. 0. 0.]]\n",
      "Swapping\n",
      "[[4.17022005e-01 7.20324493e-01 1.14374817e-04 3.02332573e-01]\n",
      " [2.04452250e-01 1.91997845e-01 1.86276036e-01 3.87389428e-01]\n",
      " [3.96767474e-01 5.38816734e-01 4.19194514e-01 6.85219500e-01]\n",
      " [1.46755891e-01 7.78458186e-01 2.73717691e-02 6.28638809e-01]]\n",
      "-----------------------------------------------------------------\n",
      "('Error=\\n', array([[ 0.00000000e+00,  0.00000000e+00,  0.00000000e+00,\n",
      "         0.00000000e+00],\n",
      "       [-5.76963589e-02, -9.96592507e-02, -1.58241302e-05,\n",
      "        -4.18287007e-02],\n",
      "       [ 0.00000000e+00,  0.00000000e+00,  5.55111512e-17,\n",
      "         0.00000000e+00],\n",
      "       [ 5.76963589e-02,  9.96592507e-02,  1.58241302e-05,\n",
      "         4.18287007e-02]]))\n"
     ]
    }
   ],
   "source": [
    "L,U, flop=myLUPartial(Tester)\n",
    "print(\"A=\\n\",Tester,\"\\n\")\n",
    "print(\"L=\\n\",L,\"\\n\")\n",
    "print(\"U=\\n\",U,\"\\n\")\n",
    "print(\"Recombining:\")\n",
    "print(np.matmul(L,U))\n",
    "print(\"flop\")\n",
    "print(flop)\n",
    "print(\"Swapping\")\n",
    "print(np.matmul(flop,np.matmul(L,U)))\n",
    "print(\"-\"*65)\n",
    "print(\"Error=\\n\",Tester-np.matmul(flop,np.matmul(L,U)))"
   ]
  },
  {
   "cell_type": "markdown",
   "metadata": {},
   "source": [
    "# Solver"
   ]
  },
  {
   "cell_type": "code",
   "execution_count": 80,
   "metadata": {},
   "outputs": [],
   "source": [
    "def solveY(L,b):\n",
    "    m,n=L.shape\n",
    "    y=np.zeros(m)\n",
    "    for i in range(0,m):\n",
    "        print(np.dot(L[i,:],y))\n",
    "        y[i]=(b[i]-np.dot(L[i,:],y))/L[i,i]\n",
    "        print(y)\n",
    "        print(L[i,:])\n",
    "        print(\"T\")\n",
    "    return y\n",
    "\n",
    "def solveX(U,y):\n",
    "    m,n=L.shape\n",
    "    x=np.zeros(m)\n",
    "    for i in range(n-1,-1,-1):\n",
    "        x[i]=(y[i]-np.dot(L[i,:],y))/U[i,i]\n",
    "    return x\n",
    "\n",
    "def myLUSolver(A,b):\n",
    "    L,U,f = myLUPartial(A)\n",
    "    print(\"Ly=b\")\n",
    "    print(L)\n",
    "    print(np.matmul(f,b))\n",
    "    y=solveY(L,np.matmul(f,b))\n",
    "    print(y)\n",
    "    x=solveX(U,y)\n",
    "    print(x)"
   ]
  },
  {
   "cell_type": "code",
   "execution_count": 81,
   "metadata": {},
   "outputs": [
    {
     "name": "stdout",
     "output_type": "stream",
     "text": [
      "Ly=b\n",
      "[[ 1.          0.          0.          0.        ]\n",
      " [ 0.2         1.          0.          0.        ]\n",
      " [ 0.2         0.16666667  1.          0.        ]\n",
      " [ 0.6         0.22222222 -3.16666667  1.        ]]\n",
      "[[29.]\n",
      " [33.]\n",
      " [13.]\n",
      " [18.]]\n",
      "0.0\n",
      "[29.  0.  0.  0.]\n",
      "[1. 0. 0. 0.]\n",
      "T\n",
      "5.800000000000001\n",
      "[29.  27.2  0.   0. ]\n",
      "[0.2 1.  0.  0. ]\n",
      "T\n",
      "10.333333333333334\n",
      "[29.         27.2         2.66666667  0.        ]\n",
      "[0.2        0.16666667 1.         0.        ]\n",
      "T\n",
      "15.0\n",
      "[29.         27.2         2.66666667  3.        ]\n",
      "[ 0.6         0.22222222 -3.16666667  1.        ]\n",
      "T\n",
      "[29.         27.2         2.66666667  3.        ]\n",
      "[  0.          -1.61111111 -15.5        -20.        ]\n"
     ]
    }
   ],
   "source": [
    "#sys=np.array([[1,2,2],[3,2,1],[1,3,2]], dtype=float)\n",
    "#b=np.array([[11],[10],[13]], dtype=float)\n",
    "sys=np.array([[1,4,4,3],[5,2,4,2],[1,1,2,1],[3,2,1,2]], dtype=float)\n",
    "b=np.array([[33],[29],[13],[18]], dtype=float)\n",
    "myLUSolver(sys,b)"
   ]
  },
  {
   "cell_type": "code",
   "execution_count": null,
   "metadata": {},
   "outputs": [],
   "source": []
  },
  {
   "cell_type": "code",
   "execution_count": null,
   "metadata": {},
   "outputs": [],
   "source": []
  }
 ],
 "metadata": {
  "kernelspec": {
   "display_name": "Python 2",
   "language": "python",
   "name": "python2"
  },
  "language_info": {
   "codemirror_mode": {
    "name": "ipython",
    "version": 2
   },
   "file_extension": ".py",
   "mimetype": "text/x-python",
   "name": "python",
   "nbconvert_exporter": "python",
   "pygments_lexer": "ipython2",
   "version": "2.7.14"
  }
 },
 "nbformat": 4,
 "nbformat_minor": 2
}
