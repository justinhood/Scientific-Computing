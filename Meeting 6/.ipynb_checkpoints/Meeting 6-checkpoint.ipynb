{
 "cells": [
  {
   "cell_type": "code",
   "execution_count": 1,
   "metadata": {},
   "outputs": [],
   "source": [
    "import numpy as np"
   ]
  },
  {
   "cell_type": "code",
   "execution_count": 22,
   "metadata": {},
   "outputs": [],
   "source": [
    "A=np.array([[1,2,3,4],[2,1,4,3],[3,4,2,1],[4,2,3,1]],dtype=float)\n",
    "B=np.random.rand(4,4)\n",
    "C=np.array([[1,4,4,3],[5,2,4,2],[1,1,2,1],[3,2,1,2]],dtype=float)\n",
    "sys=np.array([[1,2,2],[3,2,1],[1,3,2]], dtype=float)\n",
    "b=np.array([[11],[10],[10]], dtype=float)\n",
    "Tester=sys"
   ]
  },
  {
   "cell_type": "markdown",
   "metadata": {},
   "source": [
    "# Naive LU Decomp"
   ]
  },
  {
   "cell_type": "code",
   "execution_count": 23,
   "metadata": {},
   "outputs": [],
   "source": [
    "def myLU(A):\n",
    "    m,n=A.shape #Get row/col\n",
    "    U=A.copy() #Make Changable Copy\n",
    "    L=np.eye(m) #Blank canvas for L\n",
    "    if(m!=n): #Test Square\n",
    "        print(\"NonSquare input\")\n",
    "        return 1\n",
    "    for c in range(0,n-1): #Each Column but the last \n",
    "        for r in range(int(c+1),m): #Sub Rows based on column\n",
    "            d=U[r,c]/U[c,c] #Get Scalar from subrow to cancel values\n",
    "            L[r,c]=d # Add to L matrix in relevant coordinate\n",
    "            U[r,:]=U[r,:]-d*U[c,:] # Update row by cancelling lower triangular values\n",
    "    return L,U #Return LU decomposition"
   ]
  },
  {
   "cell_type": "code",
   "execution_count": 24,
   "metadata": {},
   "outputs": [
    {
     "name": "stdout",
     "output_type": "stream",
     "text": [
      "A=\n",
      " [[1. 2. 2.]\n",
      " [3. 2. 1.]\n",
      " [1. 3. 2.]] \n",
      "\n",
      "L=\n",
      " [[ 1.    0.    0.  ]\n",
      " [ 3.    1.    0.  ]\n",
      " [ 1.   -0.25  1.  ]] \n",
      "\n",
      "U=\n",
      " [[ 1.    2.    2.  ]\n",
      " [ 0.   -4.   -5.  ]\n",
      " [ 0.    0.   -1.25]] \n",
      "\n",
      "Recombining:\n",
      "[[1. 2. 2.]\n",
      " [3. 2. 1.]\n",
      " [1. 3. 2.]]\n",
      "-----------------------------------------------------------------\n",
      "Error=\n",
      " [[0. 0. 0.]\n",
      " [0. 0. 0.]\n",
      " [0. 0. 0.]]\n"
     ]
    }
   ],
   "source": [
    "L,U=myLU(Tester)\n",
    "print(\"A=\\n\",Tester,\"\\n\")\n",
    "print(\"L=\\n\",L,\"\\n\")\n",
    "print(\"U=\\n\",U,\"\\n\")\n",
    "print(\"Recombining:\")\n",
    "print(np.matmul(L,U))\n",
    "print(\"-\"*65)\n",
    "print(\"Error=\\n\",Tester-np.matmul(L,U))"
   ]
  },
  {
   "cell_type": "markdown",
   "metadata": {},
   "source": [
    "# Partial Pivoting"
   ]
  },
  {
   "cell_type": "code",
   "execution_count": 49,
   "metadata": {},
   "outputs": [],
   "source": [
    "def myLUPartial(A):\n",
    "    m,n=A.shape\n",
    "    P = np.arange(m)\n",
    "    flop=np.zeros((m,m))\n",
    "    U=A.copy()\n",
    "    L=np.eye(m)\n",
    "    if(m!=n):\n",
    "        print(\"NonSquare input\")\n",
    "        return 1\n",
    "    for c in range(0,n-1):\n",
    "        V=U.copy()\n",
    "        O=P.copy()\n",
    "        M=np.argmax(np.abs(U[c:,c]))\n",
    "        if(M+1!=c):\n",
    "            U[M+c,:]=V[c,:]\n",
    "            U[c,:]=V[M+c,:]\n",
    "            P[M+c]=O[c]\n",
    "            P[c]=O[M+c]\n",
    "        for r in range(int(c+1),m):\n",
    "            d=U[r,c]/U[c,c]\n",
    "            L[r,c]=d\n",
    "            U[r,:]=U[r,:]-d*U[c,:]\n",
    "    for i in range(0,n):\n",
    "        flop[P[i],i]=1\n",
    "    return L,U, flop"
   ]
  },
  {
   "cell_type": "code",
   "execution_count": 63,
   "metadata": {},
   "outputs": [
    {
     "name": "stdout",
     "output_type": "stream",
     "text": [
      "A=\n",
      " [[1. 4. 4. 3.]\n",
      " [5. 2. 4. 2.]\n",
      " [1. 1. 2. 1.]\n",
      " [3. 2. 1. 2.]] \n",
      "\n",
      "L=\n",
      " [[ 1.          0.          0.          0.        ]\n",
      " [ 0.2         1.          0.          0.        ]\n",
      " [ 0.2         0.16666667  1.          0.        ]\n",
      " [ 0.6         0.22222222 -3.16666667  1.        ]] \n",
      "\n",
      "U=\n",
      " [[5.         2.         4.         2.        ]\n",
      " [0.         3.6        3.2        2.6       ]\n",
      " [0.         0.         0.66666667 0.16666667]\n",
      " [0.         0.         0.         0.75      ]] \n",
      "\n",
      "Recombining:\n",
      "[[5. 2. 4. 2.]\n",
      " [1. 4. 4. 3.]\n",
      " [1. 1. 2. 1.]\n",
      " [3. 2. 1. 2.]]\n",
      "flop\n",
      "[[0. 1. 0. 0.]\n",
      " [1. 0. 0. 0.]\n",
      " [0. 0. 1. 0.]\n",
      " [0. 0. 0. 1.]]\n",
      "Swapping\n",
      "[[1. 4. 4. 3.]\n",
      " [5. 2. 4. 2.]\n",
      " [1. 1. 2. 1.]\n",
      " [3. 2. 1. 2.]]\n",
      "-----------------------------------------------------------------\n",
      "Error=\n",
      " [[0. 0. 0. 0.]\n",
      " [0. 0. 0. 0.]\n",
      " [0. 0. 0. 0.]\n",
      " [0. 0. 0. 0.]]\n"
     ]
    }
   ],
   "source": [
    "L,U, flop=myLUPartial(sys)\n",
    "print(\"A=\\n\",sys,\"\\n\")\n",
    "print(\"L=\\n\",L,\"\\n\")\n",
    "print(\"U=\\n\",U,\"\\n\")\n",
    "print(\"Recombining:\")\n",
    "print(np.matmul(L,U))\n",
    "print(\"flop\")\n",
    "print(flop)\n",
    "print(\"Swapping\")\n",
    "print(np.matmul(flop,np.matmul(L,U)))\n",
    "print(\"-\"*65)\n",
    "print(\"Error=\\n\",sys-np.matmul(flop,np.matmul(L,U)))"
   ]
  },
  {
   "cell_type": "markdown",
   "metadata": {},
   "source": [
    "# Solver"
   ]
  },
  {
   "cell_type": "code",
   "execution_count": 80,
   "metadata": {},
   "outputs": [],
   "source": [
    "def solveY(L,b):\n",
    "    m,n=L.shape\n",
    "    y=np.zeros(m)\n",
    "    for i in range(0,m):\n",
    "        print(np.dot(L[i,:],y))\n",
    "        y[i]=(b[i]-np.dot(L[i,:],y))/L[i,i]\n",
    "        print(y)\n",
    "        print(L[i,:])\n",
    "        print(\"T\")\n",
    "    return y\n",
    "\n",
    "def solveX(U,y):\n",
    "    m,n=L.shape\n",
    "    x=np.zeros(m)\n",
    "    for i in range(n-1,-1,-1):\n",
    "        x[i]=(y[i]-np.dot(L[i,:],y))/U[i,i]\n",
    "    return x\n",
    "\n",
    "def myLUSolver(A,b):\n",
    "    L,U,f = myLUPartial(A)\n",
    "    print(\"Ly=b\")\n",
    "    print(L)\n",
    "    print(np.matmul(f,b))\n",
    "    y=solveY(L,np.matmul(f,b))\n",
    "    print(y)\n",
    "    x=solveX(U,y)\n",
    "    print(x)"
   ]
  },
  {
   "cell_type": "code",
   "execution_count": 81,
   "metadata": {},
   "outputs": [
    {
     "name": "stdout",
     "output_type": "stream",
     "text": [
      "Ly=b\n",
      "[[ 1.          0.          0.          0.        ]\n",
      " [ 0.2         1.          0.          0.        ]\n",
      " [ 0.2         0.16666667  1.          0.        ]\n",
      " [ 0.6         0.22222222 -3.16666667  1.        ]]\n",
      "[[29.]\n",
      " [33.]\n",
      " [13.]\n",
      " [18.]]\n",
      "0.0\n",
      "[29.  0.  0.  0.]\n",
      "[1. 0. 0. 0.]\n",
      "T\n",
      "5.800000000000001\n",
      "[29.  27.2  0.   0. ]\n",
      "[0.2 1.  0.  0. ]\n",
      "T\n",
      "10.333333333333334\n",
      "[29.         27.2         2.66666667  0.        ]\n",
      "[0.2        0.16666667 1.         0.        ]\n",
      "T\n",
      "15.0\n",
      "[29.         27.2         2.66666667  3.        ]\n",
      "[ 0.6         0.22222222 -3.16666667  1.        ]\n",
      "T\n",
      "[29.         27.2         2.66666667  3.        ]\n",
      "[  0.          -1.61111111 -15.5        -20.        ]\n"
     ]
    }
   ],
   "source": [
    "#sys=np.array([[1,2,2],[3,2,1],[1,3,2]], dtype=float)\n",
    "#b=np.array([[11],[10],[13]], dtype=float)\n",
    "sys=np.array([[1,4,4,3],[5,2,4,2],[1,1,2,1],[3,2,1,2]], dtype=float)\n",
    "b=np.array([[33],[29],[13],[18]], dtype=float)\n",
    "myLUSolver(sys,b)"
   ]
  },
  {
   "cell_type": "code",
   "execution_count": null,
   "metadata": {},
   "outputs": [],
   "source": []
  },
  {
   "cell_type": "code",
   "execution_count": null,
   "metadata": {},
   "outputs": [],
   "source": []
  }
 ],
 "metadata": {
  "kernelspec": {
   "display_name": "Python 3",
   "language": "python",
   "name": "python3"
  },
  "language_info": {
   "codemirror_mode": {
    "name": "ipython",
    "version": 3
   },
   "file_extension": ".py",
   "mimetype": "text/x-python",
   "name": "python",
   "nbconvert_exporter": "python",
   "pygments_lexer": "ipython3",
   "version": "3.7.0"
  }
 },
 "nbformat": 4,
 "nbformat_minor": 2
}
