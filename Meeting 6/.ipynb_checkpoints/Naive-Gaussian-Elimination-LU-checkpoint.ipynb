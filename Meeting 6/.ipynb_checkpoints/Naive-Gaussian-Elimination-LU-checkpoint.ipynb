{
 "cells": [
  {
   "cell_type": "markdown",
   "metadata": {},
   "source": [
    "# Naive Gaussian Elimination"
   ]
  },
  {
   "cell_type": "code",
   "execution_count": 1,
   "metadata": {},
   "outputs": [],
   "source": [
    "import numpy as np"
   ]
  },
  {
   "cell_type": "code",
   "execution_count": 2,
   "metadata": {},
   "outputs": [],
   "source": [
    "def lusolve(A,b):\n",
    "    # Initialize dimension and matrices L and U\n",
    "    n = A.shape[0]-1\n",
    "    U = A.copy()\n",
    "    L = np.eye(n+1)\n",
    "    \n",
    "    for k in range(0,n):\n",
    "        for i in range(k+1,n+1):\n",
    "            L[i,k] = U[i,k]/U[k,k]\n",
    "            U[i,k] = 0\n",
    "            for j in range(k+1,n+1):\n",
    "                U[i,j] -= L[i,k]*U[k,j]\n",
    "    \n",
    "    y = b.copy()\n",
    "    x = y*0\n",
    "    n = len(y)-1\n",
    "    \n",
    "    #Forward Substitution\n",
    "    for i in range(0,n+1):\n",
    "        s = y[i]\n",
    "        for j in range(0,i):\n",
    "            s += -L[i,j]*y[j]\n",
    "        y[i] = s/L[i,i]\n",
    "        \n",
    "    #Backward Substitution\n",
    "    for i in range(n,-1,-1):\n",
    "        s = y[i]\n",
    "        for j in range(i+1,n+1):\n",
    "            s += -U[i,j]*x[j]\n",
    "        x[i] = s/U[i,i]\n",
    "    \n",
    "    return x"
   ]
  },
  {
   "cell_type": "code",
   "execution_count": 3,
   "metadata": {},
   "outputs": [
    {
     "name": "stdout",
     "output_type": "stream",
     "text": [
      "[[  7.08403849]\n",
      " [ -2.87779861]\n",
      " [ -6.14511874]\n",
      " [  0.2555597 ]\n",
      " [  3.8083255 ]\n",
      " [  8.58191739]\n",
      " [  9.96015635]\n",
      " [ -0.12241998]\n",
      " [-11.62606094]\n",
      " [ -5.88117181]\n",
      " [ -4.8749626 ]\n",
      " [ -0.28064813]\n",
      " [  0.56189712]]\n",
      "3.2034888512099925e-14\n"
     ]
    }
   ],
   "source": [
    "#A = np.mat([[1,2,3],[2,-4,6],[3,-9,-3]],float)\n",
    "#b = np.mat([[1],[1],[1]],float)\n",
    "#A = np.mat([[5,3,0,0,0],[1,5,3,0,0],[0,1,5,3,0],[0,0,1,5,3],[0,0,0,1,5]],float)\n",
    "#b = np.mat([1,2,3,4,5],float); b = b.T\n",
    "A = np.mat(np.random.rand(169).reshape(13,13))\n",
    "b = np.mat(np.random.rand(13).reshape(13,1))\n",
    "x = lusolve(A,b)\n",
    "print(x)\n",
    "print(np.linalg.norm(b-np.dot(A,x)))"
   ]
  },
  {
   "cell_type": "code",
   "execution_count": 6,
   "metadata": {},
   "outputs": [
    {
     "name": "stdout",
     "output_type": "stream",
     "text": [
      "A = \n",
      "[[ 1.  2.  3.]\n",
      " [ 2. -4.  6.]\n",
      " [ 3. -9. -3.]]\n",
      "\n"
     ]
    }
   ],
   "source": [
    "# Perform Naive Gaussian Elimination of a Matrix A\n",
    "A = np.mat([[1,2,3],[2,-4,6],[3,-9,-3]],float)\n",
    "print('A = \\n' + str(A) + '\\n')"
   ]
  },
  {
   "cell_type": "code",
   "execution_count": 7,
   "metadata": {},
   "outputs": [],
   "source": [
    "# Initialize dimension and matrices L and U\n",
    "n = A.shape[0]-1\n",
    "U = A.copy()\n",
    "L = np.eye(n+1)"
   ]
  },
  {
   "cell_type": "code",
   "execution_count": 8,
   "metadata": {},
   "outputs": [],
   "source": [
    "# First column below fist pivot zeroed\n",
    "L[1,0] = (U[1,0]/U[0,0])\n",
    "U[1,0] = 0  # set entry to 0\n",
    "U[1,1:] = U[1,1:] - L[1,0]*U[0,1:]"
   ]
  },
  {
   "cell_type": "code",
   "execution_count": 9,
   "metadata": {},
   "outputs": [
    {
     "name": "stdout",
     "output_type": "stream",
     "text": [
      "[[ 1.  2.  3.]\n",
      " [ 0. -8.  0.]\n",
      " [ 3. -9. -3.]]\n"
     ]
    }
   ],
   "source": [
    "print(U)"
   ]
  },
  {
   "cell_type": "code",
   "execution_count": 10,
   "metadata": {},
   "outputs": [],
   "source": [
    "L[2,0] = (U[2,0]/U[0,0])\n",
    "U[2,0] = 0  # set entry to 0\n",
    "U[2,1:] = U[2,1:] - L[2,0]*U[0,1:]"
   ]
  },
  {
   "cell_type": "code",
   "execution_count": 11,
   "metadata": {},
   "outputs": [
    {
     "name": "stdout",
     "output_type": "stream",
     "text": [
      "[[  1.   2.   3.]\n",
      " [  0.  -8.   0.]\n",
      " [  0. -15. -12.]]\n"
     ]
    }
   ],
   "source": [
    "print(U)"
   ]
  },
  {
   "cell_type": "code",
   "execution_count": 12,
   "metadata": {},
   "outputs": [],
   "source": [
    "# Second column below second pivot zeroed\n",
    "L[2,1] = (U[2,1]/U[1,1])\n",
    "U[2,1] = 0  # set entry to 0\n",
    "U[2,2:] = U[2,2:] - L[2,1]*U[1,2:]"
   ]
  },
  {
   "cell_type": "code",
   "execution_count": 13,
   "metadata": {},
   "outputs": [
    {
     "name": "stdout",
     "output_type": "stream",
     "text": [
      "[[  1.   2.   3.]\n",
      " [  0.  -8.   0.]\n",
      " [  0.   0. -12.]]\n"
     ]
    }
   ],
   "source": [
    "print(U)"
   ]
  },
  {
   "cell_type": "code",
   "execution_count": 14,
   "metadata": {},
   "outputs": [
    {
     "data": {
      "text/plain": [
       "array([[1.   , 0.   , 0.   ],\n",
       "       [2.   , 1.   , 0.   ],\n",
       "       [3.   , 1.875, 1.   ]])"
      ]
     },
     "execution_count": 14,
     "metadata": {},
     "output_type": "execute_result"
    }
   ],
   "source": [
    "L"
   ]
  },
  {
   "cell_type": "code",
   "execution_count": 15,
   "metadata": {},
   "outputs": [
    {
     "name": "stdout",
     "output_type": "stream",
     "text": [
      "[[ 1.  2.  3.]\n",
      " [ 2. -4.  6.]\n",
      " [ 3. -9. -3.]]\n",
      "[[ 1.  2.  3.]\n",
      " [ 2. -4.  6.]\n",
      " [ 3. -9. -3.]]\n"
     ]
    }
   ],
   "source": [
    "# Show that A = LU\n",
    "print(np.dot(L,U))\n",
    "print(A)"
   ]
  },
  {
   "cell_type": "code",
   "execution_count": 77,
   "metadata": {},
   "outputs": [],
   "source": [
    "# Initialization\n",
    "b = np.mat([[1],[1],[1]])\n",
    "y = b.copy()\n",
    "x = y*0\n",
    "n = len(y)-1"
   ]
  },
  {
   "cell_type": "code",
   "execution_count": 78,
   "metadata": {},
   "outputs": [],
   "source": [
    "# Initialization\n",
    "b = np.mat([[1],[1],[1]],float)\n",
    "y = b.copy()\n",
    "x = y*0\n",
    "n = len(y)-1\n",
    "'Forward Substitution'\n",
    "for i in range(0,n+1):\n",
    "    s = y[i]\n",
    "    for j in range(0,i):\n",
    "        s += -L[i,j]*y[j]\n",
    "    y[i] = s/L[i,i]\n",
    "        \n",
    "'Backward Substitution'\n",
    "for i in range(n,-1,-1):\n",
    "    s = y[i]\n",
    "    for j in range(i+1,n+1):\n",
    "        s += -U[i,j]*x[j]\n",
    "    x[i] = s/U[i,i]"
   ]
  },
  {
   "cell_type": "code",
   "execution_count": 80,
   "metadata": {},
   "outputs": [
    {
     "name": "stdout",
     "output_type": "stream",
     "text": [
      "[[ 0.71875   ]\n",
      " [ 0.125     ]\n",
      " [ 0.01041667]]\n",
      "[[ 0.71875   ]\n",
      " [ 0.125     ]\n",
      " [ 0.01041667]]\n",
      "0.0\n"
     ]
    }
   ],
   "source": [
    "print(x)\n",
    "print(np.linalg.solve(A,b))\n",
    "print(np.linalg.norm(b-np.dot(A,x)))"
   ]
  },
  {
   "cell_type": "code",
   "execution_count": null,
   "metadata": {
    "collapsed": true
   },
   "outputs": [],
   "source": []
  }
 ],
 "metadata": {
  "kernelspec": {
   "display_name": "Python 3",
   "language": "python",
   "name": "python3"
  },
  "language_info": {
   "codemirror_mode": {
    "name": "ipython",
    "version": 3
   },
   "file_extension": ".py",
   "mimetype": "text/x-python",
   "name": "python",
   "nbconvert_exporter": "python",
   "pygments_lexer": "ipython3",
   "version": "3.7.0"
  }
 },
 "nbformat": 4,
 "nbformat_minor": 1
}
