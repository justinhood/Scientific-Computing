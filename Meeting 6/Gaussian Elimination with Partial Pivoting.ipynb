{
 "cells": [
  {
   "cell_type": "markdown",
   "metadata": {},
   "source": [
    "# Gaussian Elimination with Partial Pivoting"
   ]
  },
  {
   "cell_type": "code",
   "execution_count": 1,
   "metadata": {},
   "outputs": [],
   "source": [
    "from scipy import mat, concatenate\n",
    "import numpy as np"
   ]
  },
  {
   "cell_type": "markdown",
   "metadata": {},
   "source": [
    "###### Define the matrix to be reduced."
   ]
  },
  {
   "cell_type": "code",
   "execution_count": 2,
   "metadata": {},
   "outputs": [],
   "source": [
    "# Initialize the matrix\n",
    "A = mat('1 -1 2 -1; 2 -2 3 -3; 1 1 1 0; 1 -1 4 3',float)"
   ]
  },
  {
   "cell_type": "code",
   "execution_count": 3,
   "metadata": {},
   "outputs": [
    {
     "name": "stdout",
     "output_type": "stream",
     "text": [
      "[[ 1. -1.  2. -1.]\n",
      " [ 2. -2.  3. -3.]\n",
      " [ 1.  1.  1.  0.]\n",
      " [ 1. -1.  4.  3.]]\n",
      "4\n"
     ]
    }
   ],
   "source": [
    "print(A)\n",
    "print(len(A))"
   ]
  },
  {
   "cell_type": "markdown",
   "metadata": {},
   "source": [
    "###### Intialize $U$ and the identity matrix, $I$. Note that $I$ will be used to define the permutation matrix, $P$, later in the algorithm. The matrix $P$ will contain the record of the row swaps that occured so that any right-hand side can be permuted for solving the system. This record will get stored in the pind array below."
   ]
  },
  {
   "cell_type": "code",
   "execution_count": 4,
   "metadata": {},
   "outputs": [
    {
     "name": "stdout",
     "output_type": "stream",
     "text": [
      "[[ 1. -1.  2. -1.]\n",
      " [ 2. -2.  3. -3.]\n",
      " [ 1.  1.  1.  0.]\n",
      " [ 1. -1.  4.  3.]]\n"
     ]
    }
   ],
   "source": [
    "# Initialization for RREF\n",
    "U = A.copy()\n",
    "n = len(U)\n",
    "I = np.eye(n)\n",
    "# Permutation indices\n",
    "pind = np.arange(n)\n",
    "print(U)"
   ]
  },
  {
   "cell_type": "code",
   "execution_count": 5,
   "metadata": {},
   "outputs": [
    {
     "data": {
      "text/plain": [
       "array([[1., 0., 0., 0.],\n",
       "       [0., 1., 0., 0.],\n",
       "       [0., 0., 1., 0.],\n",
       "       [0., 0., 0., 1.]])"
      ]
     },
     "execution_count": 5,
     "metadata": {},
     "output_type": "execute_result"
    }
   ],
   "source": [
    "I"
   ]
  },
  {
   "cell_type": "code",
   "execution_count": 6,
   "metadata": {},
   "outputs": [
    {
     "data": {
      "text/plain": [
       "array([0, 1, 2, 3])"
      ]
     },
     "execution_count": 6,
     "metadata": {},
     "output_type": "execute_result"
    }
   ],
   "source": [
    "pind"
   ]
  },
  {
   "cell_type": "markdown",
   "metadata": {},
   "source": [
    "###### In order to determine the index of the largest element in a column, $\\displaystyle\\max_{1\\le i\\le n}|a_{ij}|$, one can use the argmax function; it returns the index of the largest element of an array."
   ]
  },
  {
   "cell_type": "markdown",
   "metadata": {},
   "source": [
    "###### Example: in the array [1,3,55,2,4], 55 is clearly the largest element and has index 2."
   ]
  },
  {
   "cell_type": "code",
   "execution_count": 7,
   "metadata": {},
   "outputs": [
    {
     "data": {
      "text/plain": [
       "2"
      ]
     },
     "execution_count": 7,
     "metadata": {},
     "output_type": "execute_result"
    }
   ],
   "source": [
    "np.argmax([1,3,55,2,4])"
   ]
  },
  {
   "cell_type": "markdown",
   "metadata": {},
   "source": [
    "###### Here is the index of the largest element in the firs column (column 0). It should be 1 since 2 is the largest element and has column index 2."
   ]
  },
  {
   "cell_type": "code",
   "execution_count": 8,
   "metadata": {},
   "outputs": [
    {
     "name": "stdout",
     "output_type": "stream",
     "text": [
      "1\n"
     ]
    }
   ],
   "source": [
    "r = np.argmax(abs(U[pind[0:],0]))+0\n",
    "print(r)"
   ]
  },
  {
   "cell_type": "markdown",
   "metadata": {},
   "source": [
    "###### Proceed with the algorithm and store the row swaps (index swaps) in the pind array."
   ]
  },
  {
   "cell_type": "code",
   "execution_count": 9,
   "metadata": {},
   "outputs": [],
   "source": [
    "# *********************************************************************************\n",
    "# Column 0\n",
    "# *********************************************************************************\n",
    "# Obtain pivot index\n",
    "r = np.argmax(abs(U[pind[0:],0]))+0\n",
    "# Swap indices\n",
    "temp = pind[r]\n",
    "pind[r] = 0\n",
    "pind[0] = temp\n",
    "# Construct multiplier and perform elimination\n",
    "m = U[pind[1:],0]/U[pind[0],0]\n",
    "U[pind[1:],0] = 0  # set entry to 0\n",
    "U[pind[1:],1:] -= m*U[pind[0],1:]"
   ]
  },
  {
   "cell_type": "code",
   "execution_count": 10,
   "metadata": {},
   "outputs": [
    {
     "name": "stdout",
     "output_type": "stream",
     "text": [
      "[1 0 2 3]\n",
      "[[ 0.   0.   0.5  0.5]\n",
      " [ 2.  -2.   3.  -3. ]\n",
      " [ 0.   2.  -0.5  1.5]\n",
      " [ 0.   0.   2.5  4.5]]\n"
     ]
    }
   ],
   "source": [
    "print(pind)\n",
    "print(U)"
   ]
  },
  {
   "cell_type": "code",
   "execution_count": 11,
   "metadata": {},
   "outputs": [],
   "source": [
    "# *********************************************************************************\n",
    "# Column 1\n",
    "# *********************************************************************************\n",
    "# Obtain pivot index\n",
    "r = np.argmax(abs(U[pind[1:],1]))+1\n",
    "# Swap indices\n",
    "temp = pind[r]\n",
    "pind[r] = pind[1]\n",
    "pind[1] = temp\n",
    "# Construct multiplier and perform elimination\n",
    "m = U[pind[2:],1]/U[pind[1],1]\n",
    "U[pind[2:],1] = 0  # set entry to 0\n",
    "U[pind[2:],2:] -= m*U[pind[1],2:]"
   ]
  },
  {
   "cell_type": "code",
   "execution_count": 12,
   "metadata": {},
   "outputs": [
    {
     "name": "stdout",
     "output_type": "stream",
     "text": [
      "[1 2 0 3]\n",
      "[[ 0.   0.   0.5  0.5]\n",
      " [ 2.  -2.   3.  -3. ]\n",
      " [ 0.   2.  -0.5  1.5]\n",
      " [ 0.   0.   2.5  4.5]]\n"
     ]
    }
   ],
   "source": [
    "print(pind)\n",
    "print(U)"
   ]
  },
  {
   "cell_type": "code",
   "execution_count": 13,
   "metadata": {},
   "outputs": [],
   "source": [
    "# *********************************************************************************\n",
    "# Column 2\n",
    "# *********************************************************************************\n",
    "# Obtain pivot index\n",
    "r = np.argmax(abs(U[pind[2:],2]))+2\n",
    "# Swap indices\n",
    "temp = pind[r]\n",
    "pind[r] = pind[2]\n",
    "pind[2] = temp\n",
    "# Construct multiplier and perform elimination\n",
    "m = U[pind[3:],2]/U[pind[2],2]\n",
    "U[pind[3:],2] = 0  # set entry to 0\n",
    "U[pind[3:],3:] -= m*U[pind[2],3:]"
   ]
  },
  {
   "cell_type": "markdown",
   "metadata": {},
   "source": [
    "###### Construct the permutation matrix, $P$, by reindexing the rows of the iden"
   ]
  },
  {
   "cell_type": "code",
   "execution_count": 14,
   "metadata": {},
   "outputs": [
    {
     "name": "stdout",
     "output_type": "stream",
     "text": [
      "[1 2 3 0]\n",
      "[[ 0.   0.   0.  -0.4]\n",
      " [ 2.  -2.   3.  -3. ]\n",
      " [ 0.   2.  -0.5  1.5]\n",
      " [ 0.   0.   2.5  4.5]]\n",
      "[[0. 1. 0. 0.]\n",
      " [0. 0. 1. 0.]\n",
      " [0. 0. 0. 1.]\n",
      " [1. 0. 0. 0.]]\n"
     ]
    }
   ],
   "source": [
    "print(pind)\n",
    "print(U)\n",
    "# Construct permutation matrix\n",
    "P = I[pind]\n",
    "print(P)"
   ]
  },
  {
   "cell_type": "code",
   "execution_count": 15,
   "metadata": {},
   "outputs": [
    {
     "data": {
      "text/plain": [
       "matrix([[ 2. , -2. ,  3. , -3. ],\n",
       "        [ 0. ,  2. , -0.5,  1.5],\n",
       "        [ 0. ,  0. ,  2.5,  4.5],\n",
       "        [ 0. ,  0. ,  0. , -0.4]])"
      ]
     },
     "execution_count": 15,
     "metadata": {},
     "output_type": "execute_result"
    }
   ],
   "source": [
    "np.dot(P,U)"
   ]
  },
  {
   "cell_type": "markdown",
   "metadata": {},
   "source": [
    "###### Combine the steps into a single cell and solve Ax = b using Gaussian Elimination with Partial Pivoting"
   ]
  },
  {
   "cell_type": "code",
   "execution_count": 16,
   "metadata": {},
   "outputs": [
    {
     "name": "stdout",
     "output_type": "stream",
     "text": [
      "[[ 1. -1.  2. -1.  1.]\n",
      " [ 2. -2.  3. -3.  1.]\n",
      " [ 1.  1.  1.  0.  1.]\n",
      " [ 1. -1.  4.  3.  1.]]\n"
     ]
    }
   ],
   "source": [
    "# Initialization for Ax = b solve\n",
    "# Construct an augmented matrix\n",
    "b = mat('1;1;1;1')\n",
    "U = A.copy()\n",
    "U = np.concatenate((U.T,b.T))\n",
    "U = U.T\n",
    "print(U)"
   ]
  },
  {
   "cell_type": "code",
   "execution_count": 17,
   "metadata": {},
   "outputs": [],
   "source": [
    "# *********************************************************************************\n",
    "# Column 0\n",
    "# *********************************************************************************\n",
    "# Obtain pivot index\n",
    "r = np.argmax(abs(U[pind[0:],0]))+0\n",
    "# Swap indices\n",
    "temp = pind[r]\n",
    "pind[r] = 0\n",
    "pind[0] = temp\n",
    "# Construct multiplier and perform elimination\n",
    "m = U[pind[1:],0]/U[pind[0],0]\n",
    "U[pind[1:],0] = 0  # set entry to 0\n",
    "U[pind[1:],1:] -= m*U[pind[0],1:]\n",
    "# *********************************************************************************\n",
    "# Column 2\n",
    "# *********************************************************************************\n",
    "# Obtain pivot index\n",
    "r = np.argmax(abs(U[pind[2:],2]))+2\n",
    "# Swap indices\n",
    "temp = pind[r]\n",
    "pind[r] = pind[2]\n",
    "pind[2] = temp\n",
    "# Construct multiplier and perform elimination\n",
    "m = U[pind[3:],2]/U[pind[2],2]\n",
    "U[pind[3:],2] = 0  # set entry to 0\n",
    "U[pind[3:],3:] -= m*U[pind[2],3:]"
   ]
  },
  {
   "cell_type": "markdown",
   "metadata": {},
   "source": [
    "###### Perform backward substitution. Notice the first step is to permute the matrix $U$ so that it is in the correct order."
   ]
  },
  {
   "cell_type": "code",
   "execution_count": 24,
   "metadata": {},
   "outputs": [],
   "source": [
    "U = np.dot(P,U)\n",
    "y = U[:,-1]\n",
    "x = 0*y\n",
    "'Backward Substitution'\n",
    "n = len(y)-1\n",
    "for i in range(n,-1,-1):\n",
    "    s = y[i]\n",
    "    for j in range(i+1,n+1):\n",
    "        s += -U[i,j]*x[j]\n",
    "    x[i] = s/U[i,i]"
   ]
  },
  {
   "cell_type": "code",
   "execution_count": 25,
   "metadata": {},
   "outputs": [
    {
     "name": "stdout",
     "output_type": "stream",
     "text": [
      "[[-2.5]\n",
      " [ 1.5]\n",
      " [ 2. ]\n",
      " [-1. ]]\n",
      "[[-2.5]\n",
      " [ 1.5]\n",
      " [ 2. ]\n",
      " [-1. ]]\n"
     ]
    }
   ],
   "source": [
    "from scipy.linalg import *\n",
    "print(x)\n",
    "print(solve(A,b))"
   ]
  },
  {
   "cell_type": "code",
   "execution_count": null,
   "metadata": {
    "collapsed": true
   },
   "outputs": [],
   "source": []
  }
 ],
 "metadata": {
  "kernelspec": {
   "display_name": "Python 3",
   "language": "python",
   "name": "python3"
  },
  "language_info": {
   "codemirror_mode": {
    "name": "ipython",
    "version": 3
   },
   "file_extension": ".py",
   "mimetype": "text/x-python",
   "name": "python",
   "nbconvert_exporter": "python",
   "pygments_lexer": "ipython3",
   "version": "3.7.0"
  }
 },
 "nbformat": 4,
 "nbformat_minor": 1
}
