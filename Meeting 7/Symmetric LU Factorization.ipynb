{
 "cells": [
  {
   "cell_type": "markdown",
   "metadata": {},
   "source": [
    "# Symmetric LU Factorization"
   ]
  },
  {
   "cell_type": "code",
   "execution_count": 14,
   "metadata": {},
   "outputs": [],
   "source": [
    "import numpy as np\n",
    "import matplotlib.pyplot as plt"
   ]
  },
  {
   "cell_type": "markdown",
   "metadata": {},
   "source": [
    "###### Convert naive LU Factorization to construct an $A = LDL^T$ factorization. Recall:\n",
    "* naive LU factorization is adequate because the matrix is assumed to be symmetric positive definite\n",
    "* $L$ is the lower triangular matrix from LU factorization\n",
    "* $D$=diag($U$)"
   ]
  },
  {
   "cell_type": "code",
   "execution_count": 2,
   "metadata": {},
   "outputs": [],
   "source": [
    "def myLDL(A):\n",
    "    # A must be a square matrix for LDL factorization.\n",
    "    # If the user wants to factor a nonsquare matrix, they can use QR factorization for example\n",
    "    if A.shape[0] != A.shape[1]:\n",
    "        raise Exception('m = {} not equal to n = {}. A must be a square matrix for LU factorization, resize or try QR.'.format(A.shape[0],A.shape[1]))\n",
    "    n = A.shape[0]\n",
    "    U = A.copy()\n",
    "    L = np.eye(n)\n",
    "    for k in range(n):\n",
    "        # Perform Elimination\n",
    "        L[k+1:,k] = U[k+1:,k]/U[k,k]\n",
    "        U[k+1:,k] = 0.\n",
    "        for j in range(k+1,n):\n",
    "            U[k+1:,j] -= L[k+1:,k]*U[k,j]\n",
    "    D = np.diag(np.diag(U))\n",
    "    return L, D"
   ]
  },
  {
   "cell_type": "markdown",
   "metadata": {},
   "source": [
    "###### Unit Test the LDL Algorithm\n",
    "* Input random matrices of sizes $4\\times4$ to $100\\times100$\n",
    "* Compute the residual in each case\n",
    "* Output an array of the order of magnitude for each residual (should be roughly -13 give or take a couple of integers)"
   ]
  },
  {
   "cell_type": "code",
   "execution_count": 15,
   "metadata": {},
   "outputs": [
    {
     "data": {
      "image/png": "[encoded data removed]",
      "text/plain": [
       "<Figure size 432x288 with 1 Axes>"
      ]
     },
     "metadata": {
      "needs_background": "light"
     },
     "output_type": "display_data"
    }
   ],
   "source": [
    "err = []\n",
    "for n in range(4,101):\n",
    "    A = np.random.randn(n,n)*10 + np.eye(n)*10\n",
    "    A = np.dot(A,A.T)\n",
    "    L, D = myLDL(A)\n",
    "    err.append(np.linalg.norm(A - np.dot(L.dot(D),L.T)))\n",
    "plt.semilogy(np.arange(4,101),err,'b.-');"
   ]
  },
  {
   "cell_type": "markdown",
   "metadata": {},
   "source": [
    "###### Cholesky factorization $A = GG^T$ is simply and $LDL^T$ factorization with $G = L\\sqrt{D}$."
   ]
  },
  {
   "cell_type": "code",
   "execution_count": 5,
   "metadata": {},
   "outputs": [],
   "source": [
    "def myCholesky(A):\n",
    "    L, D = myLDL(A)\n",
    "    if any(np.diag(D) < 0):\n",
    "        raise Exception('A must be positive definite.')\n",
    "    else:\n",
    "        return L.dot(np.sqrt(D))"
   ]
  },
  {
   "cell_type": "markdown",
   "metadata": {},
   "source": [
    "###### Unit Test the Cholesky Algorithm\n",
    "* Input random matrices of sizes $4\\times4$ to $100\\times100$\n",
    "* Compute the residual in each case\n",
    "* Output an array of the order of magnitude for each residual (should be roughly -13 give or take a couple of integers)"
   ]
  },
  {
   "cell_type": "code",
   "execution_count": 16,
   "metadata": {},
   "outputs": [
    {
     "data": {
      "image/png": "[encoded data removed]",
      "text/plain": [
       "<Figure size 432x288 with 1 Axes>"
      ]
     },
     "metadata": {
      "needs_background": "light"
     },
     "output_type": "display_data"
    }
   ],
   "source": [
    "err = []\n",
    "for n in range(4,101):\n",
    "    A = np.random.randn(n,n)*10 + np.eye(n)*10\n",
    "    A = np.dot(A,A.T)\n",
    "    L = myCholesky(A)\n",
    "    err.append(np.linalg.norm(A - L.dot(L.T)))\n",
    "plt.semilogy(np.arange(4,101),err,'b.-');"
   ]
  },
  {
   "cell_type": "markdown",
   "metadata": {},
   "source": [
    "###### How does myCholesky compare to NumPy's Cholesky factorization?"
   ]
  },
  {
   "cell_type": "code",
   "execution_count": 7,
   "metadata": {},
   "outputs": [
    {
     "data": {
      "text/plain": [
       "3.665018538900075e-12"
      ]
     },
     "execution_count": 7,
     "metadata": {},
     "output_type": "execute_result"
    }
   ],
   "source": [
    "Lnp = np.linalg.cholesky(A)\n",
    "np.linalg.norm(L-Lnp)"
   ]
  },
  {
   "cell_type": "code",
   "execution_count": 8,
   "metadata": {},
   "outputs": [
    {
     "name": "stdout",
     "output_type": "stream",
     "text": [
      "87.2 µs ± 765 ns per loop (mean ± std. dev. of 7 runs, 10000 loops each)\n"
     ]
    }
   ],
   "source": [
    "%timeit Lnp = np.linalg.cholesky(A)"
   ]
  },
  {
   "cell_type": "code",
   "execution_count": 9,
   "metadata": {},
   "outputs": [
    {
     "name": "stdout",
     "output_type": "stream",
     "text": [
      "35.8 ms ± 3.76 ms per loop (mean ± std. dev. of 7 runs, 10 loops each)\n"
     ]
    }
   ],
   "source": [
    "%timeit L = myCholesky(A)"
   ]
  },
  {
   "cell_type": "markdown",
   "metadata": {},
   "source": [
    "###### Questions regarding efficiency.\n",
    "* Is $U$ necessary?\n",
    "* Is $L$ necessary?\n",
    "* Could we create a Cholesky factorization with only $U$ or only $L$?"
   ]
  },
  {
   "cell_type": "markdown",
   "metadata": {},
   "source": [
    "-[back to top](#Symmetric-LU-Factorization)"
   ]
  }
 ],
 "metadata": {
  "kernelspec": {
   "display_name": "Python 3",
   "language": "python",
   "name": "python3"
  },
  "language_info": {
   "codemirror_mode": {
    "name": "ipython",
    "version": 3
   },
   "file_extension": ".py",
   "mimetype": "text/x-python",
   "name": "python",
   "nbconvert_exporter": "python",
   "pygments_lexer": "ipython3",
   "version": "3.7.0"
  }
 },
 "nbformat": 4,
 "nbformat_minor": 1
}
