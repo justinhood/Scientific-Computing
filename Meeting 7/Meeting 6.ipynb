{
 "cells": [
  {
   "cell_type": "code",
   "execution_count": 1,
   "metadata": {},
   "outputs": [],
   "source": [
    "import numpy as np"
   ]
  },
  {
   "cell_type": "markdown",
   "metadata": {},
   "source": [
    "# Some Sample Arrays for Testing Purposes"
   ]
  },
  {
   "cell_type": "code",
   "execution_count": 2,
   "metadata": {},
   "outputs": [],
   "source": [
    "A=np.array([[1,2,3,4],[2,1,4,3],[3,4,2,1],[4,2,3,1]],dtype=float)\n",
    "#np.random.seed(1)\n",
    "B=np.random.rand(4,4)\n",
    "C=np.array([[1,4,4,3],[5,2,4,2],[1,1,2,1],[3,2,1,2]],dtype=float)\n",
    "Tester=B\n",
    "#A Sample System Array Will be provided below!"
   ]
  },
  {
   "cell_type": "markdown",
   "metadata": {},
   "source": [
    "# Naive LU Decomp"
   ]
  },
  {
   "cell_type": "code",
   "execution_count": 3,
   "metadata": {},
   "outputs": [],
   "source": [
    "def myLU(A):\n",
    "    m,n=A.shape #Get row/col\n",
    "    U=A.copy() #Make Changable Copy\n",
    "    L=np.eye(m) #Blank canvas for L\n",
    "    if(m!=n): #Test Square\n",
    "        print(\"NonSquare input\")\n",
    "        return 1\n",
    "    for c in range(0,n-1): #Each Column but the last \n",
    "        for r in range(int(c+1),m): #Sub Rows based on column\n",
    "            d=U[r,c]/U[c,c] #Get Scalar from subrow to cancel values\n",
    "            L[r,c]=d # Add to L matrix in relevant coordinate\n",
    "            U[r,:]=U[r,:]-d*U[c,:] # Update row by cancelling lower triangular values\n",
    "    return L,U #Return LU decomposition"
   ]
  },
  {
   "cell_type": "code",
   "execution_count": 4,
   "metadata": {},
   "outputs": [
    {
     "name": "stdout",
     "output_type": "stream",
     "text": [
      "A=\n",
      " [[0.8138908  0.01997005 0.57748371 0.81385111]\n",
      " [0.30314881 0.07726851 0.93852764 0.09467577]\n",
      " [0.39014526 0.42443899 0.0947684  0.31183155]\n",
      " [0.68868127 0.78794224 0.81602664 0.53674756]] \n",
      "\n",
      "L=\n",
      " [[ 1.          0.          0.          0.        ]\n",
      " [ 0.37246865  1.          0.          0.        ]\n",
      " [ 0.47935824  5.94106309  1.          0.        ]\n",
      " [ 0.8461593  11.04168918  1.70993629  1.        ]] \n",
      "\n",
      "U=\n",
      " [[ 0.8138908   0.01997005  0.57748371  0.81385111]\n",
      " [ 0.          0.06983029  0.72343306 -0.20845826]\n",
      " [ 0.          0.         -4.48001461  1.16016897]\n",
      " [ 0.          0.          0.          0.16601613]] \n",
      "\n",
      "Recombining:\n",
      "[[0.8138908  0.01997005 0.57748371 0.81385111]\n",
      " [0.30314881 0.07726851 0.93852764 0.09467577]\n",
      " [0.39014526 0.42443899 0.0947684  0.31183155]\n",
      " [0.68868127 0.78794224 0.81602664 0.53674756]]\n",
      "-----------------------------------------------------------------\n",
      "Error=\n",
      " [[ 0.00000000e+00  0.00000000e+00  0.00000000e+00  0.00000000e+00]\n",
      " [ 0.00000000e+00  0.00000000e+00  0.00000000e+00  0.00000000e+00]\n",
      " [ 0.00000000e+00  0.00000000e+00 -3.33066907e-16  1.11022302e-16]\n",
      " [ 0.00000000e+00  0.00000000e+00 -6.66133815e-16 -2.22044605e-16]]\n"
     ]
    }
   ],
   "source": [
    "L,U=myLU(Tester)\n",
    "print(\"A=\\n\",Tester,\"\\n\")\n",
    "print(\"L=\\n\",L,\"\\n\")\n",
    "print(\"U=\\n\",U,\"\\n\")\n",
    "print(\"Recombining:\")\n",
    "print(np.matmul(L,U))\n",
    "print(\"-\"*65)\n",
    "print(\"Error=\\n\",Tester-np.matmul(L,U))"
   ]
  },
  {
   "cell_type": "markdown",
   "metadata": {},
   "source": [
    "# Partial Pivoting"
   ]
  },
  {
   "cell_type": "code",
   "execution_count": 5,
   "metadata": {},
   "outputs": [],
   "source": [
    "def myLUPartial(A):\n",
    "    m,n=A.shape #Limits\n",
    "    P = np.arange(m) #Permutation vector\n",
    "    flop=np.zeros((m,m)) #Permutation Matrix\n",
    "    U=A.copy() #Copy A to not change it\n",
    "    L=np.eye(m) #Base L matrix\n",
    "    if(m!=n): #Check Square\n",
    "        print(\"NonSquare input\")\n",
    "        return 1\n",
    "    for c in range(0,n-1): #Loop\n",
    "        W=L.copy() #Copy L\n",
    "        V=U.copy() #Get a copy of U for pivot flopping\n",
    "        O=P.copy() #Same for Permutation\n",
    "        M=np.argmax(np.abs(U[c:,c])) #Find index of largest in SubColumn\n",
    "        if(M+c!=c): #If index is not current index, Swap for largest  \n",
    "            L[M+c,:]=W[c,:] #Flop L\n",
    "            L[c,:]=W[M+c,:]\n",
    "            U[M+c,:]=V[c,:] #Flop U\n",
    "            U[c,:]=V[M+c,:]\n",
    "            P[M+c]=O[c] #Flop P\n",
    "            P[c]=O[M+c]\n",
    "        for r in range(int(c+1),m): #Do Elimination \n",
    "            d=U[r,c]/U[c,c]\n",
    "            L[r,c]=d\n",
    "            U[r,:]=U[r,:]-d*U[c,:]\n",
    "    for i in range(0,n): #Make Flop Matrix from Perm Vector\n",
    "        flop[P[i],i]=1\n",
    "    L = np.tril(L,k=-1)+np.eye(m) #Unpermute L\n",
    "    return L,U, flop"
   ]
  },
  {
   "cell_type": "code",
   "execution_count": 6,
   "metadata": {
    "scrolled": false
   },
   "outputs": [
    {
     "name": "stdout",
     "output_type": "stream",
     "text": [
      "A=\n",
      " [[0.8138908  0.01997005 0.57748371 0.81385111]\n",
      " [0.30314881 0.07726851 0.93852764 0.09467577]\n",
      " [0.39014526 0.42443899 0.0947684  0.31183155]\n",
      " [0.68868127 0.78794224 0.81602664 0.53674756]] \n",
      "\n",
      "L=\n",
      " [[ 1.          0.          0.          0.        ]\n",
      " [ 0.8461593   1.          0.          0.        ]\n",
      " [ 0.37246865  0.09056585  1.          0.        ]\n",
      " [ 0.47935824  0.53805745 -0.51630569  1.        ]] \n",
      "\n",
      "U=\n",
      " [[ 8.13890798e-01  1.99700473e-02  5.77483706e-01  8.13851106e-01]\n",
      " [ 0.00000000e+00  7.71044404e-01  3.27383432e-01 -1.51900128e-01]\n",
      " [ 0.00000000e+00  0.00000000e+00  6.93783298e-01 -1.94701291e-01]\n",
      " [ 0.00000000e+00  5.55111512e-17  0.00000000e+00 -9.70890708e-02]] \n",
      "\n",
      "Recombining:\n",
      "[[0.8138908  0.01997005 0.57748371 0.81385111]\n",
      " [0.68868127 0.78794224 0.81602664 0.53674756]\n",
      " [0.30314881 0.07726851 0.93852764 0.09467577]\n",
      " [0.39014526 0.42443899 0.0947684  0.31183155]]\n",
      "flop\n",
      "[[1. 0. 0. 0.]\n",
      " [0. 0. 1. 0.]\n",
      " [0. 0. 0. 1.]\n",
      " [0. 1. 0. 0.]]\n",
      "Swapping\n",
      "[[0.8138908  0.01997005 0.57748371 0.81385111]\n",
      " [0.30314881 0.07726851 0.93852764 0.09467577]\n",
      " [0.39014526 0.42443899 0.0947684  0.31183155]\n",
      " [0.68868127 0.78794224 0.81602664 0.53674756]]\n",
      "-----------------------------------------------------------------\n",
      "Error=\n",
      " [[ 0.00000000e+00  0.00000000e+00  0.00000000e+00  0.00000000e+00]\n",
      " [ 0.00000000e+00  0.00000000e+00  0.00000000e+00 -2.77555756e-17]\n",
      " [ 0.00000000e+00  0.00000000e+00  0.00000000e+00  0.00000000e+00]\n",
      " [ 0.00000000e+00  0.00000000e+00  0.00000000e+00  0.00000000e+00]]\n"
     ]
    }
   ],
   "source": [
    "L,U, flop=myLUPartial(Tester)\n",
    "print(\"A=\\n\",Tester,\"\\n\")\n",
    "print(\"L=\\n\",L,\"\\n\")\n",
    "print(\"U=\\n\",U,\"\\n\")\n",
    "print(\"Recombining:\")\n",
    "print(np.matmul(L,U))\n",
    "print(\"flop\")\n",
    "print(flop)\n",
    "print(\"Swapping\")\n",
    "print(np.matmul(flop,np.matmul(L,U)))\n",
    "print(\"-\"*65)\n",
    "print(\"Error=\\n\",Tester-np.matmul(flop,np.matmul(L,U)))"
   ]
  },
  {
   "cell_type": "markdown",
   "metadata": {},
   "source": [
    "# Solver"
   ]
  },
  {
   "cell_type": "code",
   "execution_count": 7,
   "metadata": {},
   "outputs": [],
   "source": [
    "def solveY(L,b):   \n",
    "    m,n=L.shape # Get Shape\n",
    "    y=np.zeros(m) #Null Vector\n",
    "    for i in range(0,m): #Solve\n",
    "        y[i]=(b[i]-np.dot(L[i,:],y))/L[i,i] #By Working Forward and updating Y and then dotting, we can solve Ly=b\n",
    "    return y\n",
    "\n",
    "def solveX(U,y):\n",
    "    m,n=U.shape #Get Shape\n",
    "    x=np.zeros(m) #Null Vector\n",
    "    for i in range(n-1,-1,-1): #Solve\n",
    "        x[i]=(y[i]-np.dot(U[i,:],x))/U[i,i] #By working backward and updatign as before, we solve Ux=y\n",
    "    return x\n",
    "\n",
    "\n",
    "def myLUSolver(A,b):\n",
    "    L,U,f = myLUPartial(A) #Get L,U,Permutation matrix\n",
    "    print(\"Ly=b\")\n",
    "    y=solveY(L,np.matmul(f.T,b)) #Solve Ly=x *** See note below\n",
    "    print(\"y=\\n\",y)\n",
    "    x=solveX(U,y) #Solve Ux=y\n",
    "    print(\"Ux=y\")\n",
    "    print(\"x=\\n\",x)\n",
    "    return x,y"
   ]
  },
  {
   "cell_type": "markdown",
   "metadata": {},
   "source": [
    "## ******Note******\n",
    "Given how we have constructed our flop matrix, $P$, we note the following,\n",
    "\\begin{align*}\n",
    "Ax &= b\\\\\n",
    "(PLU)x &= b\\\\\n",
    "LUx &= P^{-1}b && \\text{Note that } P^{-1}=P^T, \\text{ let Ux=y}\\\\\n",
    "Ly&=P^Tb && \\text{Solve for y with Forward Sub}\\\\\n",
    "Ux&=y && \\text{Solve for x with Backward Sub}\n",
    "\\end{align*}\n",
    "In order to solve our Partial Pivot solution, we must use the transpose of the computed $P$ matrix."
   ]
  },
  {
   "cell_type": "code",
   "execution_count": 8,
   "metadata": {},
   "outputs": [
    {
     "name": "stdout",
     "output_type": "stream",
     "text": [
      "Sys=\n",
      " [[0.69032142 0.73848917 0.63332661 0.9437272 ]\n",
      " [0.67282601 0.22822191 0.19576578 0.00619272]\n",
      " [0.43527324 0.7139127  0.14734195 0.52208748]\n",
      " [0.00457155 0.04180617 0.50579981 0.12595669]]\n",
      "TrueX=\n",
      " [0 1 2 3]\n",
      "b=\n",
      " [4.83632399 0.63833162 2.57485903 1.43127584]\n",
      "Ly=b\n",
      "y=\n",
      " [ 4.83632399 -4.07542122  1.09318267 -1.45159433]\n",
      "Ux=y\n",
      "x=\n",
      " [0. 1. 2. 3.]\n",
      "Error=\n",
      " [ 0.00000000e+00  2.22044605e-15  4.44089210e-16 -1.77635684e-15]\n"
     ]
    }
   ],
   "source": [
    "m=4\n",
    "#np.random.seed(1234)\n",
    "sys=np.random.rand(m,m)\n",
    "#sys=np.array([[1,2,3],[4,5,6],[7,8,10]],dtype=float)\n",
    "trueX=np.arange(m)\n",
    "b=np.matmul(sys,trueX)\n",
    "print(\"Sys=\\n\",sys)\n",
    "print(\"TrueX=\\n\",trueX)\n",
    "print(\"b=\\n\",b)\n",
    "x,y = myLUSolver(sys,b)\n",
    "print(\"Error=\\n\", trueX-x)"
   ]
  },
  {
   "cell_type": "code",
   "execution_count": null,
   "metadata": {},
   "outputs": [],
   "source": []
  },
  {
   "cell_type": "code",
   "execution_count": null,
   "metadata": {},
   "outputs": [],
   "source": []
  }
 ],
 "metadata": {
  "kernelspec": {
   "display_name": "Python 3",
   "language": "python",
   "name": "python3"
  },
  "language_info": {
   "codemirror_mode": {
    "name": "ipython",
    "version": 3
   },
   "file_extension": ".py",
   "mimetype": "text/x-python",
   "name": "python",
   "nbconvert_exporter": "python",
   "pygments_lexer": "ipython3",
   "version": "3.7.0"
  }
 },
 "nbformat": 4,
 "nbformat_minor": 2
}
