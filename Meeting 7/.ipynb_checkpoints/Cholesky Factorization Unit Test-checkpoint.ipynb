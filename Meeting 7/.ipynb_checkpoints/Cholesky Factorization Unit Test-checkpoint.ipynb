{
 "cells": [
  {
   "cell_type": "markdown",
   "metadata": {},
   "source": [
    "# Cholesky Factorization Unit Test"
   ]
  },
  {
   "cell_type": "code",
   "execution_count": 1,
   "metadata": {},
   "outputs": [],
   "source": [
    "import numpy as np"
   ]
  },
  {
   "cell_type": "code",
   "execution_count": 90,
   "metadata": {},
   "outputs": [],
   "source": [
    "def myCholesky(A):\n",
    "    # A must be a square matrix symmetric positive definite matrix for Cholesky factorization.\n",
    "    # If the user wants to factor a nonsquare matrix, they can use QR factorization for example\n",
    "    if A.shape[0] != A.shape[1]:\n",
    "        raise Exception('m = {} not equal to n = {}. A must be a square matrix for Cholesky factorization, resize or try QR.'.format(A.shape[0],A.shape[1]))\n",
    "    if np.linalg.norm(A-A.T) > np.finfo(float).eps:\n",
    "        raise Exception('A must be symmetric positive definite.')\n",
    "    n = A.shape[0]\n",
    "    R = A.copy()     \n",
    "    \n",
    "    # INSERT YOUR CHOLESKY FACTORIZATION CODE HERE\n",
    "    # THE TREFETHEN & BAU PSEUDOCODE ON PAGE 175 IS PRETTY STRAIGHT FORWARD WITH ONE CAVEAT:\n",
    "    # WARNING! MAKE SURE THAT YOU \"ELIMINATE\" (OR ZERO OUT) THE LOWER PART OF R\n",
    "    for k in range(0,n):\n",
    "        for j in range(k+1,n):\n",
    "            #print(-R[k,j:n]*np.conj(R[k,j])/R[k,k]+R[j,j:n])\n",
    "            R[j,j:n]-=R[k,j:n]*np.conj(R[k,j])/R[k,k]#+R[j,j:n]\n",
    "            #R[j,j:n]=R[j,j:n]-R[k,j:n]*np.conj(R[k,j])/R[k,k]\n",
    "        R[k,k:n]=R[k,k:n]/np.sqrt(R[k,k])\n",
    "    for k in range(0,n):\n",
    "        for j in range(k+1,n):\n",
    "            R[j,k]=0\n",
    "    # Return the upper triangular Cholesky matrix\n",
    "    return R"
   ]
  },
  {
   "cell_type": "markdown",
   "metadata": {},
   "source": [
    "# Testing Array"
   ]
  },
  {
   "cell_type": "code",
   "execution_count": 100,
   "metadata": {},
   "outputs": [
    {
     "name": "stdout",
     "output_type": "stream",
     "text": [
      "[[  9.   0. -27.  18.]\n",
      " [  0.   9.  -9. -27.]\n",
      " [-27.  -9.  99. -27.]\n",
      " [ 18. -27. -27. 121.]]\n",
      "[[ 3.  0. -9.  6.]\n",
      " [ 0.  3. -3. -9.]\n",
      " [ 0.  0.  3.  0.]\n",
      " [ 0.  0.  0.  2.]]\n",
      "[[  9.   0. -27.  18.]\n",
      " [  0.   9.  -9. -27.]\n",
      " [-27.  -9.  99. -27.]\n",
      " [ 18. -27. -27. 121.]]\n"
     ]
    }
   ],
   "source": [
    "A = np.array([[9,0,-27,18],[0,9,-9,-27],[-27,-9,99,-27],[18,-27,-27,121]],dtype=float)\n",
    "print(A)\n",
    "R=myCholesky(A)\n",
    "print(R)\n",
    "print(np.matmul(R.T,R))"
   ]
  },
  {
   "cell_type": "markdown",
   "metadata": {},
   "source": [
    "###### Unit Test the Cholesky Algorithm\n",
    "* Input random matrices of sizes $4\\times4$ to $100\\times100$\n",
    "* Compute the residual in each case\n",
    "* Output an array of the order of magnitude for each residual (should be roughly -13 give or take a couple of integers)"
   ]
  },
  {
   "cell_type": "code",
   "execution_count": null,
   "metadata": {},
   "outputs": [],
   "source": []
  },
  {
   "cell_type": "code",
   "execution_count": 103,
   "metadata": {},
   "outputs": [
    {
     "name": "stdout",
     "output_type": "stream",
     "text": [
      "[-13. -13. -13. -13. -13. -12. -13. -12. -13. -12. -12. -12. -12. -12.\n",
      " -12. -12. -12. -12. -12. -12. -12. -12. -12. -12. -12. -12. -12. -12.\n",
      " -12. -12. -12. -12. -12. -12. -12. -12. -12. -12. -12. -12. -12. -12.\n",
      " -11. -11. -12. -11. -11. -11. -11. -11. -11. -11. -11. -11. -11. -11.\n",
      " -11. -11. -11. -11. -11. -11. -11. -11. -11. -11. -11. -11. -11. -11.\n",
      " -11. -11. -11. -11. -11. -11. -11. -11. -11. -11. -11. -11. -11. -11.\n",
      " -11. -11. -11. -11. -11. -11. -11. -11. -11. -11. -11. -11. -11.]\n"
     ]
    }
   ],
   "source": [
    "myerr = []\n",
    "np.random.seed(42)\n",
    "for n in range(4,101):\n",
    "    A = np.random.randn(n,n)*10 + np.eye(n)*10 # A will certainly be SPD\n",
    "    A = np.dot(A,A.T) # Uncomment to test symmetric exception\n",
    "    #A = A - np.diag(np.diag(A)) + np.eye(n) # Uncomment to test positive definite exception\n",
    "    R = myCholesky(A)\n",
    "    myerr.append(np.linalg.norm(A - np.dot(R.T,R)))\n",
    "print(np.floor(np.log10(myerr)))"
   ]
  },
  {
   "cell_type": "markdown",
   "metadata": {},
   "source": [
    "###### How does the NumPy Cholesky factorization perform with the same unit test?"
   ]
  },
  {
   "cell_type": "code",
   "execution_count": 104,
   "metadata": {},
   "outputs": [
    {
     "name": "stdout",
     "output_type": "stream",
     "text": [
      "[-14. -13. -13. -13. -13. -13. -13. -13. -13. -13. -13. -12. -12. -12.\n",
      " -12. -12. -12. -12. -12. -12. -12. -12. -12. -12. -12. -12. -12. -12.\n",
      " -12. -12. -12. -12. -12. -12. -12. -12. -12. -12. -12. -12. -12. -12.\n",
      " -12. -12. -12. -12. -12. -12. -11. -11. -11. -11. -11. -11. -11. -11.\n",
      " -11. -11. -11. -11. -11. -11. -11. -11. -11. -11. -11. -11. -11. -11.\n",
      " -11. -11. -11. -11. -11. -11. -11. -11. -11. -11. -11. -11. -11. -11.\n",
      " -11. -11. -11. -11. -11. -11. -11. -11. -11. -11. -11. -11. -11.]\n"
     ]
    }
   ],
   "source": [
    "err = []\n",
    "np.random.seed(42)\n",
    "for n in range(4,101):\n",
    "    A = np.random.randn(n,n)*10 + np.eye(n)*10 # A will certainly be SPD\n",
    "    A = np.dot(A,A.T) # Uncomment to test symmetric exception\n",
    "    #A = A - np.diag(np.diag(A)) + np.eye(n) # Uncomment to test positive definite exception\n",
    "    L = np.linalg.cholesky(A)\n",
    "    err.append(np.linalg.norm(A - np.dot(L,L.T)))\n",
    "print(np.floor(np.log10(err)))"
   ]
  },
  {
   "cell_type": "code",
   "execution_count": 107,
   "metadata": {},
   "outputs": [
    {
     "name": "stdout",
     "output_type": "stream",
     "text": [
      "[1. 0. 0. 0. 0. 1. 0. 1. 0. 1. 1. 0. 0. 0. 0. 0. 0. 0. 0. 0. 0. 0. 0. 0.\n",
      " 0. 0. 0. 0. 0. 0. 0. 0. 0. 0. 0. 0. 0. 0. 0. 0. 0. 0. 1. 1. 0. 1. 1. 1.\n",
      " 0. 0. 0. 0. 0. 0. 0. 0. 0. 0. 0. 0. 0. 0. 0. 0. 0. 0. 0. 0. 0. 0. 0. 0.\n",
      " 0. 0. 0. 0. 0. 0. 0. 0. 0. 0. 0. 0. 0. 0. 0. 0. 0. 0. 0. 0. 0. 0. 0. 0.\n",
      " 0.]\n",
      "10.0\n"
     ]
    }
   ],
   "source": [
    "print(abs(np.floor(np.log10(err))-np.floor(np.log10(myerr))))\n",
    "print(sum(abs(np.floor(np.log10(err))-np.floor(np.log10(myerr)))))"
   ]
  },
  {
   "cell_type": "markdown",
   "metadata": {},
   "source": [
    "-[back to top](#Cholesky-Factorization-Unit-Test)"
   ]
  },
  {
   "cell_type": "code",
   "execution_count": null,
   "metadata": {},
   "outputs": [],
   "source": []
  }
 ],
 "metadata": {
  "kernelspec": {
   "display_name": "Python 3",
   "language": "python",
   "name": "python3"
  },
  "language_info": {
   "codemirror_mode": {
    "name": "ipython",
    "version": 3
   },
   "file_extension": ".py",
   "mimetype": "text/x-python",
   "name": "python",
   "nbconvert_exporter": "python",
   "pygments_lexer": "ipython3",
   "version": "3.7.0"
  }
 },
 "nbformat": 4,
 "nbformat_minor": 1
}
