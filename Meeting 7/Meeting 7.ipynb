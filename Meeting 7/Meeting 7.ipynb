{
 "cells": [
  {
   "cell_type": "code",
   "execution_count": 3,
   "metadata": {},
   "outputs": [],
   "source": [
    "import numpy as np\n",
    "from scipy.sparse import diags"
   ]
  },
  {
   "cell_type": "markdown",
   "metadata": {},
   "source": [
    "# Construct Tridiagonal A and random b"
   ]
  },
  {
   "cell_type": "code",
   "execution_count": 7,
   "metadata": {},
   "outputs": [
    {
     "name": "stdout",
     "output_type": "stream",
     "text": [
      "[[-2.  1.  0. ...  0.  0.  0.]\n",
      " [ 1. -2.  1. ...  0.  0.  0.]\n",
      " [ 0.  1. -2. ...  0.  0.  0.]\n",
      " ...\n",
      " [ 0.  0.  0. ... -2.  1.  0.]\n",
      " [ 0.  0.  0. ...  1. -2.  1.]\n",
      " [ 0.  0.  0. ...  0.  1. -2.]]\n",
      "[0.37454012 0.95071431 0.73199394 0.59865848 0.15601864 0.15599452\n",
      " 0.05808361 0.86617615 0.60111501 0.70807258 0.02058449 0.96990985\n",
      " 0.83244264 0.21233911 0.18182497 0.18340451 0.30424224 0.52475643\n",
      " 0.43194502 0.29122914 0.61185289 0.13949386 0.29214465 0.36636184\n",
      " 0.45606998 0.78517596 0.19967378 0.51423444 0.59241457 0.04645041\n",
      " 0.60754485 0.17052412]\n"
     ]
    }
   ],
   "source": [
    "np.random.seed(42)\n",
    "n = 32\n",
    "#b=np.ones(n)  #Simple way to see how elimination affects augmented matrix \n",
    "b = np.random.rand(n) #Random vector of n elements\n",
    "d = np.ones(n) # diagonals\n",
    "d0 = d*-2 #Scale the main diagonal\n",
    "d1 = d\n",
    "A = diags([d0, d1, d1], [0, 1, -1],dtype=float).toarray() #This is the tridiagonal matrix A matrix\n",
    "print(A)\n",
    "print(b)"
   ]
  },
  {
   "cell_type": "code",
   "execution_count": 8,
   "metadata": {},
   "outputs": [],
   "source": [
    "#Use old forwards backwards methods\n",
    "def solveX(U,y):\n",
    "    m,n=U.shape #Get Shape\n",
    "    x=np.zeros(m) #Null Vector\n",
    "    for i in range(n-1,-1,-1): #Solve\n",
    "        x[i]=(y[i]-np.dot(U[i,:],x))/U[i,i] #By working backward and updatign as before, we solve Ux=y\n",
    "    return x\n",
    "\n",
    "def solveY(L,b):   \n",
    "    m,n=L.shape # Get Shape\n",
    "    y=np.zeros(m) #Null Vector\n",
    "    for i in range(0,m): #Solve\n",
    "        y[i]=(b[i]-np.dot(L[i,:],y))/L[i,i] #By Working Forward and updating Y and then dotting, we can solve Ly=b\n",
    "    return y\n",
    "\n",
    "#Implement Smarter Solver\n",
    "def myTridiagSolver(A,R,s): #Original Matrix, RHS, stencil\n",
    "    a=s[0] #Get stencil values\n",
    "    b=s[1]\n",
    "    c=s[2]\n",
    "    cStar=np.zeros(A.shape[0]-1)\n",
    "    cStar[0]=c/b #Compute First Value\n",
    "    RStar=np.zeros(A.shape[0])\n",
    "    RStar[0]=R[0]/b #Compute First Value\n",
    "    for i in range(1,cStar.shape[0]):\n",
    "        cStar[i]=c/(b-cStar[i-1]*a) #Next off Diagonal\n",
    "        RStar[i]=(R[i]-RStar[i-1]*a)/(b-cStar[i-1]*a) #Next adjusted RHS\n",
    "    RStar[i+1]=(R[i+1]-RStar[i]*a)/(b-cStar[i]*a) #Final RHS\n",
    "    d = np.ones(n) # diagonal\n",
    "    AStar=diags([d, cStar], [0, 1]).toarray() #Make my adjusted Array\n",
    "    x=solveX(AStar,RStar) #Do back sub\n",
    "    return x"
   ]
  },
  {
   "cell_type": "code",
   "execution_count": 12,
   "metadata": {},
   "outputs": [
    {
     "name": "stdout",
     "output_type": "stream",
     "text": [
      "b= [0.37454012 0.95071431 0.73199394 0.59865848 0.15601864 0.15599452\n",
      " 0.05808361 0.86617615 0.60111501 0.70807258 0.02058449 0.96990985\n",
      " 0.83244264 0.21233911 0.18182497 0.18340451 0.30424224 0.52475643\n",
      " 0.43194502 0.29122914 0.61185289 0.13949386 0.29214465 0.36636184\n",
      " 0.45606998 0.78517596 0.19967378 0.51423444 0.59241457 0.04645041\n",
      " 0.60754485 0.17052412]\n",
      "Ax= [0.37454012 0.95071431 0.73199394 0.59865848 0.15601864 0.15599452\n",
      " 0.05808361 0.86617615 0.60111501 0.70807258 0.02058449 0.96990985\n",
      " 0.83244264 0.21233911 0.18182497 0.18340451 0.30424224 0.52475643\n",
      " 0.43194502 0.29122914 0.61185289 0.13949386 0.29214465 0.36636184\n",
      " 0.45606998 0.78517596 0.19967378 0.51423444 0.59241457 0.04645041\n",
      " 0.60754485 0.17052412]\n"
     ]
    }
   ],
   "source": [
    "#Test\n",
    "print(\"b=\",b)\n",
    "x=myTridiagSolver(A,b,[1,-2,1])\n",
    "print(\"Ax=\",np.dot(A,x))"
   ]
  },
  {
   "cell_type": "code",
   "execution_count": null,
   "metadata": {},
   "outputs": [],
   "source": []
  },
  {
   "cell_type": "code",
   "execution_count": null,
   "metadata": {},
   "outputs": [],
   "source": []
  },
  {
   "cell_type": "code",
   "execution_count": 16,
   "metadata": {},
   "outputs": [],
   "source": [
    "#Bring back my old Cholesky algorithm\n",
    "def myCholesky(A):\n",
    "    # A must be a square matrix symmetric positive definite matrix for Cholesky factorization.\n",
    "    # If the user wants to factor a nonsquare matrix, they can use QR factorization for example\n",
    "    if A.shape[0] != A.shape[1]:\n",
    "        raise Exception('m = {} not equal to n = {}. A must be a square matrix for Cholesky factorization, resize or try QR.'.format(A.shape[0],A.shape[1]))\n",
    "    if np.linalg.norm(A-A.T) > np.finfo(float).eps:\n",
    "        raise Exception('A must be symmetric positive definite.')\n",
    "    n = A.shape[0]\n",
    "    R = A.copy()     \n",
    "    \n",
    "    # INSERT YOUR CHOLESKY FACTORIZATION CODE HERE\n",
    "    # THE TREFETHEN & BAU PSEUDOCODE ON PAGE 175 IS PRETTY STRAIGHT FORWARD WITH ONE CAVEAT:\n",
    "    # WARNING! MAKE SURE THAT YOU \"ELIMINATE\" (OR ZERO OUT) THE LOWER PART OF R\n",
    "    for k in range(0,n):\n",
    "        for j in range(k+1,n):\n",
    "            #print(-R[k,j:n]*np.conj(R[k,j])/R[k,k]+R[j,j:n])\n",
    "            R[j,j:n]-=R[k,j:n]*np.conj(R[k,j])/R[k,k]#+R[j,j:n]\n",
    "            #R[j,j:n]=R[j,j:n]-R[k,j:n]*np.conj(R[k,j])/R[k,k]\n",
    "        R[k,k:n]=R[k,k:n]/np.sqrt(R[k,k])\n",
    "    for k in range(0,n):\n",
    "        for j in range(k+1,n):\n",
    "            R[j,k]=0\n",
    "    # Return the upper triangular Cholesky matrix\n",
    "    return R"
   ]
  },
  {
   "cell_type": "code",
   "execution_count": 20,
   "metadata": {},
   "outputs": [
    {
     "name": "stdout",
     "output_type": "stream",
     "text": [
      "x= [  58.74493796  152.41306704   96.60894754   69.55640417 -221.16746206\n",
      "  328.02608751 -496.98591377  245.12414997   93.28682472  146.04951219\n",
      " -240.61642544   45.93950289  263.56431957   60.46340411 -100.29265254\n",
      "  -13.88060599]\n",
      "b= [ 1.26691115 -0.70766947  0.44381943  0.77463405 -0.92693047 -0.05952536\n",
      " -3.24126734 -1.02438764 -0.25256815 -1.24778318  1.6324113  -1.43014138\n",
      " -0.44004449  0.13074058  1.44127329 -1.43586215]\n",
      "Ax= [ 1.26691115 -0.70766947  0.44381943  0.77463405 -0.92693047 -0.05952536\n",
      " -3.24126734 -1.02438764 -0.25256815 -1.24778318  1.6324113  -1.43014138\n",
      " -0.44004449  0.13074058  1.44127329 -1.43586215]\n"
     ]
    }
   ],
   "source": [
    "#Construct As Specified\n",
    "np.random.seed(42)\n",
    "A=np.random.randn(16,16)*10 + np.eye(16)*10\n",
    "A = np.dot(A,A.T)\n",
    "b = np.random.randn(16)\n",
    "#Do the Decomp\n",
    "R=myCholesky(A)\n",
    "y=solveY(R.T,b) #R.Ty=b\n",
    "x=solveX(R,y) #Rx=y\n",
    "#print(\"A=\",A)\n",
    "print(\"x=\",x)\n",
    "print(\"b=\",b)\n",
    "print(\"Ax=\",np.matmul(A,x))"
   ]
  },
  {
   "cell_type": "code",
   "execution_count": 21,
   "metadata": {},
   "outputs": [
    {
     "name": "stdout",
     "output_type": "stream",
     "text": [
      "Error= [-1.61402003e-11 -3.83100218e-11 -2.15305551e-11  3.56421559e-11\n",
      "  1.38237088e-10  1.58759533e-11 -1.40683021e-11  1.06485709e-10\n",
      "  1.15204679e-10  9.61231095e-11 -1.65067959e-12 -4.61051197e-11\n",
      " -1.10908338e-10 -2.22102448e-10  9.89948123e-11  3.02446956e-11]\n"
     ]
    }
   ],
   "source": [
    "#Error Check\n",
    "print(\"Error=\",np.matmul(A,x)-b)"
   ]
  },
  {
   "cell_type": "code",
   "execution_count": null,
   "metadata": {},
   "outputs": [],
   "source": []
  }
 ],
 "metadata": {
  "kernelspec": {
   "display_name": "Python 3",
   "language": "python",
   "name": "python3"
  },
  "language_info": {
   "codemirror_mode": {
    "name": "ipython",
    "version": 3
   },
   "file_extension": ".py",
   "mimetype": "text/x-python",
   "name": "python",
   "nbconvert_exporter": "python",
   "pygments_lexer": "ipython3",
   "version": "3.7.0"
  }
 },
 "nbformat": 4,
 "nbformat_minor": 2
}
