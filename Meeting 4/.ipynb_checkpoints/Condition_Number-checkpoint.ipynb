{
 "cells": [
  {
   "cell_type": "markdown",
   "metadata": {},
   "source": [
    "# Condition Number and the Matrix 2-norm"
   ]
  },
  {
   "cell_type": "code",
   "execution_count": 1,
   "metadata": {},
   "outputs": [],
   "source": [
    "import numpy as np\n",
    "import matplotlib.pyplot as plt\n",
    "%matplotlib inline"
   ]
  },
  {
   "cell_type": "markdown",
   "metadata": {},
   "source": [
    "### Sections\n",
    "- [Characterization of the 2-norm](#Characterization-of-the-2-norm)\n",
    "- [Condition Number Exploration](#Condition-Number-Exploration)\n",
    "- [Condition Number Interpretation](#Condition-Number-Interpretation)"
   ]
  },
  {
   "cell_type": "markdown",
   "metadata": {},
   "source": [
    "### Characterization of the 2-norm"
   ]
  },
  {
   "cell_type": "markdown",
   "metadata": {},
   "source": [
    "###### Confirm the characterization that $||A||_2 = \\mu$ where $A^TAz = \\mu^2z$ is the largest eigenvalue of $A^TA$. That is, $\\mu$ is the square root of the largest eigenvalue of $A^TA$."
   ]
  },
  {
   "cell_type": "code",
   "execution_count": 2,
   "metadata": {},
   "outputs": [
    {
     "name": "stdout",
     "output_type": "stream",
     "text": [
      "A=\n",
      "[[0.5488135  0.71518937 0.60276338 0.54488318 0.4236548  0.64589411\n",
      "  0.43758721]\n",
      " [0.891773   0.96366276 0.38344152 0.79172504 0.52889492 0.56804456\n",
      "  0.92559664]\n",
      " [0.07103606 0.0871293  0.0202184  0.83261985 0.77815675 0.87001215\n",
      "  0.97861834]\n",
      " [0.79915856 0.46147936 0.78052918 0.11827443 0.63992102 0.14335329\n",
      "  0.94466892]]\n",
      "A^tA=\n",
      "[[2.26105862 2.83713535 1.8870034  2.08062598]\n",
      " [2.83713535 3.95689453 2.62584452 2.84457103]\n",
      " [1.8870034  2.62584452 3.02644515 1.75838443]\n",
      " [2.08062598 2.84457103 1.75838443 2.79728069]]\n"
     ]
    }
   ],
   "source": [
    "np.random.seed(0)\n",
    "A = np.random.rand(4,7)\n",
    "ATA = A.dot(A.T)\n",
    "print('A=\\n{}'.format(A))\n",
    "print('A^tA=\\n{}'.format(ATA))"
   ]
  },
  {
   "cell_type": "code",
   "execution_count": 3,
   "metadata": {},
   "outputs": [
    {
     "name": "stdout",
     "output_type": "stream",
     "text": [
      "-----------------------------------------------------------------------\n",
      "Eigenvalues of A^tA = [10.20013264  0.14233927  0.47390625  1.22530084]\n",
      "-----------------------------------------------------------------------\n",
      "Square root of max eigenvalue of A^tA = 3.1938\n",
      "2-norm of A = 3.1938\n",
      "-----------------------------------------------------------------------\n"
     ]
    }
   ],
   "source": [
    "print('-'*71)\n",
    "D,V = np.linalg.eig(ATA)\n",
    "print('Eigenvalues of A^tA = {}'.format(D))\n",
    "print('-'*71)\n",
    "print('Square root of max eigenvalue of A^tA = {:1.4f}'.format(np.sqrt(D.max())))\n",
    "print('2-norm of A = {:1.4f}'.format(np.linalg.norm(A,2)))\n",
    "print('-'*71)"
   ]
  },
  {
   "cell_type": "markdown",
   "metadata": {},
   "source": [
    "[back to top](#Sections)"
   ]
  },
  {
   "cell_type": "markdown",
   "metadata": {},
   "source": [
    "### Condition Number Exploration"
   ]
  },
  {
   "cell_type": "markdown",
   "metadata": {},
   "source": [
    "###### Change the top line to access examples 1, 2, or 3."
   ]
  },
  {
   "cell_type": "code",
   "execution_count": 4,
   "metadata": {},
   "outputs": [
    {
     "name": "stdout",
     "output_type": "stream",
     "text": [
      "[[1 2]\n",
      " [0 2]]\n"
     ]
    }
   ],
   "source": [
    "eg = 1\n",
    "if eg == 1:\n",
    "    # Example 1 -- Symmetric matrix\n",
    "    A = np.array([[1, 2], [0, 2]])\n",
    "elif eg == 2:\n",
    "    # Example 2 -- Wilson matrix\n",
    "    A = np.array([[10, 7],[7, 5]])\n",
    "elif eg == 3:\n",
    "    # Example 3 -- Tunable well to ill-conditioned matrix\n",
    "    s = 0.1          # Try increasing s = 0, 0.9, 1.0, 1.2, 1.4, ...\n",
    "    ep = 1+10**-s\n",
    "    A = np.array([[ep, 1],[1, 1]])\n",
    "print(A)"
   ]
  },
  {
   "cell_type": "markdown",
   "metadata": {},
   "source": [
    "###### Compute the 2-norm and condition number of $A$"
   ]
  },
  {
   "cell_type": "code",
   "execution_count": 5,
   "metadata": {},
   "outputs": [
    {
     "name": "stdout",
     "output_type": "stream",
     "text": [
      "-------------------------------------------------\n",
      "||A||_2 = 2.9208\n",
      "Square root of max eigenvalue of A^tA = 2.9208\n",
      "-------------------------------------------------\n",
      "cond_2(A) = 4.2656\n",
      "Ratio of max to min eigenvalueS of A^TA = 4.2656\n",
      "-------------------------------------------------\n"
     ]
    }
   ],
   "source": [
    "print('-'*49)\n",
    "print('||A||_2 = {:2.4f}'.format(np.linalg.norm(A,2)))\n",
    "v,P = np.linalg.eig(A.T.dot(A))\n",
    "print('Square root of max eigenvalue of A^tA = {:2.4f}'.format(np.sqrt(v.max())))\n",
    "print('-'*49)\n",
    "print('cond_2(A) = {:2.4f}'.format(np.linalg.cond(A,2)))\n",
    "print('Ratio of max to min eigenvalueS of A^TA = {:2.4f}'.format(np.sqrt(v.max()/v.min())))\n",
    "print('-'*49)"
   ]
  },
  {
   "cell_type": "markdown",
   "metadata": {},
   "source": [
    "###### How does a matrix act on a unit circle? i.e. What does matrix multiplication look like geometrically?"
   ]
  },
  {
   "cell_type": "code",
   "execution_count": 6,
   "metadata": {},
   "outputs": [
    {
     "data": {
      "image/png": "[encoded data removed]",
      "text/plain": [
       "<Figure size 432x288 with 1 Axes>"
      ]
     },
     "metadata": {
      "needs_background": "light"
     },
     "output_type": "display_data"
    }
   ],
   "source": [
    "# Construct a unit circle representing the terminal points of a set of unit vectors\n",
    "npts = 200\n",
    "x = np.linspace(-1,1,npts)\n",
    "y = np.sqrt(1-x**2)\n",
    "# Construct unit vectors that trace out the unit circle\n",
    "circ = np.hstack([np.array([x, y]),np.array([-x, -y])]) #<-- stack to top and bottom of the circle\n",
    "# Construct the ellipse by multiplying A by the unit (circle) vectors\n",
    "b = np.dot(A,circ)\n",
    "ax = np.linalg.norm(b,1)/np.sqrt(2)\n",
    "# Display the results\n",
    "plt.plot(circ[0,:],circ[1,:],'b',b[0,:],b[1,:],'r')\n",
    "plt.axis([-ax, ax, -ax, ax])\n",
    "plt.legend(['unit circle $x$','$b = Ax$'],loc='lower right');"
   ]
  },
  {
   "cell_type": "markdown",
   "metadata": {},
   "source": [
    "###### The eigenvalues (of a symmetric matrix) can help us determine the axes of the ellipse:\n",
    "* minor axis component 1: $\\lambda_{\\min}v^{\\min}_{1}$\n",
    "* minor axis component 2: $\\lambda_{\\min}v^{\\min}_{2}$\n",
    "* major axis component 1: $\\lambda_{\\max}v^{\\max}_{1}$\n",
    "* major axis component 2: $\\lambda_{\\max}v^{\\max}_{2}$"
   ]
  },
  {
   "cell_type": "code",
   "execution_count": 7,
   "metadata": {},
   "outputs": [
    {
     "name": "stdout",
     "output_type": "stream",
     "text": [
      "Eigenvalues of A = [1. 2.]\n",
      "\n",
      "Eigenvectors of A = \n",
      "[[1.         0.89442719]\n",
      " [0.         0.4472136 ]]\n",
      "Note: eigenvectors are stored in the columns\n",
      "\n",
      "Length of minor axis is 1.0\n",
      "Length of major axis is 2.0\n",
      "\n",
      "Note: ratio of ellipse major to minor axis length is: 2.0\n",
      "Note: cond(A) = ||A^-1||||A|| = 4.265564437074638\n"
     ]
    }
   ],
   "source": [
    "# Here is a peek at the output of the eig function\n",
    "v,P = np.linalg.eig(A)\n",
    "axratio = abs(max(v))/abs(min(v))\n",
    "print('Eigenvalues of A = {}'.format(v))\n",
    "print('')\n",
    "print('Eigenvectors of A = \\n{}'.format(P))\n",
    "print('Note: eigenvectors are stored in the columns')\n",
    "print('')\n",
    "print('Length of minor axis is {}'.format(abs(min(v))))\n",
    "print('Length of major axis is {}'.format(abs(max(v))))\n",
    "print('')\n",
    "print('Note: ratio of ellipse major to minor axis length is: {}'.format(axratio))\n",
    "print('Note: cond(A) = ||A^-1||||A|| = {}'.format(np.linalg.cond(A)))"
   ]
  },
  {
   "cell_type": "markdown",
   "metadata": {},
   "source": [
    "[back to top](#Sections)"
   ]
  },
  {
   "cell_type": "markdown",
   "metadata": {},
   "source": [
    "### Condition Number Interpretation"
   ]
  },
  {
   "cell_type": "markdown",
   "metadata": {},
   "source": [
    "###### How does the condition number (ratio of ellipse axis lengths) relate to how well $A^{-1}$ solves the system $Ax = b$? In other words, why should we care HOW we solve the matrix equation?"
   ]
  },
  {
   "cell_type": "markdown",
   "metadata": {},
   "source": [
    "###### Randomly perturb the right-hand side of $Ax = b$ with $b+\\delta b$ and overlay this pertubed vector on the ellipse $Ax$ (which should equal $b$)."
   ]
  },
  {
   "cell_type": "code",
   "execution_count": 8,
   "metadata": {},
   "outputs": [
    {
     "name": "stdout",
     "output_type": "stream",
     "text": [
      "aspect ratio of ellipse axes, i.e. cond(A) = 2.0\n"
     ]
    },
    {
     "data": {
      "image/png": "[encoded data removed]",
      "text/plain": [
       "<Figure size 432x288 with 1 Axes>"
      ]
     },
     "metadata": {
      "needs_background": "light"
     },
     "output_type": "display_data"
    }
   ],
   "source": [
    "# Compute the eigenvectors and eigenvalues of A\n",
    "v,P = np.linalg.eig(A)\n",
    "# Obtain the indices of the max and min eigenvalues.\n",
    "mx = np.argmax(abs(v))\n",
    "mn = np.argmin(abs(v))\n",
    "# Axes created by eigenvectors -- scaled by eigenvalues\n",
    "# Construct the minor and major axes of the ellipse b = A*xx (from above)\n",
    "minorx = np.linspace(0,v[mn]*P[0,mn],npts)\n",
    "minory = np.linspace(0,v[mn]*P[1,mn],npts)\n",
    "majorx = np.linspace(0,v[mx]*P[0,mx],npts)\n",
    "majory = np.linspace(0,v[mx]*P[1,mx],npts)\n",
    "# Compute the ratio of the largest to the smallest eigenvalue, i.e. condition number\n",
    "axratio = abs(max(v))/abs(min(v))\n",
    "print('aspect ratio of ellipse axes, i.e. cond(A) = {}'.format(axratio))\n",
    "# Construct small random perturbations to the ellipse\n",
    "db = np.random.rand(2,b.shape[1])*(-1)**np.round(np.random.rand(2,b.shape[1]))*5e-2\n",
    "bdb = b + db\n",
    "# Display the error cloud b + db with the minor and major axes of the ellipse, b\n",
    "plt.plot(b[0,:],b[1,:],'r',bdb[0,:],bdb[1,:],'m.')\n",
    "plt.plot(minorx,minory,'k',majorx,majory,'k');"
   ]
  },
  {
   "cell_type": "markdown",
   "metadata": {},
   "source": [
    "###### Observe what happens if we apply $A^{-1}$ to the ellipse, $b+\\delta b$. Note that we should recover the unit circle $x$."
   ]
  },
  {
   "cell_type": "code",
   "execution_count": null,
   "metadata": {},
   "outputs": [],
   "source": [
    "err = np.linalg.solve(A,bdb)\n",
    "plt.plot(circ[0,:],circ[1,:],'b')\n",
    "plt.plot(err[0,:],err[1,:],'c.')\n",
    "ax = np.max([abs(err[0,:]),abs(err[1,:])])*1.5\n",
    "plt.axis([-ax,ax,-ax,ax]);"
   ]
  },
  {
   "cell_type": "markdown",
   "metadata": {},
   "source": [
    "[back to top](#Sections)"
   ]
  }
 ],
 "metadata": {
  "kernelspec": {
   "display_name": "Python 3",
   "language": "python",
   "name": "python3"
  },
  "language_info": {
   "codemirror_mode": {
    "name": "ipython",
    "version": 3
   },
   "file_extension": ".py",
   "mimetype": "text/x-python",
   "name": "python",
   "nbconvert_exporter": "python",
   "pygments_lexer": "ipython3",
   "version": "3.7.0"
  }
 },
 "nbformat": 4,
 "nbformat_minor": 1
}
