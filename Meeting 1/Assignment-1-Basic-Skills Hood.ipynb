{
 "cells": [
  {
   "cell_type": "markdown",
   "metadata": {},
   "source": [
    "# Assignment 1 Basic Skills"
   ]
  },
  {
   "cell_type": "markdown",
   "metadata": {},
   "source": [
    "###### In the cell below import the numpy and pyplot while naming the packages using the typical naming conventions. Add the magic Python command for keeping the plots inline with this notebook."
   ]
  },
  {
   "cell_type": "code",
   "execution_count": 1,
   "metadata": {},
   "outputs": [],
   "source": [
    "# There should be three lines of code\n",
    "import numpy as np\n",
    "import matplotlib.pyplot as plt\n",
    "%matplotlib inline"
   ]
  },
  {
   "cell_type": "markdown",
   "metadata": {},
   "source": [
    "###### Below is an array, w, containing all ones. Use slicing to alter the array and produce\n",
    "w = [1. 4. 2. 4. 2. 4. 2. 4. 2. 4. 2. 4. 2. 4. 2. 4. 1.]"
   ]
  },
  {
   "cell_type": "code",
   "execution_count": 2,
   "metadata": {},
   "outputs": [
    {
     "name": "stdout",
     "output_type": "stream",
     "text": [
      "[1. 1. 1. 1. 1. 1. 1. 1. 1. 1. 1. 1. 1. 1. 1. 1. 1.]\n",
      "[1. 4. 2. 4. 2. 4. 2. 4. 2. 4. 2. 4. 2. 4. 2. 4. 1.]\n"
     ]
    }
   ],
   "source": [
    "w = np.ones(17)\n",
    "print(w)\n",
    "# Expect roughly two lines of code\n",
    "w[1:17:2]=4\n",
    "w[2:16:2]=2\n",
    "print(w) # If you did not simply redefine w, replace it with your new variable name."
   ]
  },
  {
   "cell_type": "markdown",
   "metadata": {},
   "source": [
    "###### Create a numerical grid with 17 points for [-1/2, 1/2] and evaluate $f(x) = \\cos(\\pi x)$ at each of those points. Call this array y. You should obtain\n",
    "x = [-0.5    -0.4375 -0.375  -0.3125 -0.25   -0.1875 -0.125  -0.0625  0. 0.0625  0.125   0.1875  0.25    0.3125  0.375   0.4375  0.5   ]\n",
    "\n",
    "y = [6.12323400e-17 1.95090322e-01 3.82683432e-01 5.55570233e-01\n",
    " 7.07106781e-01 8.31469612e-01 9.23879533e-01 9.80785280e-01\n",
    " 1.00000000e+00 9.80785280e-01 9.23879533e-01 8.31469612e-01\n",
    " 7.07106781e-01 5.55570233e-01 3.82683432e-01 1.95090322e-01\n",
    " 6.12323400e-17]"
   ]
  },
  {
   "cell_type": "code",
   "execution_count": 3,
   "metadata": {},
   "outputs": [
    {
     "name": "stdout",
     "output_type": "stream",
     "text": [
      "[-0.5    -0.4375 -0.375  -0.3125 -0.25   -0.1875 -0.125  -0.0625  0.\n",
      "  0.0625  0.125   0.1875  0.25    0.3125  0.375   0.4375  0.5   ]\n",
      "[6.12323400e-17 1.95090322e-01 3.82683432e-01 5.55570233e-01\n",
      " 7.07106781e-01 8.31469612e-01 9.23879533e-01 9.80785280e-01\n",
      " 1.00000000e+00 9.80785280e-01 9.23879533e-01 8.31469612e-01\n",
      " 7.07106781e-01 5.55570233e-01 3.82683432e-01 1.95090322e-01\n",
      " 6.12323400e-17]\n"
     ]
    }
   ],
   "source": [
    "# Expect roughly two lines of code unless you add print statements, then add two more lines.\n",
    "x=np.linspace(-1/2,1/2,17)\n",
    "y=np.cos(np.pi*x)\n",
    "print(x)\n",
    "print(y)"
   ]
  },
  {
   "cell_type": "markdown",
   "metadata": {},
   "source": [
    "###### Approximate $$\\int_{-\\frac12}^\\frac12\\cos(\\pi x)\\,dx$$ using Simpson's rule\n",
    "$$\\int_a^bf(x)\\,dx\\approx\\frac{\\Delta x}3\\left[f(x_0) + 4f(x_1) + 2f(x_2) + 4f(x_3) + 2f(x_4) + \\ldots + 4f(x_{n-1}) + f(x_n)\\right]$$ where $\\Delta x = \\frac{b-a}{N-1}$ where $N$ is the number of grid points, in this case $N=17$."
   ]
  },
  {
   "cell_type": "code",
   "execution_count": 4,
   "metadata": {},
   "outputs": [
    {
     "name": "stdout",
     "output_type": "stream",
     "text": [
      "0.6366250534621614\n"
     ]
    }
   ],
   "source": [
    "# Please be sure to re-use all of the code from above.\n",
    "dx=(1/2-(-1/2))/(17-1)\n",
    "x=np.linspace(-1/2,1/2,17)\n",
    "fx=np.cos(np.pi*x)\n",
    "w = np.ones(17)\n",
    "w[1:17:2]=4\n",
    "w[2:16:2]=2\n",
    "I=np.dot(fx,w)\n",
    "I=I*dx/3\n",
    "print(I)"
   ]
  },
  {
   "cell_type": "markdown",
   "metadata": {},
   "source": [
    "###### Construct a function that computes the factorial of a positive integer, call it myfactorial. Use a while loop to perform the computation. You may assume an intelligent user who will enter the correct input."
   ]
  },
  {
   "cell_type": "code",
   "execution_count": 5,
   "metadata": {},
   "outputs": [],
   "source": [
    "# Expect roughly 5 to 7 lines of code.\n",
    "def myfactorial(n):\n",
    "    i,f=1,1\n",
    "    while(i<=n):\n",
    "        f=f*i\n",
    "        i+=1\n",
    "    return f"
   ]
  },
  {
   "cell_type": "code",
   "execution_count": 6,
   "metadata": {},
   "outputs": [
    {
     "name": "stdout",
     "output_type": "stream",
     "text": [
      "The numpy math factorial is 5040 while myfactorial is 5040.\n"
     ]
    }
   ],
   "source": [
    "# Test your function by running this statement\n",
    "n = 7\n",
    "print('The numpy math factorial is {} while myfactorial is {}.'.format(np.math.factorial(n),myfactorial(n)))"
   ]
  },
  {
   "cell_type": "markdown",
   "metadata": {},
   "source": [
    "###### Repeat the last exercise but use np.prod() and a numpy array. Compute 7! again."
   ]
  },
  {
   "cell_type": "code",
   "execution_count": 7,
   "metadata": {},
   "outputs": [
    {
     "name": "stdout",
     "output_type": "stream",
     "text": [
      "5040.0\n",
      "5040\n"
     ]
    }
   ],
   "source": [
    "# Only one line of code here!\n",
    "S=np.prod(np.linspace(1,7,7))\n",
    "S2=np.prod(np.array([1,2,3,4,5,6,7]))\n",
    "print(S)\n",
    "print(S2)"
   ]
  },
  {
   "cell_type": "markdown",
   "metadata": {},
   "source": [
    "###### Use a for loop to compute the sum $$\\sum_{k=0}^9(-1)^k\\frac{3^{2k+1}}{(2k+1)!}$$"
   ]
  },
  {
   "cell_type": "code",
   "execution_count": 8,
   "metadata": {},
   "outputs": [
    {
     "name": "stdout",
     "output_type": "stream",
     "text": [
      "0.14112000785871492\n"
     ]
    }
   ],
   "source": [
    "# Expect roughly 3 to 4 lines of code.\n",
    "S=0\n",
    "for k in range(0,10):\n",
    "    S=S+((-1)**k)*(3**(2*k+1))/(np.math.factorial(2*k+1))\n",
    "print(S)"
   ]
  },
  {
   "cell_type": "markdown",
   "metadata": {},
   "source": [
    "###### Plot $f(x) = \\sqrt{\\sin(x)+1}$ over $[-\\frac\\pi2,\\frac{7\\pi}2]$ using 500 grid points. Be sure to label the axes."
   ]
  },
  {
   "cell_type": "code",
   "execution_count": 9,
   "metadata": {},
   "outputs": [
    {
     "data": {
      "image/png": "[encoded data removed]",
      "text/plain": [
       "<Figure size 432x288 with 1 Axes>"
      ]
     },
     "metadata": {
      "needs_background": "light"
     },
     "output_type": "display_data"
    }
   ],
   "source": [
    "x=np.linspace(-np.pi/2,7*np.pi/2,500)\n",
    "f=np.sqrt(np.sin(x)+1)\n",
    "plt.plot(x,f);\n",
    "plt.xlabel('$x$');\n",
    "plt.ylabel('$f(x)$');\n",
    "plt.title(\"$f(x)=\\sqrt{\\sin(x)+1},\\ x\\in [-\\pi/2,\\ 7\\pi /2]$\");"
   ]
  },
  {
   "cell_type": "code",
   "execution_count": null,
   "metadata": {},
   "outputs": [],
   "source": []
  }
 ],
 "metadata": {
  "kernelspec": {
   "display_name": "Python 2",
   "language": "python",
   "name": "python2"
  },
  "language_info": {
   "codemirror_mode": {
    "name": "ipython",
    "version": 2
   },
   "file_extension": ".py",
   "mimetype": "text/x-python",
   "name": "python",
   "nbconvert_exporter": "python",
   "pygments_lexer": "ipython2",
   "version": "2.7.14"
  }
 },
 "nbformat": 4,
 "nbformat_minor": 2
}
