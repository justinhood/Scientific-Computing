{
 "cells": [
  {
   "cell_type": "code",
   "execution_count": 1,
   "metadata": {},
   "outputs": [],
   "source": [
    "import numpy as np\n",
    "import matplotlib.pyplot as plt\n",
    "%matplotlib inline"
   ]
  },
  {
   "cell_type": "markdown",
   "metadata": {},
   "source": [
    "# 10.2"
   ]
  },
  {
   "cell_type": "code",
   "execution_count": 2,
   "metadata": {},
   "outputs": [],
   "source": [
    "def house(A):\n",
    "    m,n = A.shape\n",
    "    sgn=1\n",
    "    W=np.zeros((m,n))\n",
    "    for k in range(0,n):\n",
    "        x=A[k:m,k]\n",
    "        if(x[0]<0):\n",
    "            sgn=-1\n",
    "        else:\n",
    "            sgn=1\n",
    "        v=sgn*np.linalg.norm(x)*np.identity(m-k)[0]+x\n",
    "        v=v/np.linalg.norm(v)\n",
    "        V=np.outer(v,v)\n",
    "        A[k:m, k:n] = A[k:m, k:n]- 2*np.matmul(V,A[k:m, k:n])\n",
    "        W[k:m,k]=v\n",
    "    R=A\n",
    "    return W, R"
   ]
  },
  {
   "cell_type": "code",
   "execution_count": 3,
   "metadata": {},
   "outputs": [],
   "source": [
    "def formQ(W):\n",
    "    m,n = W.shape\n",
    "    Q=np.identity(m)\n",
    "    for k in range(0,m):\n",
    "        Q[:,k]=mult(W,Q[:,k])\n",
    "    return Q\n",
    "def mult(W,x):\n",
    "    m,n = W.shape\n",
    "    for k in range(n-1,-1,-1):\n",
    "        x[k:m]=x[k:m]-2*W[k:m,k]*np.dot(W[k:m,k],x[k:m])\n",
    "    return x"
   ]
  },
  {
   "cell_type": "code",
   "execution_count": 63,
   "metadata": {},
   "outputs": [
    {
     "name": "stdout",
     "output_type": "stream",
     "text": [
      "[[-0.10101525 -0.31617307  0.5419969  -0.68420846 -0.35767115]\n",
      " [-0.40406102 -0.3533699   0.51618752  0.32800841  0.58122744]\n",
      " [-0.70710678 -0.39056673 -0.52479065  0.00939722 -0.26826124]\n",
      " [-0.40406102  0.55795248  0.38714064  0.36559727 -0.49181753]\n",
      " [-0.40406102  0.55795248 -0.12044376 -0.53899869  0.46946506]]\n",
      "[[-9.89949494e+00 -9.49543392e+00 -9.69746443e+00]\n",
      " [-8.88178420e-16 -3.29191961e+00 -3.01294337e+00]\n",
      " [ 0.00000000e+00 -1.11022302e-16  1.97011572e+00]\n",
      " [-8.88178420e-16  0.00000000e+00  2.22044605e-16]\n",
      " [-8.88178420e-16  0.00000000e+00 -5.55111512e-17]]\n",
      "[[1. 2. 3.]\n",
      " [4. 5. 6.]\n",
      " [7. 8. 7.]\n",
      " [4. 2. 3.]\n",
      " [4. 2. 2.]]\n"
     ]
    }
   ],
   "source": [
    "Z=np.array([[1.,2.,3.],[4.,5.,6.],[7.,8.,7.],[4.,2.,3.],[4.,2.,2.]])\n",
    "W, R = house(Z)\n",
    "Q= formQ(W)\n",
    "print(Q)\n",
    "print(R)\n",
    "print(np.matmul(Q,R))"
   ]
  },
  {
   "cell_type": "code",
   "execution_count": 64,
   "metadata": {},
   "outputs": [
    {
     "name": "stdout",
     "output_type": "stream",
     "text": [
      "Q = \n",
      "[[-0.10101525 -0.31617307  0.5419969 ]\n",
      " [-0.40406102 -0.3533699   0.51618752]\n",
      " [-0.70710678 -0.39056673 -0.52479065]\n",
      " [-0.40406102  0.55795248  0.38714064]\n",
      " [-0.40406102  0.55795248 -0.12044376]]\n",
      "R = \n",
      "[[-9.89949494 -9.49543392 -9.69746443]\n",
      " [ 0.         -3.29191961 -3.01294337]\n",
      " [ 0.          0.          1.97011572]]\n"
     ]
    }
   ],
   "source": [
    "Z=np.array([[1,2,3],[4,5,6],[7,8,7],[4,2,3],[4,2,2]])\n",
    "q,r = np.linalg.qr(Z)\n",
    "print('Q = \\n{}'.format(q))\n",
    "print('R = \\n{}'.format(r))"
   ]
  },
  {
   "cell_type": "code",
   "execution_count": null,
   "metadata": {},
   "outputs": [],
   "source": []
  },
  {
   "cell_type": "code",
   "execution_count": null,
   "metadata": {},
   "outputs": [],
   "source": []
  },
  {
   "cell_type": "code",
   "execution_count": null,
   "metadata": {},
   "outputs": [],
   "source": []
  },
  {
   "cell_type": "markdown",
   "metadata": {},
   "source": [
    "# 11.3"
   ]
  },
  {
   "cell_type": "code",
   "execution_count": 72,
   "metadata": {},
   "outputs": [
    {
     "name": "stdout",
     "output_type": "stream",
     "text": [
      "X shape = (50, 12)\n",
      "A = X^T*X shape = (12, 12)\n"
     ]
    },
    {
     "data": {
      "image/png": "[encoded data removed]",
      "text/plain": [
       "<Figure size 432x288 with 1 Axes>"
      ]
     },
     "metadata": {
      "needs_background": "light"
     },
     "output_type": "display_data"
    }
   ],
   "source": [
    "t=np.linspace(0,1,50)\n",
    "b=np.cos(4*t)\n",
    "X=np.fliplr(np.vander(t))[:,0:12]\n",
    "print('X shape = {}'.format(X.shape))\n",
    "A = np.dot(X.T,X)\n",
    "print('A = X^T*X shape = {}'.format(A.shape))\n",
    "plt.plot(t,b);\n",
    "rhs=np.dot(X.T,b)"
   ]
  },
  {
   "cell_type": "markdown",
   "metadata": {},
   "source": [
    "# C"
   ]
  },
  {
   "cell_type": "code",
   "execution_count": 75,
   "metadata": {},
   "outputs": [
    {
     "name": "stdout",
     "output_type": "stream",
     "text": [
      "Regression weights via QR = [ 9.99999965e-01  9.89744053e-06 -8.00036462e+00  5.28307607e-03\n",
      "  1.06268415e+01  1.77250777e-01 -6.18607371e+00  9.07429419e-01\n",
      "  5.36945497e-01  8.54534036e-01 -7.27027786e-01  1.51528342e-01]\n"
     ]
    }
   ],
   "source": [
    "t=np.linspace(0,1,50)\n",
    "b=np.cos(4*t)\n",
    "X=np.fliplr(np.vander(t))[:,0:12]\n",
    "A = np.dot(X.T,X)\n",
    "rhs=np.dot(X.T,b)\n",
    "\n",
    "W, R = house(A)\n",
    "Q= formQ(W)\n",
    "myrhs = np.dot((X.dot(Q)).T,b) #(XQ)^Ty\n",
    "myw = np.linalg.solve(R,myrhs) # R^{-1}(XQ)^Ty\n",
    "print('Regression weights via QR = {}'.format(myw))"
   ]
  },
  {
   "cell_type": "markdown",
   "metadata": {},
   "source": [
    "# D"
   ]
  },
  {
   "cell_type": "code",
   "execution_count": 76,
   "metadata": {},
   "outputs": [
    {
     "name": "stdout",
     "output_type": "stream",
     "text": [
      "Regression weights via QR = [ 1.00000000e+00 -9.94740618e-07 -7.99995997e+00 -6.31067578e-04\n",
      "  1.06718219e+01 -2.46299875e-02 -5.61634536e+00 -1.31769086e-01\n",
      "  1.76052853e+00 -4.33928336e-02 -3.53561659e-01  8.42969439e-02]\n"
     ]
    }
   ],
   "source": [
    "t=np.linspace(0,1,50)\n",
    "b=np.cos(4*t)\n",
    "X=np.fliplr(np.vander(t))[:,0:12]\n",
    "A = np.dot(X.T,X)\n",
    "rhs=np.dot(X.T,b)\n",
    "\n",
    "q,r = np.linalg.qr(A,mode='complete')\n",
    "qrrhs = np.dot((X.dot(q)).T,b) #(XQ)^Ty\n",
    "wqr = np.linalg.solve(r,qrrhs) # R^{-1}(XQ)^Ty\n",
    "print('Regression weights via QR = {}'.format(wqr))"
   ]
  },
  {
   "cell_type": "markdown",
   "metadata": {},
   "source": [
    "# E"
   ]
  },
  {
   "cell_type": "code",
   "execution_count": 77,
   "metadata": {},
   "outputs": [
    {
     "name": "stdout",
     "output_type": "stream",
     "text": [
      "Regression weights via numpy least-squares = [ 0.98415953 -2.3320192 ]\n"
     ]
    }
   ],
   "source": [
    "t=np.linspace(0,1,50)\n",
    "b=np.cos(4*t)\n",
    "X=np.fliplr(np.vander(t))[:,0:12]\n",
    "A = np.dot(X.T,X)\n",
    "rhs=np.dot(X.T,b)\n",
    "\n",
    "Xstar = np.c_[np.ones(len(t)),t]\n",
    "w = np.linalg.lstsq(Xstar, b, rcond=None)\n",
    "print('Regression weights via numpy least-squares = {}'.format(w[0]))"
   ]
  },
  {
   "cell_type": "markdown",
   "metadata": {},
   "source": [
    "# F"
   ]
  },
  {
   "cell_type": "code",
   "execution_count": 78,
   "metadata": {},
   "outputs": [
    {
     "data": {
      "text/plain": [
       "array([ 1.00000002e+00, -5.39628415e-06, -7.99979563e+00, -3.04152962e-03,\n",
       "        1.06902040e+01, -1.07307655e-01, -5.38261914e+00, -5.58696749e-01,\n",
       "        2.26380379e+00, -4.13094342e-01, -1.99662154e-01,  5.65711860e-02])"
      ]
     },
     "execution_count": 78,
     "metadata": {},
     "output_type": "execute_result"
    }
   ],
   "source": [
    "t=np.linspace(0,1,50)\n",
    "b=np.cos(4*t)\n",
    "X=np.fliplr(np.vander(t))[:,0:12]\n",
    "A = np.dot(X.T,X)\n",
    "rhs=np.dot(X.T,b)\n",
    "\n",
    "u, s, vh = np.linalg.svd(A,full_matrices=True)\n",
    "u.shape, s.shape, vh.shape\n",
    "smat = np.zeros((12, 12))\n",
    "smat[:12, :12] = np.diag(s)\n",
    "np.dot(vh.T,np.linalg.solve(smat,np.dot(u.T,rhs)))"
   ]
  },
  {
   "cell_type": "code",
   "execution_count": 80,
   "metadata": {},
   "outputs": [
    {
     "name": "stdout",
     "output_type": "stream",
     "text": [
      "Regression weights via numpy least-squares = [ 9.99999998e-01  4.45051150e-07 -8.00001394e+00  1.63352031e-04\n",
      "  1.06657424e+01  2.80287590e-03 -5.69413128e+00  1.07113916e-02\n",
      "  1.59213815e+00  8.05965161e-02 -4.05287869e-01  9.36342942e-02]\n"
     ]
    }
   ],
   "source": [
    "t=np.linspace(0,1,50)\n",
    "b=np.cos(4*t)\n",
    "X=np.fliplr(np.vander(t))[:,0:12]\n",
    "A = np.dot(X.T,X)\n",
    "rhs=np.dot(X.T,b)\n",
    "\n",
    "wtrue=np.linalg.solve(A,rhs)\n",
    "print('Regression weights via numpy least-squares = {}'.format(wtrue))"
   ]
  },
  {
   "cell_type": "code",
   "execution_count": null,
   "metadata": {},
   "outputs": [],
   "source": []
  },
  {
   "cell_type": "code",
   "execution_count": null,
   "metadata": {},
   "outputs": [],
   "source": []
  }
 ],
 "metadata": {
  "kernelspec": {
   "display_name": "Python 3",
   "language": "python",
   "name": "python3"
  },
  "language_info": {
   "codemirror_mode": {
    "name": "ipython",
    "version": 3
   },
   "file_extension": ".py",
   "mimetype": "text/x-python",
   "name": "python",
   "nbconvert_exporter": "python",
   "pygments_lexer": "ipython3",
   "version": "3.7.0"
  }
 },
 "nbformat": 4,
 "nbformat_minor": 2
}
