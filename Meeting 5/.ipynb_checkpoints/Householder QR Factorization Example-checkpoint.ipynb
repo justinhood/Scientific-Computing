{
 "cells": [
  {
   "cell_type": "markdown",
   "metadata": {},
   "source": [
    "# Householder QR Factorization"
   ]
  },
  {
   "cell_type": "code",
   "execution_count": 2,
   "metadata": {},
   "outputs": [],
   "source": [
    "import numpy as np\n",
    "import matplotlib.pyplot as plt"
   ]
  },
  {
   "cell_type": "code",
   "execution_count": 3,
   "metadata": {},
   "outputs": [
    {
     "name": "stdout",
     "output_type": "stream",
     "text": [
      "A = \n",
      "[[-5. -9.  8.]\n",
      " [ 7.  8. -7.]\n",
      " [ 5. -9. -6.]\n",
      " [ 2. -8.  6.]]\n"
     ]
    }
   ],
   "source": [
    "# Initialization\n",
    "np.random.seed(43)\n",
    "A = np.random.randint(-9,9,[4,3])*1.\n",
    "#A = np.array([[1,2,3],[4,5,6],[7,8,7],[4,2,3],[4,2,2]])*1.\n",
    "m, n = A.shape\n",
    "Rtemp = A.copy()\n",
    "R = np.eye(m,n)\n",
    "Q = np.eye(m)\n",
    "print('A = \\n{}'.format(A))"
   ]
  },
  {
   "cell_type": "code",
   "execution_count": 4,
   "metadata": {},
   "outputs": [
    {
     "name": "stdout",
     "output_type": "stream",
     "text": [
      "v = [-15.14889157   7.           5.           2.        ]\n"
     ]
    }
   ],
   "source": [
    "# Householder Vector\n",
    "x = Rtemp[:,0]\n",
    "e1 = np.eye(len(x))[:,0]\n",
    "beta = np.linalg.norm(x)\n",
    "v = np.sign(x)*beta*e1 + x\n",
    "print('v = {}'.format(v))"
   ]
  },
  {
   "cell_type": "code",
   "execution_count": 6,
   "metadata": {},
   "outputs": [
    {
     "name": "stdout",
     "output_type": "stream",
     "text": [
      "H = \n",
      "[[-0.49266464  0.68973049  0.49266464  0.19706586]\n",
      " [ 0.68973049  0.68128932 -0.22765048 -0.09106019]\n",
      " [ 0.49266464 -0.22765048  0.83739251 -0.06504299]\n",
      " [ 0.19706586 -0.09106019 -0.06504299  0.9739828 ]]\n",
      "R = H*A = \n",
      "[[-5. -9.  8.]\n",
      " [ 7.  8. -7.]\n",
      " [ 5. -9. -6.]\n",
      " [ 2. -8.  6.]]\n"
     ]
    }
   ],
   "source": [
    "# First Iteration\n",
    "#R = H1*A\n",
    "H = np.eye(m) - 2*np.outer(v,v)/np.dot(v,v)\n",
    "print('H = \\n{}'.format(H))\n",
    "Rtemp = H.dot(Rtemp)\n",
    "R[:1,0] = Rtemp[:1,0]\n",
    "Q = Q.dot(H)\n",
    "print('R = H*A = \\n{}'.format(Rtemp))"
   ]
  },
  {
   "cell_type": "code",
   "execution_count": 6,
   "metadata": {},
   "outputs": [
    {
     "name": "stdout",
     "output_type": "stream",
     "text": [
      "v = [ 18.58709204 -13.27137426  -9.70854971]\n"
     ]
    }
   ],
   "source": [
    "# Householder Vector\n",
    "x = Rtemp[1:,1]\n",
    "e1 = np.eye(len(x))[:,0]\n",
    "beta = np.linalg.norm(x)\n",
    "v = np.sign(x)*beta*e1 + x\n",
    "print('v = {}'.format(v))"
   ]
  },
  {
   "cell_type": "code",
   "execution_count": 7,
   "metadata": {},
   "outputs": [
    {
     "name": "stdout",
     "output_type": "stream",
     "text": [
      "H2 = \n",
      "[[ 1.          0.          0.          0.        ]\n",
      " [ 0.         -0.12193361  0.8010721   0.5860168 ]\n",
      " [ 0.          0.8010721   0.42802631 -0.418422  ]\n",
      " [ 0.          0.5860168  -0.418422    0.6939073 ]]\n",
      "H2*H1*A = \n",
      "[[ 1.01488916e+01  3.94131711e+00 -1.05430233e+01]\n",
      " [ 4.77518686e-17 -1.65670160e+01  4.85582931e+00]\n",
      " [ 1.87949281e-16  0.00000000e+00 -2.22702904e+00]\n",
      " [-2.46986720e-16 -8.88178420e-16  6.73096750e+00]]\n"
     ]
    }
   ],
   "source": [
    "# Second Iteration\n",
    "#R = H2*H1*A\n",
    "H = np.eye(m)\n",
    "H[1:,1:] = np.eye(m-1) - 2*np.outer(v,v)/np.dot(v,v)\n",
    "print('H2 = \\n{}'.format(H))\n",
    "Rtemp = H.dot(Rtemp)\n",
    "R[:2,1] = Rtemp[:2,1]\n",
    "Q = Q.dot(H)\n",
    "print('H2*H1*A = \\n{}'.format(Rtemp))"
   ]
  },
  {
   "cell_type": "code",
   "execution_count": 8,
   "metadata": {},
   "outputs": [
    {
     "name": "stdout",
     "output_type": "stream",
     "text": [
      "v = [-9.31685146  6.7309675 ]\n"
     ]
    }
   ],
   "source": [
    "# Householder Vector\n",
    "x = Rtemp[2:,2]\n",
    "e1 = np.eye(len(x))[:,0]\n",
    "beta = np.linalg.norm(x)\n",
    "v = np.sign(x)*beta*e1 + x\n",
    "print('v = {}'.format(v))"
   ]
  },
  {
   "cell_type": "code",
   "execution_count": 9,
   "metadata": {},
   "outputs": [
    {
     "name": "stdout",
     "output_type": "stream",
     "text": [
      "H3 = \n",
      "[[ 1.          0.          0.          0.        ]\n",
      " [ 0.          1.          0.          0.        ]\n",
      " [ 0.          0.         -0.31411634  0.9493845 ]\n",
      " [ 0.          0.          0.9493845   0.31411634]]\n",
      "H3*H2*H1*A = \n",
      "[[ 1.01488916e+01  3.94131711e+00 -1.05430233e+01]\n",
      " [ 4.77518686e-17 -1.65670160e+01  4.85582931e+00]\n",
      " [-2.93523303e-16 -8.43222824e-16  7.08982242e+00]\n",
      " [ 1.00853571e-16 -2.78991351e-16  4.44089210e-16]]\n"
     ]
    }
   ],
   "source": [
    "# Third Iteration\n",
    "#R = H3*H2*H1*A\n",
    "H = np.eye(m)\n",
    "H[2:,2:] = np.eye(m-2) - 2*np.outer(v,v)/np.dot(v,v)\n",
    "print('H3 = \\n{}'.format(H))\n",
    "Rtemp = H.dot(Rtemp)\n",
    "R[:3,2] = Rtemp[:3,2]\n",
    "Q = Q.dot(H)\n",
    "print('H3*H2*H1*A = \\n{}'.format(Rtemp))"
   ]
  },
  {
   "cell_type": "code",
   "execution_count": 11,
   "metadata": {},
   "outputs": [
    {
     "name": "stdout",
     "output_type": "stream",
     "text": [
      "Q = \n",
      "[[-0.49266464  0.42604247  0.10395687  0.75163977]\n",
      " [ 0.68973049 -0.31879932  0.25668904  0.59728517]\n",
      " [ 0.49266464  0.66045373 -0.56600513  0.02684428]\n",
      " [ 0.19706586  0.52976945  0.77649334 -0.27850938]]\n",
      "R = \n",
      "[[ 10.14889157   3.94131711 -10.54302328]\n",
      " [  0.         -16.56701601   4.85582931]\n",
      " [  0.           0.           7.08982242]\n",
      " [  0.           0.           0.        ]]\n",
      "QR = \n",
      "[[-5. -9.  8.]\n",
      " [ 7.  8. -7.]\n",
      " [ 5. -9. -6.]\n",
      " [ 2. -8.  6.]]\n",
      "A = \n",
      "[[-5. -9.  8.]\n",
      " [ 7.  8. -7.]\n",
      " [ 5. -9. -6.]\n",
      " [ 2. -8.  6.]]\n",
      "NumPy Q = \n",
      "[[-0.49266464  0.42604247  0.10395687  0.75163977]\n",
      " [ 0.68973049 -0.31879932  0.25668904  0.59728517]\n",
      " [ 0.49266464  0.66045373 -0.56600513  0.02684428]\n",
      " [ 0.19706586  0.52976945  0.77649334 -0.27850938]]\n",
      "NumPy R = \n",
      "[[ 10.14889157   3.94131711 -10.54302328]\n",
      " [  0.         -16.56701601   4.85582931]\n",
      " [  0.           0.           7.08982242]\n",
      " [  0.           0.           0.        ]]\n"
     ]
    }
   ],
   "source": [
    "q,r = np.linalg.qr(A) # reduced\n",
    "#q,r = np.linalg.qr(A,mode='complete')\n",
    "print('Q = \\n{}'.format(Q))\n",
    "print('R = \\n{}'.format(R))\n",
    "print('QR = \\n{}'.format(np.dot(Q,R)))\n",
    "print('A = \\n{}'.format(A))\n",
    "print('NumPy Q = \\n{}'.format(q))\n",
    "print('NumPy R = \\n{}'.format(r))"
   ]
  },
  {
   "cell_type": "code",
   "execution_count": 18,
   "metadata": {},
   "outputs": [
    {
     "data": {
      "image/png": "[encoded data removed]",
      "text/plain": [
       "<Figure size 432x288 with 1 Axes>"
      ]
     },
     "metadata": {
      "needs_background": "light"
     },
     "output_type": "display_data"
    }
   ],
   "source": [
    "plt.spy(np.dot(Q,Q.T),precision=3.0e-16,marker='.',markersize=5,color='r');"
   ]
  },
  {
   "cell_type": "code",
   "execution_count": null,
   "metadata": {},
   "outputs": [],
   "source": []
  }
 ],
 "metadata": {
  "kernelspec": {
   "display_name": "Python 3",
   "language": "python",
   "name": "python3"
  },
  "language_info": {
   "codemirror_mode": {
    "name": "ipython",
    "version": 3
   },
   "file_extension": ".py",
   "mimetype": "text/x-python",
   "name": "python",
   "nbconvert_exporter": "python",
   "pygments_lexer": "ipython3",
   "version": "3.7.0"
  }
 },
 "nbformat": 4,
 "nbformat_minor": 2
}
