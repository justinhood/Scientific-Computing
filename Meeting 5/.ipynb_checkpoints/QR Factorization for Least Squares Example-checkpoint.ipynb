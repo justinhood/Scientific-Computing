{
 "cells": [
  {
   "cell_type": "markdown",
   "metadata": {},
   "source": [
    "# QR Factorization for Least-squares Problems"
   ]
  },
  {
   "cell_type": "code",
   "execution_count": 2,
   "metadata": {},
   "outputs": [],
   "source": [
    "import numpy as np\n",
    "import matplotlib.pyplot as plt\n",
    "%matplotlib inline"
   ]
  },
  {
   "cell_type": "markdown",
   "metadata": {},
   "source": [
    "### Sections\n",
    "- [QR Factorization](#QR-Factorization)\n",
    "- [Display the Results Comparing QR and NumPy](#Display-the-Results-Comparing-QR-and-NumPy)"
   ]
  },
  {
   "cell_type": "code",
   "execution_count": 3,
   "metadata": {},
   "outputs": [],
   "source": [
    "x = np.array([-0.09635663, -0.85826044, -0.41441194, -0.69529059, -0.16502725, -0.73742134,\n",
    "  0.20823561, -0.23438388,  0.79077177,  0.93558934,  0.0937698,  -0.45035286,\n",
    "  0.18446084,  0.79352232, -0.18653331,  0.10415655, -0.45669446, -0.0891117,\n",
    " -0.19657293, -0.50317307,  0.01173277, -0.37923835, -0.25393027,  0.04994088,\n",
    "  0.50119005, -0.33298507,  0.84831753,  0.72463709, -0.90261941, -0.49271495,\n",
    " -0.10772897, -0.79074422, -0.30304802,  0.48019505,  0.36102896,  0.24476886,\n",
    "  0.42105681, -0.59015263, -0.31660377,  0.35248496,  0.75846953,  0.08735611,\n",
    " -0.4346007,  -0.93952948,  0.42067366, -0.98423179, -0.25464186,  0.06107443,\n",
    "  0.84422292, -0.82101091])\n",
    "\n",
    "y = np.array([-3.57532577, -5.50855819, -3.67978748, -5.789096,   -4.03701914, -5.4862335,\n",
    " -2.47844626, -4.2624628,  -0.45792228,  0.00814666, -2.3143405,  -3.52657643,\n",
    " -2.40097367, -0.93870653, -3.62731602, -2.17633992, -3.83322247, -3.69769059,\n",
    " -3.74059169, -4.95862857, -2.14437582, -4.07316611, -3.90475032, -3.11539648,\n",
    " -0.89796797, -4.68785965, -0.70071312, -0.73247551, -5.59118345, -3.93664429,\n",
    " -3.39494122, -4.88801714, -3.70581013, -1.8999294,  -2.58070619, -2.72389502,\n",
    " -2.06555159, -4.25208157, -4.36148577, -1.21442169, -0.96966307, -3.14168158,\n",
    " -4.20363284, -5.49267736, -1.84825373, -5.47142953, -4.7866996,  -2.83455298,\n",
    " -1.99057678, -5.64906875])"
   ]
  },
  {
   "cell_type": "markdown",
   "metadata": {},
   "source": [
    "###### Display the Data"
   ]
  },
  {
   "cell_type": "code",
   "execution_count": 4,
   "metadata": {},
   "outputs": [
    {
     "data": {
      "image/png": "[encoded data removed]",
      "text/plain": [
       "<Figure size 432x288 with 1 Axes>"
      ]
     },
     "metadata": {
      "needs_background": "light"
     },
     "output_type": "display_data"
    }
   ],
   "source": [
    "plt.scatter(x,y,color='b')\n",
    "plt.xlabel('$x$')\n",
    "plt.ylabel('$y$');"
   ]
  },
  {
   "cell_type": "markdown",
   "metadata": {},
   "source": [
    "###### Formulate the Least-squares Problem using the Normal Equations\n",
    "\\begin{align*}\n",
    "Xw &= y\\\\\n",
    "X^TXw &= X^Ty\\\\\n",
    "QRw &= X^Ty\\\\\n",
    "Rw &= Q^TX^Ty\\\\\n",
    "w &= R^{-1}(XQ)^Ty\\\\\n",
    "\\end{align*}"
   ]
  },
  {
   "cell_type": "code",
   "execution_count": 5,
   "metadata": {},
   "outputs": [
    {
     "name": "stdout",
     "output_type": "stream",
     "text": [
      "X shape = (50, 2)\n",
      "A = X^T*X shape = (2, 2)\n"
     ]
    }
   ],
   "source": [
    "X = np.c_[np.ones(len(x)),x]\n",
    "print('X shape = {}'.format(X.shape))\n",
    "A = np.dot(X.T,X)\n",
    "print('A = X^T*X shape = {}'.format(A.shape))"
   ]
  },
  {
   "cell_type": "markdown",
   "metadata": {},
   "source": [
    "[back to top](#Sections)"
   ]
  },
  {
   "cell_type": "markdown",
   "metadata": {},
   "source": [
    "### QR Factorization"
   ]
  },
  {
   "cell_type": "code",
   "execution_count": 6,
   "metadata": {},
   "outputs": [
    {
     "name": "stdout",
     "output_type": "stream",
     "text": [
      "Q = \n",
      "[[-0.99725891  0.07399093]\n",
      " [ 0.07399093  0.99725891]]\n",
      "R = \n",
      "[[-50.13743098   4.73769049]\n",
      " [  0.          13.7177512 ]]\n"
     ]
    }
   ],
   "source": [
    "q,r = np.linalg.qr(A)\n",
    "print('Q = \\n{}'.format(q))\n",
    "print('R = \\n{}'.format(r))"
   ]
  },
  {
   "cell_type": "markdown",
   "metadata": {},
   "source": [
    "###### The following computation is performed in the first two lines below: $$w = R^{-1}(XQ)^Ty$$"
   ]
  },
  {
   "cell_type": "code",
   "execution_count": 7,
   "metadata": {},
   "outputs": [
    {
     "name": "stdout",
     "output_type": "stream",
     "text": [
      "Regression weights via QR = [-3.06656182  2.80684869]\n"
     ]
    }
   ],
   "source": [
    "qrrhs = np.dot((X.dot(q)).T,y) #(XQ)^Ty\n",
    "wqr = np.linalg.solve(r,qrrhs) # R^{-1}(XQ)^Ty\n",
    "print('Regression weights via QR = {}'.format(wqr))"
   ]
  },
  {
   "cell_type": "markdown",
   "metadata": {},
   "source": [
    "###### NumPy Least squares function does not require the normal equations to be set-up"
   ]
  },
  {
   "cell_type": "code",
   "execution_count": 8,
   "metadata": {},
   "outputs": [
    {
     "name": "stdout",
     "output_type": "stream",
     "text": [
      "Regression weights via numpy least-squares = [-3.06656182  2.80684869]\n"
     ]
    }
   ],
   "source": [
    "wlsq = np.linalg.lstsq(X,y,rcond=None)\n",
    "print('Regression weights via numpy least-squares = {}'.format(wlsq[0]))"
   ]
  },
  {
   "cell_type": "markdown",
   "metadata": {},
   "source": [
    "[back to top](#Sections)"
   ]
  },
  {
   "cell_type": "markdown",
   "metadata": {},
   "source": [
    "### Display the Results Comparing QR and NumPy"
   ]
  },
  {
   "cell_type": "markdown",
   "metadata": {},
   "source": [
    "###### QR Method for Least-squares"
   ]
  },
  {
   "cell_type": "code",
   "execution_count": 9,
   "metadata": {},
   "outputs": [
    {
     "data": {
      "image/png": "[encoded data removed]",
      "text/plain": [
       "<Figure size 432x288 with 1 Axes>"
      ]
     },
     "metadata": {
      "needs_background": "light"
     },
     "output_type": "display_data"
    }
   ],
   "source": [
    "plt.scatter(x,y,c='b')\n",
    "plt.plot(x,np.dot(X,wqr),'r')\n",
    "plt.xlabel('$x$')\n",
    "plt.ylabel('$y$');"
   ]
  },
  {
   "cell_type": "markdown",
   "metadata": {},
   "source": [
    "###### NumPy Least-squares"
   ]
  },
  {
   "cell_type": "code",
   "execution_count": 10,
   "metadata": {},
   "outputs": [
    {
     "data": {
      "image/png": "[encoded data removed]",
      "text/plain": [
       "<Figure size 432x288 with 1 Axes>"
      ]
     },
     "metadata": {
      "needs_background": "light"
     },
     "output_type": "display_data"
    }
   ],
   "source": [
    "plt.scatter(x,y,c='b')\n",
    "plt.plot(x,np.dot(X,wlsq[0]),'r')\n",
    "plt.xlabel('$x$')\n",
    "plt.ylabel('$y$');"
   ]
  },
  {
   "cell_type": "markdown",
   "metadata": {},
   "source": [
    "[back to top](#Sections)"
   ]
  }
 ],
 "metadata": {
  "kernelspec": {
   "display_name": "Python 3",
   "language": "python",
   "name": "python3"
  },
  "language_info": {
   "codemirror_mode": {
    "name": "ipython",
    "version": 3
   },
   "file_extension": ".py",
   "mimetype": "text/x-python",
   "name": "python",
   "nbconvert_exporter": "python",
   "pygments_lexer": "ipython3",
   "version": "3.7.0"
  }
 },
 "nbformat": 4,
 "nbformat_minor": 2
}
